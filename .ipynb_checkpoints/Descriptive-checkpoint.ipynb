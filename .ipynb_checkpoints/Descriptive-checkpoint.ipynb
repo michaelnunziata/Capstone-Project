{
 "cells": [
  {
   "cell_type": "code",
   "execution_count": 1,
   "metadata": {},
   "outputs": [],
   "source": [
    "#importing the necessary packages\n",
    "import pandas as pd\n",
    "import numpy as np\n",
    "from datetime import datetime"
   ]
  },
  {
   "cell_type": "code",
   "execution_count": 2,
   "metadata": {},
   "outputs": [],
   "source": [
    "#Reading in each csv file for the years of customer data\n",
    "Customer2014 = pd.read_csv('East Rock_Customer_List_ALL_2014.csv', encoding = 'cp1252')\n",
    "Customer2015 = pd.read_csv('East Rock_Customer_List_ALL_2015.csv', encoding = 'cp1252')\n",
    "Customer2016 = pd.read_csv('East Rock_Customer_List_ALL_2016.csv', encoding = 'cp1252')\n",
    "Customer2017 = pd.read_csv('East Rock_Customer_List_ALL_2017.csv', encoding = 'cp1252')\n",
    "Customer2018 = pd.read_csv('East Rock_Customer_List_ALL_2018.csv', encoding = 'cp1252')\n",
    "Customer2019 = pd.read_csv('East Rock_Customer_List_ALL_2019.csv', encoding = 'cp1252')"
   ]
  },
  {
   "cell_type": "code",
   "execution_count": 3,
   "metadata": {},
   "outputs": [
    {
     "name": "stderr",
     "output_type": "stream",
     "text": [
      "/opt/tljh/user/lib/python3.6/site-packages/ipykernel_launcher.py:2: FutureWarning: Sorting because non-concatenation axis is not aligned. A future version\n",
      "of pandas will change to not sort by default.\n",
      "\n",
      "To accept the future behavior, pass 'sort=False'.\n",
      "\n",
      "To retain the current behavior and silence the warning, pass 'sort=True'.\n",
      "\n",
      "  \n"
     ]
    }
   ],
   "source": [
    "#Combining the six pandas DataFrames into one using the concatenate function\n",
    "data = pd.concat([Customer2014, Customer2015, Customer2016, Customer2017, Customer2018, Customer2019], axis=0)"
   ]
  },
  {
   "cell_type": "code",
   "execution_count": 4,
   "metadata": {},
   "outputs": [],
   "source": [
    "data = data.drop(['Address', 'Sales Agent', 'First Name', 'Last Name', 'Phone', 'Zip Code', 'Track Date Cancel Requested'], axis=1)"
   ]
  },
  {
   "cell_type": "code",
   "execution_count": 5,
   "metadata": {},
   "outputs": [],
   "source": [
    "#Spliting the Created column into two rows with the date and time as seperate columns\n",
    "data['date_created'], data['time_created'] = data['Created'].str.split(' ', 1).str"
   ]
  },
  {
   "cell_type": "code",
   "execution_count": 6,
   "metadata": {},
   "outputs": [
    {
     "name": "stdout",
     "output_type": "stream",
     "text": [
      "   #Prod                Agent Label +ID     CUSTOM Cancel Reason       City  \\\n",
      "0    1.0              Hospital (109465)  020 - Financial Reasons  Irvington   \n",
      "1    1.0             Newspaper (109455)  020 - Financial Reasons   Amherst    \n",
      "2    1.0   Angies List - Forte (109439)  020 - Financial Reasons      Barre   \n",
      "3    1.0             Newspaper (109455)  020 - Financial Reasons  Chicoppee   \n",
      "4    1.0  Client Referral 2322 (109402)  020 - Financial Reasons   chicopee   \n",
      "\n",
      "          Created         ID   Income  Last Pay Amount  Last Pay Complete  \\\n",
      "0   8/12/14 16:52  657938060  55490.0            29.95                1.0   \n",
      "1   6/16/14 15:40  657847231  77857.0            34.95                1.0   \n",
      "2   7/18/14 13:48  657897142  95647.0            34.95                1.0   \n",
      "3  10/30/14 20:01  658086304  35339.0            34.95                1.0   \n",
      "4   7/22/14 17:08  657903565  58782.0            34.95                1.0   \n",
      "\n",
      "  Last Pay Date  Last Pay Status Last Pay Type  Pay Method  \\\n",
      "0        9/3/14              0.0          Sale        Visa   \n",
      "1        7/3/14              0.0          Sale        Visa   \n",
      "2        8/5/14              0.0          Sale  MasterCard   \n",
      "3       11/1/14              0.0          Sale  MasterCard   \n",
      "4        9/3/14              0.0          Sale        Visa   \n",
      "\n",
      "                  Stage State          Status ZipCodeNew date_created  \\\n",
      "0  Call Center Notified    NJ  Decline Cancel       7111      8/12/14   \n",
      "1                   NaN    MA  Decline Cancel       1002      6/16/14   \n",
      "2                   NaN    MA  Decline Cancel       1005      7/18/14   \n",
      "3  Call Center Notified    MA  Decline Cancel       1013     10/30/14   \n",
      "4                   NaN    MA  Decline Cancel       1020      7/22/14   \n",
      "\n",
      "  time_created  \n",
      "0        16:52  \n",
      "1        15:40  \n",
      "2        13:48  \n",
      "3        20:01  \n",
      "4        17:08  \n"
     ]
    }
   ],
   "source": [
    "print(data.head())"
   ]
  },
  {
   "cell_type": "code",
   "execution_count": 7,
   "metadata": {},
   "outputs": [
    {
     "data": {
      "text/html": [
       "<div>\n",
       "<style scoped>\n",
       "    .dataframe tbody tr th:only-of-type {\n",
       "        vertical-align: middle;\n",
       "    }\n",
       "\n",
       "    .dataframe tbody tr th {\n",
       "        vertical-align: top;\n",
       "    }\n",
       "\n",
       "    .dataframe thead th {\n",
       "        text-align: right;\n",
       "    }\n",
       "</style>\n",
       "<table border=\"1\" class=\"dataframe\">\n",
       "  <thead>\n",
       "    <tr style=\"text-align: right;\">\n",
       "      <th></th>\n",
       "      <th>#Prod</th>\n",
       "      <th>Agent Label +ID</th>\n",
       "      <th>CUSTOM Cancel Reason</th>\n",
       "      <th>City</th>\n",
       "      <th>Created</th>\n",
       "      <th>ID</th>\n",
       "      <th>Income</th>\n",
       "      <th>Last Pay Amount</th>\n",
       "      <th>Last Pay Complete</th>\n",
       "      <th>Last Pay Date</th>\n",
       "      <th>...</th>\n",
       "      <th>Last Pay Type</th>\n",
       "      <th>Pay Method</th>\n",
       "      <th>Stage</th>\n",
       "      <th>State</th>\n",
       "      <th>Status</th>\n",
       "      <th>ZipCodeNew</th>\n",
       "      <th>date_created</th>\n",
       "      <th>time_created</th>\n",
       "      <th>days</th>\n",
       "      <th>months</th>\n",
       "    </tr>\n",
       "  </thead>\n",
       "  <tbody>\n",
       "    <tr>\n",
       "      <th>0</th>\n",
       "      <td>1.0</td>\n",
       "      <td>Hospital (109465)</td>\n",
       "      <td>020 - Financial Reasons</td>\n",
       "      <td>Irvington</td>\n",
       "      <td>8/12/14 16:52</td>\n",
       "      <td>657938060</td>\n",
       "      <td>55490.0</td>\n",
       "      <td>29.95</td>\n",
       "      <td>1.0</td>\n",
       "      <td>2014-09-03</td>\n",
       "      <td>...</td>\n",
       "      <td>Sale</td>\n",
       "      <td>Visa</td>\n",
       "      <td>Call Center Notified</td>\n",
       "      <td>NJ</td>\n",
       "      <td>Decline Cancel</td>\n",
       "      <td>7111</td>\n",
       "      <td>2014-08-12</td>\n",
       "      <td>16:52</td>\n",
       "      <td>22.0</td>\n",
       "      <td>0.733333</td>\n",
       "    </tr>\n",
       "    <tr>\n",
       "      <th>1</th>\n",
       "      <td>1.0</td>\n",
       "      <td>Newspaper (109455)</td>\n",
       "      <td>020 - Financial Reasons</td>\n",
       "      <td>Amherst</td>\n",
       "      <td>6/16/14 15:40</td>\n",
       "      <td>657847231</td>\n",
       "      <td>77857.0</td>\n",
       "      <td>34.95</td>\n",
       "      <td>1.0</td>\n",
       "      <td>2014-07-03</td>\n",
       "      <td>...</td>\n",
       "      <td>Sale</td>\n",
       "      <td>Visa</td>\n",
       "      <td>NaN</td>\n",
       "      <td>MA</td>\n",
       "      <td>Decline Cancel</td>\n",
       "      <td>1002</td>\n",
       "      <td>2014-06-16</td>\n",
       "      <td>15:40</td>\n",
       "      <td>17.0</td>\n",
       "      <td>0.566667</td>\n",
       "    </tr>\n",
       "    <tr>\n",
       "      <th>2</th>\n",
       "      <td>1.0</td>\n",
       "      <td>Angies List - Forte (109439)</td>\n",
       "      <td>020 - Financial Reasons</td>\n",
       "      <td>Barre</td>\n",
       "      <td>7/18/14 13:48</td>\n",
       "      <td>657897142</td>\n",
       "      <td>95647.0</td>\n",
       "      <td>34.95</td>\n",
       "      <td>1.0</td>\n",
       "      <td>2014-08-05</td>\n",
       "      <td>...</td>\n",
       "      <td>Sale</td>\n",
       "      <td>MasterCard</td>\n",
       "      <td>NaN</td>\n",
       "      <td>MA</td>\n",
       "      <td>Decline Cancel</td>\n",
       "      <td>1005</td>\n",
       "      <td>2014-07-18</td>\n",
       "      <td>13:48</td>\n",
       "      <td>18.0</td>\n",
       "      <td>0.600000</td>\n",
       "    </tr>\n",
       "    <tr>\n",
       "      <th>3</th>\n",
       "      <td>1.0</td>\n",
       "      <td>Newspaper (109455)</td>\n",
       "      <td>020 - Financial Reasons</td>\n",
       "      <td>Chicoppee</td>\n",
       "      <td>10/30/14 20:01</td>\n",
       "      <td>658086304</td>\n",
       "      <td>35339.0</td>\n",
       "      <td>34.95</td>\n",
       "      <td>1.0</td>\n",
       "      <td>2014-11-01</td>\n",
       "      <td>...</td>\n",
       "      <td>Sale</td>\n",
       "      <td>MasterCard</td>\n",
       "      <td>Call Center Notified</td>\n",
       "      <td>MA</td>\n",
       "      <td>Decline Cancel</td>\n",
       "      <td>1013</td>\n",
       "      <td>2014-10-30</td>\n",
       "      <td>20:01</td>\n",
       "      <td>2.0</td>\n",
       "      <td>0.066667</td>\n",
       "    </tr>\n",
       "    <tr>\n",
       "      <th>4</th>\n",
       "      <td>1.0</td>\n",
       "      <td>Client Referral 2322 (109402)</td>\n",
       "      <td>020 - Financial Reasons</td>\n",
       "      <td>chicopee</td>\n",
       "      <td>7/22/14 17:08</td>\n",
       "      <td>657903565</td>\n",
       "      <td>58782.0</td>\n",
       "      <td>34.95</td>\n",
       "      <td>1.0</td>\n",
       "      <td>2014-09-03</td>\n",
       "      <td>...</td>\n",
       "      <td>Sale</td>\n",
       "      <td>Visa</td>\n",
       "      <td>NaN</td>\n",
       "      <td>MA</td>\n",
       "      <td>Decline Cancel</td>\n",
       "      <td>1020</td>\n",
       "      <td>2014-07-22</td>\n",
       "      <td>17:08</td>\n",
       "      <td>43.0</td>\n",
       "      <td>1.433333</td>\n",
       "    </tr>\n",
       "  </tbody>\n",
       "</table>\n",
       "<p>5 rows × 21 columns</p>\n",
       "</div>"
      ],
      "text/plain": [
       "   #Prod                Agent Label +ID     CUSTOM Cancel Reason       City  \\\n",
       "0    1.0              Hospital (109465)  020 - Financial Reasons  Irvington   \n",
       "1    1.0             Newspaper (109455)  020 - Financial Reasons   Amherst    \n",
       "2    1.0   Angies List - Forte (109439)  020 - Financial Reasons      Barre   \n",
       "3    1.0             Newspaper (109455)  020 - Financial Reasons  Chicoppee   \n",
       "4    1.0  Client Referral 2322 (109402)  020 - Financial Reasons   chicopee   \n",
       "\n",
       "          Created         ID   Income  Last Pay Amount  Last Pay Complete  \\\n",
       "0   8/12/14 16:52  657938060  55490.0            29.95                1.0   \n",
       "1   6/16/14 15:40  657847231  77857.0            34.95                1.0   \n",
       "2   7/18/14 13:48  657897142  95647.0            34.95                1.0   \n",
       "3  10/30/14 20:01  658086304  35339.0            34.95                1.0   \n",
       "4   7/22/14 17:08  657903565  58782.0            34.95                1.0   \n",
       "\n",
       "  Last Pay Date    ...     Last Pay Type  Pay Method                 Stage  \\\n",
       "0    2014-09-03    ...              Sale        Visa  Call Center Notified   \n",
       "1    2014-07-03    ...              Sale        Visa                   NaN   \n",
       "2    2014-08-05    ...              Sale  MasterCard                   NaN   \n",
       "3    2014-11-01    ...              Sale  MasterCard  Call Center Notified   \n",
       "4    2014-09-03    ...              Sale        Visa                   NaN   \n",
       "\n",
       "  State          Status ZipCodeNew date_created time_created  days    months  \n",
       "0    NJ  Decline Cancel       7111   2014-08-12        16:52  22.0  0.733333  \n",
       "1    MA  Decline Cancel       1002   2014-06-16        15:40  17.0  0.566667  \n",
       "2    MA  Decline Cancel       1005   2014-07-18        13:48  18.0  0.600000  \n",
       "3    MA  Decline Cancel       1013   2014-10-30        20:01   2.0  0.066667  \n",
       "4    MA  Decline Cancel       1020   2014-07-22        17:08  43.0  1.433333  \n",
       "\n",
       "[5 rows x 21 columns]"
      ]
     },
     "execution_count": 7,
     "metadata": {},
     "output_type": "execute_result"
    }
   ],
   "source": [
    "data['date_created'] = pd.to_datetime(data['date_created'])\n",
    "data['Last Pay Date'] = pd.to_datetime(data['Last Pay Date'])\n",
    "data['days'] = (data['Last Pay Date'] - data['date_created']).dt.days\n",
    "data['months'] = data['days']/30\n",
    "data.head()"
   ]
  },
  {
   "cell_type": "code",
   "execution_count": 8,
   "metadata": {},
   "outputs": [
    {
     "name": "stdout",
     "output_type": "stream",
     "text": [
      "#Prod 39\n",
      "Agent Label +ID 0\n",
      "CUSTOM Cancel Reason 39455\n",
      "City 2\n",
      "Created 0\n",
      "ID 0\n",
      "Income 19270\n",
      "Last Pay Amount 6333\n",
      "Last Pay Complete 6333\n",
      "Last Pay Date 6333\n",
      "Last Pay Status 6333\n",
      "Last Pay Type 6554\n",
      "Pay Method 1770\n",
      "Stage 19737\n",
      "State 0\n",
      "Status 0\n",
      "ZipCodeNew 0\n",
      "date_created 0\n",
      "time_created 0\n",
      "days 6333\n",
      "months 6333\n"
     ]
    }
   ],
   "source": [
    "# Creating an empty list for column names\n",
    "names = []\n",
    "\n",
    "# Creating an empty list for the number of null values in each column\n",
    "values = []\n",
    "\n",
    "# Checking for Missing Values\n",
    "for col in data.columns:\n",
    "    names.append(col)\n",
    "    values.append(data[col].isnull().sum())\n",
    "    print(names[-1],values[-1])"
   ]
  },
  {
   "cell_type": "code",
   "execution_count": 9,
   "metadata": {},
   "outputs": [],
   "source": [
    "data = data[pd.notnull(data['Last Pay Date'])]"
   ]
  },
  {
   "cell_type": "code",
   "execution_count": 16,
   "metadata": {},
   "outputs": [
    {
     "name": "stdout",
     "output_type": "stream",
     "text": [
      "#Prod 0\n",
      "Agent Label +ID 0\n",
      "CUSTOM Cancel Reason 35099\n",
      "City 2\n",
      "Created 0\n",
      "ID 0\n",
      "Income 17564\n",
      "Last Pay Amount 0\n",
      "Last Pay Complete 0\n",
      "Last Pay Date 0\n",
      "Last Pay Status 0\n",
      "Last Pay Type 201\n",
      "Pay Method 27\n",
      "Stage 17159\n",
      "State 0\n",
      "Status 0\n",
      "ZipCodeNew 0\n",
      "date_created 0\n",
      "time_created 0\n",
      "days 0\n",
      "months 0\n"
     ]
    }
   ],
   "source": [
    "# Creating an empty list for column names\n",
    "names = []\n",
    "\n",
    "# Creating an empty list for the number of null values in each column\n",
    "values = []\n",
    "\n",
    "# Checking for Missing Values\n",
    "for col in data.columns:\n",
    "    names.append(col)\n",
    "    values.append(data[col].isnull().sum())\n",
    "    print(names[-1],values[-1])"
   ]
  },
  {
   "cell_type": "code",
   "execution_count": 17,
   "metadata": {},
   "outputs": [
    {
     "data": {
      "text/plain": [
       "(109019, 21)"
      ]
     },
     "execution_count": 17,
     "metadata": {},
     "output_type": "execute_result"
    }
   ],
   "source": [
    "data.shape"
   ]
  },
  {
   "cell_type": "code",
   "execution_count": 13,
   "metadata": {},
   "outputs": [],
   "source": [
    "data = data[~data['Stage'].isin(['Quick Cancel'])]"
   ]
  }
 ],
 "metadata": {
  "kernelspec": {
   "display_name": "Python 3",
   "language": "python",
   "name": "python3"
  },
  "language_info": {
   "codemirror_mode": {
    "name": "ipython",
    "version": 3
   },
   "file_extension": ".py",
   "mimetype": "text/x-python",
   "name": "python",
   "nbconvert_exporter": "python",
   "pygments_lexer": "ipython3",
   "version": "3.6.7"
  }
 },
 "nbformat": 4,
 "nbformat_minor": 2
}
