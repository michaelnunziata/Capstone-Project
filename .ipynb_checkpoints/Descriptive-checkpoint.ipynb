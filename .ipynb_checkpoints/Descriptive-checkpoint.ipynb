{
 "cells": [
  {
   "cell_type": "code",
   "execution_count": 1,
   "metadata": {},
   "outputs": [],
   "source": [
    "# Importing the necessary packages\n",
    "import pandas as pd\n",
    "import numpy as np\n",
    "from datetime import datetime"
   ]
  },
  {
   "cell_type": "code",
   "execution_count": 2,
   "metadata": {},
   "outputs": [],
   "source": [
    "# Reading in each csv file for the years of customer data\n",
    "data = pd.read_csv('data.csv', encoding = 'cp1252')"
   ]
  },
  {
   "cell_type": "code",
   "execution_count": 3,
   "metadata": {},
   "outputs": [],
   "source": [
    "# Spliting the Created column into two rows with the date and time as seperate columns\n",
    "data['date_created'], data['time_created'] = data['Created'].str.split(' ', 1).str"
   ]
  },
  {
   "cell_type": "code",
   "execution_count": 4,
   "metadata": {},
   "outputs": [
    {
     "name": "stdout",
     "output_type": "stream",
     "text": [
      "   #Prod                    Agent Label +ID      CUSTOM Cancel Reason  \\\n",
      "0    1.0      Church Bulletin 0011 (109398)  021 - No reason provided   \n",
      "1    1.0  Benefits and More 4 Paid (143595)   020 - Financial Reasons   \n",
      "2    1.0  Benefits and More 4 Paid (143595)                       NaN   \n",
      "3    1.0  Benefits and More 4 Paid (143595)   020 - Financial Reasons   \n",
      "4    1.0       Benefits and More 4 (116063)                       NaN   \n",
      "\n",
      "         Created           ID   Income  Last Pay Amount  Last Pay Complete  \\\n",
      "0  7/30/14 14:36  657917124.0  64780.0            34.95                1.0   \n",
      "1  10/5/15 19:15  658935850.0  64780.0            29.95                1.0   \n",
      "2   5/2/16 20:16  659370939.0  64780.0            29.95                1.0   \n",
      "3  4/22/16 19:55  659356995.0  64780.0            39.95                1.0   \n",
      "4  7/28/16 16:01  659940549.0  64780.0              NaN                NaN   \n",
      "\n",
      "  Last Pay Date  Last Pay Status Last Pay Type  Pay Method              Stage  \\\n",
      "0       8/25/14              1.0        Refund    Discover  Back in Inventory   \n",
      "1       10/5/15              1.0          Sale    Discover  Back in Inventory   \n",
      "2        5/2/16              1.0          Sale        Visa                NaN   \n",
      "3       5/12/16              1.0        Refund  MasterCard  Back in Inventory   \n",
      "4           NaN              NaN           NaN         ACH   Post Date Cancel   \n",
      "\n",
      "  State              Status  ZipCodeNew date_created time_created  \n",
      "0    MA   Returned <30 days      1001.0      7/30/14        14:36  \n",
      "1    MA  Returned < 90 days      1001.0      10/5/15        19:15  \n",
      "2    MA      Switched to LW      1001.0       5/2/16        20:16  \n",
      "3    MA   Returned <30 days      1001.0      4/22/16        19:55  \n",
      "4    ME      Order Canceled      1001.0      7/28/16        16:01  \n"
     ]
    }
   ],
   "source": [
    "# Printing out the first 5 rows of each column in the dataset\n",
    "print(data.head())"
   ]
  },
  {
   "cell_type": "code",
   "execution_count": 5,
   "metadata": {},
   "outputs": [
    {
     "data": {
      "text/html": [
       "<div>\n",
       "<style scoped>\n",
       "    .dataframe tbody tr th:only-of-type {\n",
       "        vertical-align: middle;\n",
       "    }\n",
       "\n",
       "    .dataframe tbody tr th {\n",
       "        vertical-align: top;\n",
       "    }\n",
       "\n",
       "    .dataframe thead th {\n",
       "        text-align: right;\n",
       "    }\n",
       "</style>\n",
       "<table border=\"1\" class=\"dataframe\">\n",
       "  <thead>\n",
       "    <tr style=\"text-align: right;\">\n",
       "      <th></th>\n",
       "      <th>#Prod</th>\n",
       "      <th>Agent Label +ID</th>\n",
       "      <th>CUSTOM Cancel Reason</th>\n",
       "      <th>Created</th>\n",
       "      <th>ID</th>\n",
       "      <th>Income</th>\n",
       "      <th>Last Pay Amount</th>\n",
       "      <th>Last Pay Complete</th>\n",
       "      <th>Last Pay Date</th>\n",
       "      <th>Last Pay Status</th>\n",
       "      <th>Last Pay Type</th>\n",
       "      <th>Pay Method</th>\n",
       "      <th>Stage</th>\n",
       "      <th>State</th>\n",
       "      <th>Status</th>\n",
       "      <th>ZipCodeNew</th>\n",
       "      <th>date_created</th>\n",
       "      <th>time_created</th>\n",
       "      <th>days</th>\n",
       "      <th>months</th>\n",
       "    </tr>\n",
       "  </thead>\n",
       "  <tbody>\n",
       "    <tr>\n",
       "      <th>0</th>\n",
       "      <td>1.0</td>\n",
       "      <td>Church Bulletin 0011 (109398)</td>\n",
       "      <td>021 - No reason provided</td>\n",
       "      <td>7/30/14 14:36</td>\n",
       "      <td>657917124.0</td>\n",
       "      <td>64780.0</td>\n",
       "      <td>34.95</td>\n",
       "      <td>1.0</td>\n",
       "      <td>2014-08-25</td>\n",
       "      <td>1.0</td>\n",
       "      <td>Refund</td>\n",
       "      <td>Discover</td>\n",
       "      <td>Back in Inventory</td>\n",
       "      <td>MA</td>\n",
       "      <td>Returned &lt;30 days</td>\n",
       "      <td>1001.0</td>\n",
       "      <td>2014-07-30</td>\n",
       "      <td>14:36</td>\n",
       "      <td>26.0</td>\n",
       "      <td>0.866667</td>\n",
       "    </tr>\n",
       "    <tr>\n",
       "      <th>1</th>\n",
       "      <td>1.0</td>\n",
       "      <td>Benefits and More 4 Paid (143595)</td>\n",
       "      <td>020 - Financial Reasons</td>\n",
       "      <td>10/5/15 19:15</td>\n",
       "      <td>658935850.0</td>\n",
       "      <td>64780.0</td>\n",
       "      <td>29.95</td>\n",
       "      <td>1.0</td>\n",
       "      <td>2015-10-05</td>\n",
       "      <td>1.0</td>\n",
       "      <td>Sale</td>\n",
       "      <td>Discover</td>\n",
       "      <td>Back in Inventory</td>\n",
       "      <td>MA</td>\n",
       "      <td>Returned &lt; 90 days</td>\n",
       "      <td>1001.0</td>\n",
       "      <td>2015-10-05</td>\n",
       "      <td>19:15</td>\n",
       "      <td>0.0</td>\n",
       "      <td>0.000000</td>\n",
       "    </tr>\n",
       "    <tr>\n",
       "      <th>2</th>\n",
       "      <td>1.0</td>\n",
       "      <td>Benefits and More 4 Paid (143595)</td>\n",
       "      <td>NaN</td>\n",
       "      <td>5/2/16 20:16</td>\n",
       "      <td>659370939.0</td>\n",
       "      <td>64780.0</td>\n",
       "      <td>29.95</td>\n",
       "      <td>1.0</td>\n",
       "      <td>2016-05-02</td>\n",
       "      <td>1.0</td>\n",
       "      <td>Sale</td>\n",
       "      <td>Visa</td>\n",
       "      <td>NaN</td>\n",
       "      <td>MA</td>\n",
       "      <td>Switched to LW</td>\n",
       "      <td>1001.0</td>\n",
       "      <td>2016-05-02</td>\n",
       "      <td>20:16</td>\n",
       "      <td>0.0</td>\n",
       "      <td>0.000000</td>\n",
       "    </tr>\n",
       "    <tr>\n",
       "      <th>3</th>\n",
       "      <td>1.0</td>\n",
       "      <td>Benefits and More 4 Paid (143595)</td>\n",
       "      <td>020 - Financial Reasons</td>\n",
       "      <td>4/22/16 19:55</td>\n",
       "      <td>659356995.0</td>\n",
       "      <td>64780.0</td>\n",
       "      <td>39.95</td>\n",
       "      <td>1.0</td>\n",
       "      <td>2016-05-12</td>\n",
       "      <td>1.0</td>\n",
       "      <td>Refund</td>\n",
       "      <td>MasterCard</td>\n",
       "      <td>Back in Inventory</td>\n",
       "      <td>MA</td>\n",
       "      <td>Returned &lt;30 days</td>\n",
       "      <td>1001.0</td>\n",
       "      <td>2016-04-22</td>\n",
       "      <td>19:55</td>\n",
       "      <td>20.0</td>\n",
       "      <td>0.666667</td>\n",
       "    </tr>\n",
       "    <tr>\n",
       "      <th>4</th>\n",
       "      <td>1.0</td>\n",
       "      <td>Benefits and More 4 (116063)</td>\n",
       "      <td>NaN</td>\n",
       "      <td>7/28/16 16:01</td>\n",
       "      <td>659940549.0</td>\n",
       "      <td>64780.0</td>\n",
       "      <td>NaN</td>\n",
       "      <td>NaN</td>\n",
       "      <td>NaT</td>\n",
       "      <td>NaN</td>\n",
       "      <td>NaN</td>\n",
       "      <td>ACH</td>\n",
       "      <td>Post Date Cancel</td>\n",
       "      <td>ME</td>\n",
       "      <td>Order Canceled</td>\n",
       "      <td>1001.0</td>\n",
       "      <td>2016-07-28</td>\n",
       "      <td>16:01</td>\n",
       "      <td>NaN</td>\n",
       "      <td>NaN</td>\n",
       "    </tr>\n",
       "  </tbody>\n",
       "</table>\n",
       "</div>"
      ],
      "text/plain": [
       "   #Prod                    Agent Label +ID      CUSTOM Cancel Reason  \\\n",
       "0    1.0      Church Bulletin 0011 (109398)  021 - No reason provided   \n",
       "1    1.0  Benefits and More 4 Paid (143595)   020 - Financial Reasons   \n",
       "2    1.0  Benefits and More 4 Paid (143595)                       NaN   \n",
       "3    1.0  Benefits and More 4 Paid (143595)   020 - Financial Reasons   \n",
       "4    1.0       Benefits and More 4 (116063)                       NaN   \n",
       "\n",
       "         Created           ID   Income  Last Pay Amount  Last Pay Complete  \\\n",
       "0  7/30/14 14:36  657917124.0  64780.0            34.95                1.0   \n",
       "1  10/5/15 19:15  658935850.0  64780.0            29.95                1.0   \n",
       "2   5/2/16 20:16  659370939.0  64780.0            29.95                1.0   \n",
       "3  4/22/16 19:55  659356995.0  64780.0            39.95                1.0   \n",
       "4  7/28/16 16:01  659940549.0  64780.0              NaN                NaN   \n",
       "\n",
       "  Last Pay Date  Last Pay Status Last Pay Type  Pay Method              Stage  \\\n",
       "0    2014-08-25              1.0        Refund    Discover  Back in Inventory   \n",
       "1    2015-10-05              1.0          Sale    Discover  Back in Inventory   \n",
       "2    2016-05-02              1.0          Sale        Visa                NaN   \n",
       "3    2016-05-12              1.0        Refund  MasterCard  Back in Inventory   \n",
       "4           NaT              NaN           NaN         ACH   Post Date Cancel   \n",
       "\n",
       "  State              Status  ZipCodeNew date_created time_created  days  \\\n",
       "0    MA   Returned <30 days      1001.0   2014-07-30        14:36  26.0   \n",
       "1    MA  Returned < 90 days      1001.0   2015-10-05        19:15   0.0   \n",
       "2    MA      Switched to LW      1001.0   2016-05-02        20:16   0.0   \n",
       "3    MA   Returned <30 days      1001.0   2016-04-22        19:55  20.0   \n",
       "4    ME      Order Canceled      1001.0   2016-07-28        16:01   NaN   \n",
       "\n",
       "     months  \n",
       "0  0.866667  \n",
       "1  0.000000  \n",
       "2  0.000000  \n",
       "3  0.666667  \n",
       "4       NaN  "
      ]
     },
     "execution_count": 5,
     "metadata": {},
     "output_type": "execute_result"
    }
   ],
   "source": [
    "# Converting the two new split columns into datetime objects\n",
    "data['date_created'] = pd.to_datetime(data['date_created'])\n",
    "data['Last Pay Date'] = pd.to_datetime(data['Last Pay Date'])\n",
    "\n",
    "# Taking the difference between the last pay date and the date the account was created \n",
    "# Using the dt.days function to calculate amount of days in between those dates\n",
    "data['days'] = (data['Last Pay Date'] - data['date_created']).dt.days\n",
    "\n",
    "# Dividing the number of days by 30 to get the number of months with the company\n",
    "data['months'] = data['days']/30\n",
    "data.head()"
   ]
  },
  {
   "cell_type": "markdown",
   "metadata": {},
   "source": [
    "## **Changing Column Types and Names**"
   ]
  },
  {
   "cell_type": "code",
   "execution_count": 6,
   "metadata": {},
   "outputs": [
    {
     "name": "stdout",
     "output_type": "stream",
     "text": [
      "<class 'pandas.core.frame.DataFrame'>\n",
      "RangeIndex: 119833 entries, 0 to 119832\n",
      "Data columns (total 20 columns):\n",
      "#Prod                   119794 non-null float64\n",
      "Agent Label +ID         119832 non-null object\n",
      "CUSTOM Cancel Reason    80428 non-null object\n",
      "Created                 119832 non-null object\n",
      "ID                      119832 non-null float64\n",
      "Income                  100711 non-null float64\n",
      "Last Pay Amount         113509 non-null float64\n",
      "Last Pay Complete       113509 non-null float64\n",
      "Last Pay Date           113509 non-null datetime64[ns]\n",
      "Last Pay Status         113509 non-null float64\n",
      "Last Pay Type           113288 non-null object\n",
      "Pay Method              118063 non-null object\n",
      "Stage                   100142 non-null object\n",
      "State                   119832 non-null object\n",
      "Status                  119832 non-null object\n",
      "ZipCodeNew              119832 non-null float64\n",
      "date_created            119832 non-null datetime64[ns]\n",
      "time_created            119832 non-null object\n",
      "days                    113509 non-null float64\n",
      "months                  113509 non-null float64\n",
      "dtypes: datetime64[ns](2), float64(9), object(9)\n",
      "memory usage: 18.3+ MB\n"
     ]
    }
   ],
   "source": [
    "# Showing the data types for each column\n",
    "data.info()"
   ]
  },
  {
   "cell_type": "code",
   "execution_count": 7,
   "metadata": {},
   "outputs": [],
   "source": [
    "# Changing data column types to their appropriate types\n",
    "data['ID'] = data['ID'].astype(str)\n",
    "data['ZipCodeNew'] = data['ZipCodeNew'].astype(str)"
   ]
  },
  {
   "cell_type": "code",
   "execution_count": 8,
   "metadata": {},
   "outputs": [],
   "source": [
    "# Deleting the row 'Created' as it's redundant\n",
    "data.drop(['Created'], axis=1)\n",
    "\n",
    "# Changing the order of the columns in the dataset\n",
    "data = data[['ID', 'Agent Label +ID', 'date_created', 'time_created', 'Last Pay Date', 'Pay Method', 'State', 'ZipCodeNew',\n",
    "             'Last Pay Amount', 'Last Pay Complete', 'Last Pay Status', 'Last Pay Type', '#Prod', 'CUSTOM Cancel Reason',\n",
    "             'Stage', 'Status', 'Income', 'days', 'months']]"
   ]
  },
  {
   "cell_type": "code",
   "execution_count": 9,
   "metadata": {},
   "outputs": [],
   "source": [
    "# Renaming the columns in the data.csv dataset\n",
    "data.columns = ['id', 'agent', 'date_created', 'time_created', 'lp_date', 'pay_method', 'state', 'zip_code',\n",
    "               'last_pay_amount', 'last_pay_complete', 'lp_status', 'lp_type', 'prod', 'cancel_reason', 'stage',\n",
    "               'status', 'income', 'days', 'months']"
   ]
  },
  {
   "cell_type": "markdown",
   "metadata": {},
   "source": [
    "## **Imputations**"
   ]
  },
  {
   "cell_type": "code",
   "execution_count": 10,
   "metadata": {},
   "outputs": [
    {
     "name": "stdout",
     "output_type": "stream",
     "text": [
      "id 0\n",
      "agent 1\n",
      "date_created 1\n",
      "time_created 1\n",
      "lp_date 6324\n",
      "pay_method 1770\n",
      "state 1\n",
      "zip_code 0\n",
      "last_pay_amount 6324\n",
      "last_pay_complete 6324\n",
      "lp_status 6324\n",
      "lp_type 6545\n",
      "prod 39\n",
      "cancel_reason 39405\n",
      "stage 19691\n",
      "status 1\n",
      "income 19122\n",
      "days 6324\n",
      "months 6324\n"
     ]
    }
   ],
   "source": [
    "# Same method we used in Data Mining to calculate number of missing values per column\n",
    "\n",
    "# Creating an empty list for column names\n",
    "names = []\n",
    "\n",
    "# Creating an empty list for the number of null values in each column\n",
    "values = []\n",
    "\n",
    "# Checking for Missing Values\n",
    "for col in data.columns:\n",
    "    names.append(col)\n",
    "    values.append(data[col].isnull().sum())\n",
    "    print(names[-1],values[-1])"
   ]
  },
  {
   "cell_type": "code",
   "execution_count": 11,
   "metadata": {},
   "outputs": [],
   "source": [
    "# Imputing income using the back-fill option\n",
    "# Dataset is sorted by zip code so I wanted the imputation to take into account geographic proximity\n",
    "\n",
    "data['income'] = data['income'].fillna(method='bfill')"
   ]
  },
  {
   "cell_type": "code",
   "execution_count": 12,
   "metadata": {},
   "outputs": [],
   "source": [
    "# Deleting rows with no pay method given since most of these rows have many missing values other than pay method\n",
    "\n",
    "data = data[pd.notnull(data['pay_method'])] \n",
    "\n",
    "# Deleting rows that do not include a Last Pay Date since the customer never paid for a product\n",
    "data = data[pd.notnull(data['lp_date'])]\n",
    "\n",
    "#Deleting one row where the zip code was never given\n",
    "data = data[pd.notnull(data['zip_code'])]\n",
    "\n",
    "# Deleting rows that include Quick Cancel because these customer canceled the order before the end of a full month\n",
    "data = data[~data['stage'].isin(['Quick Cancel'])]"
   ]
  },
  {
   "cell_type": "code",
   "execution_count": 20,
   "metadata": {},
   "outputs": [
    {
     "name": "stdout",
     "output_type": "stream",
     "text": [
      "['credit card' 'ACH' 'Paper_Check' 'Other']\n",
      "credit card    93863\n",
      "ACH            13262\n",
      "paper check     1437\n",
      "Other            307\n",
      "Name: pay_method, dtype: int64\n"
     ]
    }
   ],
   "source": [
    "# Binning categorical columns to larger groups\n",
    "# Printing unique values for columns\n",
    "print(data['pay_method'].unique())\n",
    "\n",
    "#Binning 'pay_method' into 4 groups: Credit card, ACH, Paper Check, & Other\n",
    "data['pay_method'] = data['pay_method'].replace({'Visa': 'credit card', 'MasterCard': 'credit card', \n",
    "                                                 'Discover': 'credit card', 'American Express': 'credit card',\n",
    "                                                'Mastercard': 'credit card', 'Maestro': 'credit card',\n",
    "                                                'Paper_Check': 'paper check'})  \n",
    "\n",
    "# Counting the number of instances for each value in the 'pay_method' column\n",
    "print(data['pay_method'].value_counts())"
   ]
  },
  {
   "cell_type": "code",
   "execution_count": 14,
   "metadata": {},
   "outputs": [
    {
     "name": "stdout",
     "output_type": "stream",
     "text": [
      "id 0\n",
      "agent 0\n",
      "date_created 0\n",
      "time_created 0\n",
      "lp_date 0\n",
      "pay_method 0\n",
      "state 0\n",
      "zip_code 0\n",
      "last_pay_amount 0\n",
      "last_pay_complete 0\n",
      "lp_status 0\n",
      "lp_type 200\n",
      "prod 0\n",
      "cancel_reason 35044\n",
      "stage 17110\n",
      "status 0\n",
      "income 0\n",
      "days 0\n",
      "months 0\n"
     ]
    }
   ],
   "source": [
    "# Same method we used in Data Mining to calculate number of missing values per column\n",
    "\n",
    "# Creating an empty list for column names\n",
    "names = []\n",
    "\n",
    "# Creating an empty list for the number of null values in each column\n",
    "values = []\n",
    "\n",
    "# Checking for Missing Values\n",
    "for col in data.columns:\n",
    "    names.append(col)\n",
    "    values.append(data[col].isnull().sum())\n",
    "    print(names[-1],values[-1])"
   ]
  },
  {
   "cell_type": "code",
   "execution_count": null,
   "metadata": {},
   "outputs": [],
   "source": []
  }
 ],
 "metadata": {
  "kernelspec": {
   "display_name": "Python 3",
   "language": "python",
   "name": "python3"
  },
  "language_info": {
   "codemirror_mode": {
    "name": "ipython",
    "version": 3
   },
   "file_extension": ".py",
   "mimetype": "text/x-python",
   "name": "python",
   "nbconvert_exporter": "python",
   "pygments_lexer": "ipython3",
   "version": "3.6.7"
  }
 },
 "nbformat": 4,
 "nbformat_minor": 2
}
