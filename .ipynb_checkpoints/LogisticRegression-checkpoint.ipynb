{
 "cells": [
  {
   "cell_type": "code",
   "execution_count": 1,
   "metadata": {},
   "outputs": [
    {
     "name": "stderr",
     "output_type": "stream",
     "text": [
      "/opt/tljh/user/lib/python3.6/site-packages/sklearn/externals/six.py:31: DeprecationWarning: The module is deprecated in version 0.21 and will be removed in version 0.23 since we've dropped support for Python 2.7. Please rely on the official version of six (https://pypi.org/project/six/).\n",
      "  \"(https://pypi.org/project/six/).\", DeprecationWarning)\n"
     ]
    }
   ],
   "source": [
    "# importing packages\n",
    "import pandas as pd\n",
    "import numpy as np\n",
    "import matplotlib.pyplot as plt\n",
    "import seaborn as sns\n",
    "from sklearn.model_selection import train_test_split\n",
    "from imblearn.over_sampling import RandomOverSampler\n",
    "from imblearn.under_sampling import RandomUnderSampler\n",
    "from sklearn.linear_model import LogisticRegression\n",
    "from sklearn.utils import resample\n",
    "from sklearn import metrics\n",
    "from sklearn.metrics import f1_score"
   ]
  },
  {
   "cell_type": "code",
   "execution_count": 2,
   "metadata": {},
   "outputs": [
    {
     "data": {
      "text/html": [
       "<div>\n",
       "<style scoped>\n",
       "    .dataframe tbody tr th:only-of-type {\n",
       "        vertical-align: middle;\n",
       "    }\n",
       "\n",
       "    .dataframe tbody tr th {\n",
       "        vertical-align: top;\n",
       "    }\n",
       "\n",
       "    .dataframe thead th {\n",
       "        text-align: right;\n",
       "    }\n",
       "</style>\n",
       "<table border=\"1\" class=\"dataframe\">\n",
       "  <thead>\n",
       "    <tr style=\"text-align: right;\">\n",
       "      <th></th>\n",
       "      <th>Unnamed: 0</th>\n",
       "      <th>year</th>\n",
       "      <th>status</th>\n",
       "      <th>pay_method_ACH</th>\n",
       "      <th>pay_method_credit card</th>\n",
       "      <th>pay_method_paper check</th>\n",
       "      <th>state_0</th>\n",
       "      <th>state_1</th>\n",
       "      <th>state_2</th>\n",
       "      <th>state_3</th>\n",
       "      <th>...</th>\n",
       "      <th>state</th>\n",
       "      <th>status_0</th>\n",
       "      <th>status_1</th>\n",
       "      <th>status_2</th>\n",
       "      <th>status_3</th>\n",
       "      <th>status_4</th>\n",
       "      <th>lp_amount</th>\n",
       "      <th>income</th>\n",
       "      <th>prod</th>\n",
       "      <th>Y</th>\n",
       "    </tr>\n",
       "  </thead>\n",
       "  <tbody>\n",
       "    <tr>\n",
       "      <th>0</th>\n",
       "      <td>0</td>\n",
       "      <td>2014.0</td>\n",
       "      <td>Returned &lt; 90 days</td>\n",
       "      <td>0</td>\n",
       "      <td>1</td>\n",
       "      <td>0</td>\n",
       "      <td>0</td>\n",
       "      <td>0</td>\n",
       "      <td>0</td>\n",
       "      <td>0</td>\n",
       "      <td>...</td>\n",
       "      <td>MA</td>\n",
       "      <td>0</td>\n",
       "      <td>0</td>\n",
       "      <td>0</td>\n",
       "      <td>0</td>\n",
       "      <td>1</td>\n",
       "      <td>0.500</td>\n",
       "      <td>0.654935</td>\n",
       "      <td>0.0</td>\n",
       "      <td>0</td>\n",
       "    </tr>\n",
       "    <tr>\n",
       "      <th>1</th>\n",
       "      <td>1</td>\n",
       "      <td>2015.0</td>\n",
       "      <td>Returned &lt; 90 days</td>\n",
       "      <td>0</td>\n",
       "      <td>1</td>\n",
       "      <td>0</td>\n",
       "      <td>0</td>\n",
       "      <td>0</td>\n",
       "      <td>0</td>\n",
       "      <td>0</td>\n",
       "      <td>...</td>\n",
       "      <td>MA</td>\n",
       "      <td>0</td>\n",
       "      <td>0</td>\n",
       "      <td>0</td>\n",
       "      <td>0</td>\n",
       "      <td>1</td>\n",
       "      <td>0.375</td>\n",
       "      <td>0.654935</td>\n",
       "      <td>0.0</td>\n",
       "      <td>0</td>\n",
       "    </tr>\n",
       "    <tr>\n",
       "      <th>2</th>\n",
       "      <td>2</td>\n",
       "      <td>2016.0</td>\n",
       "      <td>Switched to LW</td>\n",
       "      <td>0</td>\n",
       "      <td>1</td>\n",
       "      <td>0</td>\n",
       "      <td>0</td>\n",
       "      <td>0</td>\n",
       "      <td>0</td>\n",
       "      <td>0</td>\n",
       "      <td>...</td>\n",
       "      <td>MA</td>\n",
       "      <td>0</td>\n",
       "      <td>0</td>\n",
       "      <td>0</td>\n",
       "      <td>1</td>\n",
       "      <td>0</td>\n",
       "      <td>0.375</td>\n",
       "      <td>0.654935</td>\n",
       "      <td>0.0</td>\n",
       "      <td>0</td>\n",
       "    </tr>\n",
       "    <tr>\n",
       "      <th>3</th>\n",
       "      <td>3</td>\n",
       "      <td>2016.0</td>\n",
       "      <td>Returned &lt; 90 days</td>\n",
       "      <td>0</td>\n",
       "      <td>1</td>\n",
       "      <td>0</td>\n",
       "      <td>0</td>\n",
       "      <td>0</td>\n",
       "      <td>0</td>\n",
       "      <td>0</td>\n",
       "      <td>...</td>\n",
       "      <td>MA</td>\n",
       "      <td>0</td>\n",
       "      <td>0</td>\n",
       "      <td>0</td>\n",
       "      <td>0</td>\n",
       "      <td>1</td>\n",
       "      <td>0.625</td>\n",
       "      <td>0.654935</td>\n",
       "      <td>0.0</td>\n",
       "      <td>0</td>\n",
       "    </tr>\n",
       "    <tr>\n",
       "      <th>4</th>\n",
       "      <td>4</td>\n",
       "      <td>2014.0</td>\n",
       "      <td>Decline</td>\n",
       "      <td>0</td>\n",
       "      <td>1</td>\n",
       "      <td>0</td>\n",
       "      <td>0</td>\n",
       "      <td>0</td>\n",
       "      <td>0</td>\n",
       "      <td>0</td>\n",
       "      <td>...</td>\n",
       "      <td>MA</td>\n",
       "      <td>0</td>\n",
       "      <td>0</td>\n",
       "      <td>0</td>\n",
       "      <td>1</td>\n",
       "      <td>1</td>\n",
       "      <td>0.500</td>\n",
       "      <td>0.480234</td>\n",
       "      <td>0.0</td>\n",
       "      <td>0</td>\n",
       "    </tr>\n",
       "  </tbody>\n",
       "</table>\n",
       "<p>5 rows × 24 columns</p>\n",
       "</div>"
      ],
      "text/plain": [
       "   Unnamed: 0    year              status  pay_method_ACH  \\\n",
       "0           0  2014.0  Returned < 90 days               0   \n",
       "1           1  2015.0  Returned < 90 days               0   \n",
       "2           2  2016.0      Switched to LW               0   \n",
       "3           3  2016.0  Returned < 90 days               0   \n",
       "4           4  2014.0             Decline               0   \n",
       "\n",
       "   pay_method_credit card  pay_method_paper check  state_0  state_1  state_2  \\\n",
       "0                       1                       0        0        0        0   \n",
       "1                       1                       0        0        0        0   \n",
       "2                       1                       0        0        0        0   \n",
       "3                       1                       0        0        0        0   \n",
       "4                       1                       0        0        0        0   \n",
       "\n",
       "   state_3 ...  state  status_0  status_1  status_2 status_3  status_4  \\\n",
       "0        0 ...     MA         0         0         0        0         1   \n",
       "1        0 ...     MA         0         0         0        0         1   \n",
       "2        0 ...     MA         0         0         0        1         0   \n",
       "3        0 ...     MA         0         0         0        0         1   \n",
       "4        0 ...     MA         0         0         0        1         1   \n",
       "\n",
       "   lp_amount    income  prod  Y  \n",
       "0      0.500  0.654935   0.0  0  \n",
       "1      0.375  0.654935   0.0  0  \n",
       "2      0.375  0.654935   0.0  0  \n",
       "3      0.625  0.654935   0.0  0  \n",
       "4      0.500  0.480234   0.0  0  \n",
       "\n",
       "[5 rows x 24 columns]"
      ]
     },
     "execution_count": 2,
     "metadata": {},
     "output_type": "execute_result"
    }
   ],
   "source": [
    "# reading in the normalized dataset \n",
    "data = pd.read_csv('normal_data.csv', encoding = 'ISO-8859-1')\n",
    "data.head()"
   ]
  },
  {
   "cell_type": "code",
   "execution_count": 3,
   "metadata": {},
   "outputs": [
    {
     "name": "stdout",
     "output_type": "stream",
     "text": [
      "94857\n",
      "11386\n"
     ]
    }
   ],
   "source": [
    "# Up and Down sampling the positive and negative class in the dataset to balance out the dataset\n",
    "\n",
    "# Splitting the dataset into majority and minority classes\n",
    "data_majority = data[data.Y == 0]\n",
    "data_minority = data[data.Y == 1]\n",
    "\n",
    "# Counting the number of rows in each dataframe\n",
    "print(data_majority['Y'].count())\n",
    "print(data_minority['Y'].count())"
   ]
  },
  {
   "cell_type": "code",
   "execution_count": 4,
   "metadata": {},
   "outputs": [
    {
     "name": "stdout",
     "output_type": "stream",
     "text": [
      "53122\n",
      "53122\n"
     ]
    }
   ],
   "source": [
    "# Up and Down sampling the positive and negative class in the dataset to balance out the dataset\n",
    "\n",
    "# Using sklearn's resample function to balance out the dataset into equal value counts\n",
    "data_majority_udownsampled = resample(data_majority, replace=True, n_samples=53122, random_state=2019)\n",
    "data_minority_upsampled = resample(data_minority, replace=True, n_samples=53122, random_state=2019)\n",
    "\n",
    "# Printing the two classes to make sure they are balanced out\n",
    "print(data_majority_udownsampled['Y'].count())\n",
    "print(data_minority_upsampled['Y'].count())\n",
    "\n",
    "#Concatenating the two classes back into one dataframe\n",
    "data_balanced = pd.concat([data_majority_udownsampled, data_minority_upsampled])"
   ]
  },
  {
   "cell_type": "code",
   "execution_count": 5,
   "metadata": {},
   "outputs": [],
   "source": [
    "# Creating a separate dataframe for the dropped columns that can't be used in a logistic regression\n",
    "data_dropped = data_balanced[['state', 'months', 'status']]\n",
    "\n",
    "# Dropping rows that will not be used in the logistic regression\n",
    "data_balanced = data_balanced.drop(['Unnamed: 0', 'state', 'months', 'status'], axis = 1)"
   ]
  },
  {
   "cell_type": "code",
   "execution_count": 6,
   "metadata": {},
   "outputs": [],
   "source": [
    "# Splitting the dataset into the features and target variables\n",
    "X2 = data_balanced.iloc[:,:-1]\n",
    "y2 = data_balanced['Y']\n",
    "\n",
    "# Splitting the data using the train_test_split sklearn package\n",
    "X2_train, X2_test, y2_train, y2_test = train_test_split(X2, y2, test_size=0.25, random_state=2019)"
   ]
  },
  {
   "cell_type": "code",
   "execution_count": 7,
   "metadata": {},
   "outputs": [
    {
     "data": {
      "text/plain": [
       "array([[ 8551,  4647],\n",
       "       [  459, 12904]])"
      ]
     },
     "execution_count": 7,
     "metadata": {},
     "output_type": "execute_result"
    }
   ],
   "source": [
    "# Starting to build the parameters of the model\n",
    "logreg = LogisticRegression(solver='liblinear')\n",
    "\n",
    "# Fitting the model using the training data\n",
    "logreg = logreg.fit(X2_train, y2_train)\n",
    "\n",
    "# Creating the y2_pred variable\n",
    "y2_pred = logreg.predict(X2_test)\n",
    "\n",
    "# Creating the confusion matrix for the regression\n",
    "cnf_mat2 = metrics.confusion_matrix(y2_test, y2_pred)\n",
    "cnf_mat2"
   ]
  },
  {
   "cell_type": "code",
   "execution_count": 8,
   "metadata": {},
   "outputs": [
    {
     "data": {
      "text/plain": [
       "Text(0.5, 257.44, 'Predicted')"
      ]
     },
     "execution_count": 8,
     "metadata": {},
     "output_type": "execute_result"
    },
    {
     "data": {
      "image/png": "[encoded data removed]",
      "text/plain": [
       "<Figure size 432x288 with 2 Axes>"
      ]
     },
     "metadata": {
      "needs_background": "light"
     },
     "output_type": "display_data"
    }
   ],
   "source": [
    "# Visualizing the confusion matrix of the balanced dataset to make it easier to view\n",
    "names = [0,1]\n",
    "fig, ax = plt.subplots()\n",
    "ticks = np.arange(len(names))\n",
    "plt.xticks(ticks, names)\n",
    "plt.yticks(ticks, names)\n",
    "\n",
    "sns.heatmap(pd.DataFrame(cnf_mat2), annot=True, cmap=\"GnBu\", fmt='g')\n",
    "ax.xaxis.set_label_position('top')\n",
    "plt.tight_layout()\n",
    "plt.title('Confusion Matrix', y=1.1)\n",
    "plt.ylabel('Actual')\n",
    "plt.xlabel('Predicted')"
   ]
  },
  {
   "cell_type": "code",
   "execution_count": 9,
   "metadata": {},
   "outputs": [
    {
     "name": "stdout",
     "output_type": "stream",
     "text": [
      "Accuracy: 0.8077632619253793\n",
      "Precision: 0.7352287618939092\n",
      "Recall: 0.9656514255780888\n"
     ]
    }
   ],
   "source": [
    "# Printing the accuracy, precision, and recall for the balanced dataset\n",
    "print(\"Accuracy:\",metrics.accuracy_score(y2_test, y2_pred))\n",
    "print(\"Precision:\",metrics.precision_score(y2_test, y2_pred))\n",
    "print(\"Recall:\",metrics.recall_score(y2_test, y2_pred))"
   ]
  },
  {
   "cell_type": "code",
   "execution_count": 10,
   "metadata": {},
   "outputs": [
    {
     "data": {
      "text/plain": [
       "0.8026585989095655"
      ]
     },
     "execution_count": 10,
     "metadata": {},
     "output_type": "execute_result"
    }
   ],
   "source": [
    "# Getting the f1 score for the balanced dataset\n",
    "f1_score(y2_test, y2_pred, average='weighted')"
   ]
  },
  {
   "cell_type": "code",
   "execution_count": 11,
   "metadata": {},
   "outputs": [
    {
     "data": {
      "text/plain": [
       "Index(['year', 'pay_method_ACH', 'pay_method_credit card',\n",
       "       'pay_method_paper check', 'state_0', 'state_1', 'state_2', 'state_3',\n",
       "       'state_4', 'state_5', 'state_6', 'status_0', 'status_1', 'status_2',\n",
       "       'status_3', 'status_4', 'lp_amount', 'income', 'prod', 'state',\n",
       "       'months', 'status', 'Y'],\n",
       "      dtype='object')"
      ]
     },
     "execution_count": 11,
     "metadata": {},
     "output_type": "execute_result"
    }
   ],
   "source": [
    "# Concatenating the data back together with the columns I dropped earlier in the notebook\n",
    "data_balanced = pd.concat([data_balanced, data_dropped] ,axis = 1)\n",
    "\n",
    "#Changing the dataframe order so the Y variable is last\n",
    "data_balanced = data_balanced[['year', 'pay_method_ACH', 'pay_method_credit card',\n",
    "       'pay_method_paper check', 'state_0', 'state_1', 'state_2', 'state_3',\n",
    "       'state_4', 'state_5', 'state_6', 'status_0', 'status_1', 'status_2',\n",
    "       'status_3', 'status_4', 'lp_amount', 'income', 'prod', 'state',\n",
    "       'months', 'status', 'Y']]\n",
    "\n",
    "data_balanced.columns"
   ]
  },
  {
   "cell_type": "code",
   "execution_count": 12,
   "metadata": {},
   "outputs": [
    {
     "name": "stdout",
     "output_type": "stream",
     "text": [
      "Train Accuracy: 0.8057929545825333\n",
      "Test Accuracy: 0.8077632619253793\n",
      "Train Precision: 0.7327569681401679\n",
      "Test Precision: 0.7352287618939092\n",
      "Train Recall: 0.9614175406826128\n",
      "Test Recall: 0.9656514255780888\n"
     ]
    }
   ],
   "source": [
    "# Running the trained model on the training and test data to make sure the model is not overfitting\n",
    "\n",
    "# Running accuracy on both sets\n",
    "print(\"Train Accuracy:\",metrics.accuracy_score(y2_train, logreg.predict(X2_train)))\n",
    "print(\"Test Accuracy:\",metrics.accuracy_score(y2_test, y2_pred))\n",
    "\n",
    "# Running precision on both sets\n",
    "print(\"Train Precision:\",metrics.precision_score(y2_train, logreg.predict(X2_train)))\n",
    "print(\"Test Precision:\",metrics.precision_score(y2_test, y2_pred))\n",
    "\n",
    "# Running recall on both sets\n",
    "print(\"Train Recall:\",metrics.recall_score(y2_train, logreg.predict(X2_train)))\n",
    "print(\"Test Recall:\",metrics.recall_score(y2_test, y2_pred))"
   ]
  },
  {
   "cell_type": "code",
   "execution_count": 13,
   "metadata": {},
   "outputs": [],
   "source": [
    "# Exporting the balanced data to a csv file to be used in the other classification models\n",
    "data_balanced.to_csv('final_data.csv',',')"
   ]
  },
  {
   "cell_type": "code",
   "execution_count": null,
   "metadata": {},
   "outputs": [],
   "source": []
  }
 ],
 "metadata": {
  "kernelspec": {
   "display_name": "Python 3",
   "language": "python",
   "name": "python3"
  },
  "language_info": {
   "codemirror_mode": {
    "name": "ipython",
    "version": 3
   },
   "file_extension": ".py",
   "mimetype": "text/x-python",
   "name": "python",
   "nbconvert_exporter": "python",
   "pygments_lexer": "ipython3",
   "version": "3.6.7"
  }
 },
 "nbformat": 4,
 "nbformat_minor": 2
}
