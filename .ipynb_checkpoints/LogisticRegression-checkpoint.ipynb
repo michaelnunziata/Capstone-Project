{
 "cells": [
  {
   "cell_type": "code",
   "execution_count": 1,
   "metadata": {},
   "outputs": [
    {
     "name": "stderr",
     "output_type": "stream",
     "text": [
      "/opt/tljh/user/lib/python3.6/site-packages/sklearn/externals/six.py:31: DeprecationWarning: The module is deprecated in version 0.21 and will be removed in version 0.23 since we've dropped support for Python 2.7. Please rely on the official version of six (https://pypi.org/project/six/).\n",
      "  \"(https://pypi.org/project/six/).\", DeprecationWarning)\n"
     ]
    }
   ],
   "source": [
    "# importing packages\n",
    "import pandas as pd\n",
    "import numpy as np\n",
    "import matplotlib.pyplot as plt\n",
    "import seaborn as sns\n",
    "from sklearn.model_selection import train_test_split\n",
    "from sklearn.linear_model import LogisticRegression\n",
    "from sklearn import metrics\n",
    "from imblearn.over_sampling import RandomOverSampler"
   ]
  },
  {
   "cell_type": "code",
   "execution_count": 2,
   "metadata": {},
   "outputs": [
    {
     "data": {
      "text/html": [
       "<div>\n",
       "<style scoped>\n",
       "    .dataframe tbody tr th:only-of-type {\n",
       "        vertical-align: middle;\n",
       "    }\n",
       "\n",
       "    .dataframe tbody tr th {\n",
       "        vertical-align: top;\n",
       "    }\n",
       "\n",
       "    .dataframe thead th {\n",
       "        text-align: right;\n",
       "    }\n",
       "</style>\n",
       "<table border=\"1\" class=\"dataframe\">\n",
       "  <thead>\n",
       "    <tr style=\"text-align: right;\">\n",
       "      <th></th>\n",
       "      <th>Unnamed: 0</th>\n",
       "      <th>year</th>\n",
       "      <th>state_0</th>\n",
       "      <th>state_1</th>\n",
       "      <th>state_2</th>\n",
       "      <th>state_3</th>\n",
       "      <th>state_4</th>\n",
       "      <th>state_5</th>\n",
       "      <th>state_6</th>\n",
       "      <th>status_0</th>\n",
       "      <th>...</th>\n",
       "      <th>status_3</th>\n",
       "      <th>status_4</th>\n",
       "      <th>months</th>\n",
       "      <th>pay_method_ACH</th>\n",
       "      <th>pay_method_Other</th>\n",
       "      <th>pay_method_credit card</th>\n",
       "      <th>pay_method_paper check</th>\n",
       "      <th>income</th>\n",
       "      <th>lp_amount</th>\n",
       "      <th>Y</th>\n",
       "    </tr>\n",
       "  </thead>\n",
       "  <tbody>\n",
       "    <tr>\n",
       "      <th>0</th>\n",
       "      <td>0</td>\n",
       "      <td>2014.0</td>\n",
       "      <td>0</td>\n",
       "      <td>0</td>\n",
       "      <td>0</td>\n",
       "      <td>0</td>\n",
       "      <td>0</td>\n",
       "      <td>0</td>\n",
       "      <td>1</td>\n",
       "      <td>0</td>\n",
       "      <td>...</td>\n",
       "      <td>0</td>\n",
       "      <td>1</td>\n",
       "      <td>0.87</td>\n",
       "      <td>0</td>\n",
       "      <td>0</td>\n",
       "      <td>1</td>\n",
       "      <td>0</td>\n",
       "      <td>0.459624</td>\n",
       "      <td>0.500</td>\n",
       "      <td>0</td>\n",
       "    </tr>\n",
       "    <tr>\n",
       "      <th>1</th>\n",
       "      <td>1</td>\n",
       "      <td>2015.0</td>\n",
       "      <td>0</td>\n",
       "      <td>0</td>\n",
       "      <td>0</td>\n",
       "      <td>0</td>\n",
       "      <td>0</td>\n",
       "      <td>0</td>\n",
       "      <td>1</td>\n",
       "      <td>0</td>\n",
       "      <td>...</td>\n",
       "      <td>0</td>\n",
       "      <td>1</td>\n",
       "      <td>0.00</td>\n",
       "      <td>0</td>\n",
       "      <td>0</td>\n",
       "      <td>1</td>\n",
       "      <td>0</td>\n",
       "      <td>0.459624</td>\n",
       "      <td>0.375</td>\n",
       "      <td>0</td>\n",
       "    </tr>\n",
       "    <tr>\n",
       "      <th>2</th>\n",
       "      <td>2</td>\n",
       "      <td>2016.0</td>\n",
       "      <td>0</td>\n",
       "      <td>0</td>\n",
       "      <td>0</td>\n",
       "      <td>0</td>\n",
       "      <td>0</td>\n",
       "      <td>0</td>\n",
       "      <td>1</td>\n",
       "      <td>0</td>\n",
       "      <td>...</td>\n",
       "      <td>1</td>\n",
       "      <td>0</td>\n",
       "      <td>0.00</td>\n",
       "      <td>0</td>\n",
       "      <td>0</td>\n",
       "      <td>1</td>\n",
       "      <td>0</td>\n",
       "      <td>0.459624</td>\n",
       "      <td>0.375</td>\n",
       "      <td>0</td>\n",
       "    </tr>\n",
       "    <tr>\n",
       "      <th>3</th>\n",
       "      <td>3</td>\n",
       "      <td>2016.0</td>\n",
       "      <td>0</td>\n",
       "      <td>0</td>\n",
       "      <td>0</td>\n",
       "      <td>0</td>\n",
       "      <td>0</td>\n",
       "      <td>0</td>\n",
       "      <td>1</td>\n",
       "      <td>0</td>\n",
       "      <td>...</td>\n",
       "      <td>0</td>\n",
       "      <td>1</td>\n",
       "      <td>0.67</td>\n",
       "      <td>0</td>\n",
       "      <td>0</td>\n",
       "      <td>1</td>\n",
       "      <td>0</td>\n",
       "      <td>0.459624</td>\n",
       "      <td>0.625</td>\n",
       "      <td>0</td>\n",
       "    </tr>\n",
       "    <tr>\n",
       "      <th>4</th>\n",
       "      <td>4</td>\n",
       "      <td>2014.0</td>\n",
       "      <td>0</td>\n",
       "      <td>0</td>\n",
       "      <td>0</td>\n",
       "      <td>0</td>\n",
       "      <td>0</td>\n",
       "      <td>0</td>\n",
       "      <td>1</td>\n",
       "      <td>0</td>\n",
       "      <td>...</td>\n",
       "      <td>1</td>\n",
       "      <td>1</td>\n",
       "      <td>0.57</td>\n",
       "      <td>0</td>\n",
       "      <td>0</td>\n",
       "      <td>1</td>\n",
       "      <td>0</td>\n",
       "      <td>0.619935</td>\n",
       "      <td>0.500</td>\n",
       "      <td>0</td>\n",
       "    </tr>\n",
       "  </tbody>\n",
       "</table>\n",
       "<p>5 rows × 22 columns</p>\n",
       "</div>"
      ],
      "text/plain": [
       "   Unnamed: 0    year  state_0  state_1  state_2  state_3  state_4  state_5  \\\n",
       "0           0  2014.0        0        0        0        0        0        0   \n",
       "1           1  2015.0        0        0        0        0        0        0   \n",
       "2           2  2016.0        0        0        0        0        0        0   \n",
       "3           3  2016.0        0        0        0        0        0        0   \n",
       "4           4  2014.0        0        0        0        0        0        0   \n",
       "\n",
       "   state_6  status_0 ...  status_3  status_4  months  pay_method_ACH  \\\n",
       "0        1         0 ...         0         1    0.87               0   \n",
       "1        1         0 ...         0         1    0.00               0   \n",
       "2        1         0 ...         1         0    0.00               0   \n",
       "3        1         0 ...         0         1    0.67               0   \n",
       "4        1         0 ...         1         1    0.57               0   \n",
       "\n",
       "   pay_method_Other  pay_method_credit card  pay_method_paper check    income  \\\n",
       "0                 0                       1                       0  0.459624   \n",
       "1                 0                       1                       0  0.459624   \n",
       "2                 0                       1                       0  0.459624   \n",
       "3                 0                       1                       0  0.459624   \n",
       "4                 0                       1                       0  0.619935   \n",
       "\n",
       "   lp_amount  Y  \n",
       "0      0.500  0  \n",
       "1      0.375  0  \n",
       "2      0.375  0  \n",
       "3      0.625  0  \n",
       "4      0.500  0  \n",
       "\n",
       "[5 rows x 22 columns]"
      ]
     },
     "execution_count": 2,
     "metadata": {},
     "output_type": "execute_result"
    }
   ],
   "source": [
    "# reading in the normalized dataset \n",
    "data = pd.read_csv('final_data.csv', encoding = 'ISO-8859-1')\n",
    "data.head()"
   ]
  },
  {
   "cell_type": "code",
   "execution_count": 3,
   "metadata": {},
   "outputs": [],
   "source": [
    "# Creating a separate dataframe for the dropped columns that can't be used in a logistic regression\n",
    "data_dropped = data[['months']]\n",
    "\n",
    "# Dropping rows that will not be used in the logistic regression\n",
    "data = data.drop(['Unnamed: 0', 'months'], axis = 1)"
   ]
  },
  {
   "cell_type": "code",
   "execution_count": 4,
   "metadata": {},
   "outputs": [],
   "source": [
    "# Splitting the dataset into the features and target variables\n",
    "X = data.iloc[:,:-1]\n",
    "y = data['Y']\n",
    "\n",
    "# Splitting the data using the train_test_split sklearn package\n",
    "X_train, X_test, y_train, y_test = train_test_split(X, y, test_size=0.25, random_state=2019)"
   ]
  },
  {
   "cell_type": "code",
   "execution_count": 5,
   "metadata": {},
   "outputs": [],
   "source": [
    "# Creating variable for RandomOverSampling\n",
    "rando_sampl = RandomOverSampler(random_state=2019)\n",
    "X_train_ros, y_train_ros = rando_sampl.fit_resample(X_train, y_train)"
   ]
  },
  {
   "cell_type": "code",
   "execution_count": 6,
   "metadata": {},
   "outputs": [
    {
     "data": {
      "text/plain": [
       "array([[14772,  8891],\n",
       "       [   78,  2820]])"
      ]
     },
     "execution_count": 6,
     "metadata": {},
     "output_type": "execute_result"
    }
   ],
   "source": [
    "# Starting to build the parameters of the model\n",
    "logreg = LogisticRegression(solver='liblinear', class_weight = 'balanced')\n",
    "\n",
    "# Fitting the model using the training data\n",
    "logreg = logreg.fit(X_train_ros, y_train_ros)\n",
    "\n",
    "# Creating the y2_pred variable\n",
    "y_pred = logreg.predict(X_test)\n",
    "\n",
    "# Creating the confusion matrix for the regression\n",
    "cnf_mat2 = metrics.confusion_matrix(y_test, y_pred)\n",
    "cnf_mat2"
   ]
  },
  {
   "cell_type": "code",
   "execution_count": 7,
   "metadata": {},
   "outputs": [
    {
     "data": {
      "text/plain": [
       "Text(0.5, 257.44, 'Predicted')"
      ]
     },
     "execution_count": 7,
     "metadata": {},
     "output_type": "execute_result"
    },
    {
     "data": {
      "image/png": "[encoded data removed]",
      "text/plain": [
       "<Figure size 432x288 with 2 Axes>"
      ]
     },
     "metadata": {
      "needs_background": "light"
     },
     "output_type": "display_data"
    }
   ],
   "source": [
    "# Visualizing the confusion matrix of the balanced dataset to make it easier to view\n",
    "names = [0,1]\n",
    "fig, ax = plt.subplots()\n",
    "ticks = np.arange(len(names))\n",
    "plt.xticks(ticks, names)\n",
    "plt.yticks(ticks, names)\n",
    "\n",
    "sns.heatmap(pd.DataFrame(cnf_mat2), annot=True, cmap=\"GnBu\", fmt='g')\n",
    "ax.xaxis.set_label_position('top')\n",
    "plt.tight_layout()\n",
    "plt.title('Confusion Matrix', y=1.1)\n",
    "plt.ylabel('Actual')\n",
    "plt.xlabel('Predicted')"
   ]
  },
  {
   "cell_type": "code",
   "execution_count": 8,
   "metadata": {},
   "outputs": [
    {
     "name": "stdout",
     "output_type": "stream",
     "text": [
      "Accuracy: 0.6623244606754264\n",
      "Precision: 0.24079924856972076\n",
      "Recall: 0.9730848861283644\n",
      "F1 Score: 0.7255417861182307\n"
     ]
    }
   ],
   "source": [
    "# Printing the accuracy, precision, and recall for the balanced dataset\n",
    "print(\"Accuracy:\",metrics.accuracy_score(y_test, y_pred))\n",
    "print(\"Precision:\",metrics.precision_score(y_test, y_pred))\n",
    "print(\"Recall:\",metrics.recall_score(y_test, y_pred))\n",
    "print(\"F1 Score:\", metrics.f1_score(y_test, y_pred, average='weighted'))"
   ]
  },
  {
   "cell_type": "code",
   "execution_count": 9,
   "metadata": {},
   "outputs": [
    {
     "name": "stdout",
     "output_type": "stream",
     "text": [
      "Train Accuracy: 0.6560829296453402\n",
      "Test Accuracy: 0.6623244606754264\n",
      "Train Precision: 0.2335924736634556\n",
      "Test Precision: 0.24079924856972076\n",
      "Train Recall: 0.9770263901979265\n",
      "Test Recall: 0.9730848861283644\n",
      "Train F1: 0.7214187879397607\n",
      "Test F1: 0.7255417861182307\n"
     ]
    }
   ],
   "source": [
    "# Running the trained model on the training and test data to make sure the model is not overfitting\n",
    "\n",
    "# Running accuracy on both sets\n",
    "print(\"Train Accuracy:\",metrics.accuracy_score(y_train, logreg.predict(X_train)))\n",
    "print(\"Test Accuracy:\",metrics.accuracy_score(y_test, y_pred))\n",
    "\n",
    "# Running precision on both sets\n",
    "print(\"Train Precision:\",metrics.precision_score(y_train, logreg.predict(X_train)))\n",
    "print(\"Test Precision:\",metrics.precision_score(y_test, y_pred))\n",
    "\n",
    "# Running recall on both sets\n",
    "print(\"Train Recall:\",metrics.recall_score(y_train, logreg.predict(X_train)))\n",
    "print(\"Test Recall:\",metrics.recall_score(y_test, y_pred))\n",
    "\n",
    "#Running f1 score on both sets\n",
    "print(\"Train F1:\",metrics.f1_score(y_train, logreg.predict(X_train), average='weighted'))\n",
    "print(\"Test F1:\",metrics.f1_score(y_test, y_pred, average='weighted'))"
   ]
  },
  {
   "cell_type": "code",
   "execution_count": null,
   "metadata": {},
   "outputs": [],
   "source": []
  }
 ],
 "metadata": {
  "kernelspec": {
   "display_name": "Python 3",
   "language": "python",
   "name": "python3"
  },
  "language_info": {
   "codemirror_mode": {
    "name": "ipython",
    "version": 3
   },
   "file_extension": ".py",
   "mimetype": "text/x-python",
   "name": "python",
   "nbconvert_exporter": "python",
   "pygments_lexer": "ipython3",
   "version": "3.6.7"
  }
 },
 "nbformat": 4,
 "nbformat_minor": 2
}
