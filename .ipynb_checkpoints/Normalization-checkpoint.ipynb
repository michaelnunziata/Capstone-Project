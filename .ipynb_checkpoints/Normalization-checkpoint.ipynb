{
 "cells": [
  {
   "cell_type": "code",
   "execution_count": 1,
   "metadata": {},
   "outputs": [
    {
     "data": {
      "text/html": [
       "<div>\n",
       "<style scoped>\n",
       "    .dataframe tbody tr th:only-of-type {\n",
       "        vertical-align: middle;\n",
       "    }\n",
       "\n",
       "    .dataframe tbody tr th {\n",
       "        vertical-align: top;\n",
       "    }\n",
       "\n",
       "    .dataframe thead th {\n",
       "        text-align: right;\n",
       "    }\n",
       "</style>\n",
       "<table border=\"1\" class=\"dataframe\">\n",
       "  <thead>\n",
       "    <tr style=\"text-align: right;\">\n",
       "      <th></th>\n",
       "      <th>Unnamed: 0</th>\n",
       "      <th>year</th>\n",
       "      <th>agent</th>\n",
       "      <th>pay_method</th>\n",
       "      <th>state</th>\n",
       "      <th>zip_code</th>\n",
       "      <th>status</th>\n",
       "      <th>income</th>\n",
       "      <th>months</th>\n",
       "      <th>Y</th>\n",
       "      <th>...</th>\n",
       "      <th>region_north_east</th>\n",
       "      <th>region_rocky</th>\n",
       "      <th>region_south</th>\n",
       "      <th>region_south_east</th>\n",
       "      <th>region_west</th>\n",
       "      <th>status_Active</th>\n",
       "      <th>status_Decline</th>\n",
       "      <th>status_Returned</th>\n",
       "      <th>status_Returned_90</th>\n",
       "      <th>status_Switched to LW</th>\n",
       "    </tr>\n",
       "  </thead>\n",
       "  <tbody>\n",
       "    <tr>\n",
       "      <th>0</th>\n",
       "      <td>7</td>\n",
       "      <td>2017.0</td>\n",
       "      <td>Yasha - Pers1 (264925)</td>\n",
       "      <td>credit card</td>\n",
       "      <td>north_east</td>\n",
       "      <td>1002.0</td>\n",
       "      <td>Returned</td>\n",
       "      <td>74083.0</td>\n",
       "      <td>3.73</td>\n",
       "      <td>0</td>\n",
       "      <td>...</td>\n",
       "      <td>1</td>\n",
       "      <td>0</td>\n",
       "      <td>0</td>\n",
       "      <td>0</td>\n",
       "      <td>0</td>\n",
       "      <td>0</td>\n",
       "      <td>0</td>\n",
       "      <td>1</td>\n",
       "      <td>0</td>\n",
       "      <td>0</td>\n",
       "    </tr>\n",
       "    <tr>\n",
       "      <th>1</th>\n",
       "      <td>13</td>\n",
       "      <td>2015.0</td>\n",
       "      <td>Benefits and More 4 Paid (143595)</td>\n",
       "      <td>credit card</td>\n",
       "      <td>north_east</td>\n",
       "      <td>1010.0</td>\n",
       "      <td>Returned</td>\n",
       "      <td>51250.0</td>\n",
       "      <td>13.67</td>\n",
       "      <td>1</td>\n",
       "      <td>...</td>\n",
       "      <td>1</td>\n",
       "      <td>0</td>\n",
       "      <td>0</td>\n",
       "      <td>0</td>\n",
       "      <td>0</td>\n",
       "      <td>0</td>\n",
       "      <td>0</td>\n",
       "      <td>1</td>\n",
       "      <td>0</td>\n",
       "      <td>0</td>\n",
       "    </tr>\n",
       "    <tr>\n",
       "      <th>2</th>\n",
       "      <td>16</td>\n",
       "      <td>2014.0</td>\n",
       "      <td>Newspaper (109455)</td>\n",
       "      <td>credit card</td>\n",
       "      <td>north_east</td>\n",
       "      <td>1013.0</td>\n",
       "      <td>Order Cancelled</td>\n",
       "      <td>29243.0</td>\n",
       "      <td>2.07</td>\n",
       "      <td>0</td>\n",
       "      <td>...</td>\n",
       "      <td>1</td>\n",
       "      <td>0</td>\n",
       "      <td>0</td>\n",
       "      <td>0</td>\n",
       "      <td>0</td>\n",
       "      <td>0</td>\n",
       "      <td>0</td>\n",
       "      <td>0</td>\n",
       "      <td>0</td>\n",
       "      <td>0</td>\n",
       "    </tr>\n",
       "    <tr>\n",
       "      <th>3</th>\n",
       "      <td>17</td>\n",
       "      <td>2014.0</td>\n",
       "      <td>Hospital (109465)</td>\n",
       "      <td>credit card</td>\n",
       "      <td>north_east</td>\n",
       "      <td>1013.0</td>\n",
       "      <td>Returned_90</td>\n",
       "      <td>29243.0</td>\n",
       "      <td>3.00</td>\n",
       "      <td>0</td>\n",
       "      <td>...</td>\n",
       "      <td>1</td>\n",
       "      <td>0</td>\n",
       "      <td>0</td>\n",
       "      <td>0</td>\n",
       "      <td>0</td>\n",
       "      <td>0</td>\n",
       "      <td>0</td>\n",
       "      <td>0</td>\n",
       "      <td>1</td>\n",
       "      <td>0</td>\n",
       "    </tr>\n",
       "    <tr>\n",
       "      <th>4</th>\n",
       "      <td>19</td>\n",
       "      <td>2015.0</td>\n",
       "      <td>Benefits and More 4 Paid (143595)</td>\n",
       "      <td>credit card</td>\n",
       "      <td>north_east</td>\n",
       "      <td>1013.0</td>\n",
       "      <td>Returned</td>\n",
       "      <td>29243.0</td>\n",
       "      <td>13.57</td>\n",
       "      <td>1</td>\n",
       "      <td>...</td>\n",
       "      <td>1</td>\n",
       "      <td>0</td>\n",
       "      <td>0</td>\n",
       "      <td>0</td>\n",
       "      <td>0</td>\n",
       "      <td>0</td>\n",
       "      <td>0</td>\n",
       "      <td>1</td>\n",
       "      <td>0</td>\n",
       "      <td>0</td>\n",
       "    </tr>\n",
       "  </tbody>\n",
       "</table>\n",
       "<p>5 rows × 24 columns</p>\n",
       "</div>"
      ],
      "text/plain": [
       "   Unnamed: 0    year                              agent   pay_method  \\\n",
       "0           7  2017.0             Yasha - Pers1 (264925)  credit card   \n",
       "1          13  2015.0  Benefits and More 4 Paid (143595)  credit card   \n",
       "2          16  2014.0                 Newspaper (109455)  credit card   \n",
       "3          17  2014.0                  Hospital (109465)  credit card   \n",
       "4          19  2015.0  Benefits and More 4 Paid (143595)  credit card   \n",
       "\n",
       "        state  zip_code           status   income  months  Y  \\\n",
       "0  north_east    1002.0         Returned  74083.0    3.73  0   \n",
       "1  north_east    1010.0         Returned  51250.0   13.67  1   \n",
       "2  north_east    1013.0  Order Cancelled  29243.0    2.07  0   \n",
       "3  north_east    1013.0      Returned_90  29243.0    3.00  0   \n",
       "4  north_east    1013.0         Returned  29243.0   13.57  1   \n",
       "\n",
       "           ...            region_north_east  region_rocky  region_south  \\\n",
       "0          ...                            1             0             0   \n",
       "1          ...                            1             0             0   \n",
       "2          ...                            1             0             0   \n",
       "3          ...                            1             0             0   \n",
       "4          ...                            1             0             0   \n",
       "\n",
       "   region_south_east  region_west  status_Active  status_Decline  \\\n",
       "0                  0            0              0               0   \n",
       "1                  0            0              0               0   \n",
       "2                  0            0              0               0   \n",
       "3                  0            0              0               0   \n",
       "4                  0            0              0               0   \n",
       "\n",
       "   status_Returned  status_Returned_90  status_Switched to LW  \n",
       "0                1                   0                      0  \n",
       "1                1                   0                      0  \n",
       "2                0                   0                      0  \n",
       "3                0                   1                      0  \n",
       "4                1                   0                      0  \n",
       "\n",
       "[5 rows x 24 columns]"
      ]
     },
     "execution_count": 1,
     "metadata": {},
     "output_type": "execute_result"
    }
   ],
   "source": [
    "# Importing the necessary packages\n",
    "import pandas as pd\n",
    "import numpy as np\n",
    "import matplotlib.pyplot as plt\n",
    "from sklearn import preprocessing\n",
    "from sklearn.preprocessing import MinMaxScaler\n",
    "from scipy.stats import iqr\n",
    "import seaborn as sns\n",
    "\n",
    "# Reading in each csv file for the imputed data\n",
    "data = pd.read_csv('imputed_data.csv', encoding = 'ISO-8859-1')\n",
    "data.head()"
   ]
  },
  {
   "cell_type": "code",
   "execution_count": 2,
   "metadata": {},
   "outputs": [],
   "source": [
    "# Separating out the y variable and selecting the 'income' column to be normalized\n",
    "Y = data['Y']\n",
    "outlier_data = data[['income']]\n",
    "data = data.drop(['income', 'Y', 'Unnamed: 0'], axis=1)"
   ]
  },
  {
   "cell_type": "code",
   "execution_count": 3,
   "metadata": {},
   "outputs": [
    {
     "data": {
      "image/png": "[encoded data removed]",
      "text/plain": [
       "<Figure size 432x288 with 1 Axes>"
      ]
     },
     "metadata": {
      "needs_background": "light"
     },
     "output_type": "display_data"
    }
   ],
   "source": [
    "# Creating a boxplot for the 'income' column\n",
    "plt.boxplot(outlier_data['income'])    \n",
    "# Naming the box plot after the name of the column     \n",
    "plt.title('income')\n",
    "plt.show()"
   ]
  },
  {
   "cell_type": "code",
   "execution_count": 4,
   "metadata": {},
   "outputs": [
    {
     "data": {
      "text/plain": [
       "{'whiskers': [<matplotlib.lines.Line2D at 0x7ff337543828>,\n",
       "  <matplotlib.lines.Line2D at 0x7ff337543cc0>],\n",
       " 'caps': [<matplotlib.lines.Line2D at 0x7ff3375438d0>,\n",
       "  <matplotlib.lines.Line2D at 0x7ff337543390>],\n",
       " 'boxes': [<matplotlib.lines.Line2D at 0x7ff337543e80>],\n",
       " 'medians': [<matplotlib.lines.Line2D at 0x7ff3388c37b8>],\n",
       " 'fliers': [<matplotlib.lines.Line2D at 0x7ff3374e3278>],\n",
       " 'means': []}"
      ]
     },
     "execution_count": 4,
     "metadata": {},
     "output_type": "execute_result"
    },
    {
     "data": {
      "image/png": "[encoded data removed]",
      "text/plain": [
       "<Figure size 432x288 with 1 Axes>"
      ]
     },
     "metadata": {
      "needs_background": "light"
     },
     "output_type": "display_data"
    }
   ],
   "source": [
    "# Defining the function 'outlier' to help with major outliers in the 'income' column\n",
    "\n",
    "def outlier(x):\n",
    "    if x > (Q3 + (1.5*IQR)):\n",
    "        x=Q3\n",
    "    elif x <(Q1 - (1.5*IQR)):\n",
    "        x=Q1\n",
    "    else:\n",
    "        pass\n",
    "    return(x)\n",
    "\n",
    "# Setting the Q1 and Q3 variables to the necessary quartiles\n",
    "Q1 = outlier_data['income'].quantile(0.25)\n",
    "Q3 = outlier_data['income'].quantile(0.75)\n",
    "IQR = iqr(outlier_data['income'])\n",
    "\n",
    "# Applying the function above to the income column\n",
    "outlier_data['income'] = outlier_data['income'].apply(lambda x: outlier(x))\n",
    "\n",
    "# Plotting the box plot\n",
    "plt.boxplot(outlier_data['income'])"
   ]
  },
  {
   "cell_type": "code",
   "execution_count": 5,
   "metadata": {},
   "outputs": [
    {
     "data": {
      "text/plain": [
       "income    38784.301814\n",
       "dtype: float64"
      ]
     },
     "execution_count": 5,
     "metadata": {},
     "output_type": "execute_result"
    }
   ],
   "source": [
    "# Showing the pre-normalized mean of the 'income' data\n",
    "outlier_data.mean()"
   ]
  },
  {
   "cell_type": "code",
   "execution_count": 6,
   "metadata": {},
   "outputs": [],
   "source": [
    "# Creating the column name to be inputed into the new normalized data\n",
    "norm_cols = ['income']\n",
    "\n",
    "# Normalizing the two columns in 'outlier_data' using the MinMax function\n",
    "minmax = preprocessing.MinMaxScaler()\n",
    "norm = (minmax.fit_transform(outlier_data))\n",
    "norm = pd.DataFrame(norm, columns=norm_cols)"
   ]
  },
  {
   "cell_type": "code",
   "execution_count": 7,
   "metadata": {},
   "outputs": [
    {
     "data": {
      "image/png": "[encoded data removed]",
      "text/plain": [
       "<Figure size 432x288 with 1 Axes>"
      ]
     },
     "metadata": {
      "needs_background": "light"
     },
     "output_type": "display_data"
    }
   ],
   "source": [
    "# Creating a histogram for the 'income' column\n",
    "plt.hist(norm['income'])    \n",
    "# Naming the box plot after the name of the column     \n",
    "plt.title('income')\n",
    "plt.show()"
   ]
  },
  {
   "cell_type": "code",
   "execution_count": 8,
   "metadata": {},
   "outputs": [
    {
     "data": {
      "text/plain": [
       "income    0.492695\n",
       "dtype: float64"
      ]
     },
     "execution_count": 8,
     "metadata": {},
     "output_type": "execute_result"
    }
   ],
   "source": [
    "# Showing the normalized mean of the 'income' data\n",
    "norm.mean()"
   ]
  },
  {
   "cell_type": "code",
   "execution_count": 9,
   "metadata": {},
   "outputs": [
    {
     "data": {
      "text/html": [
       "<div>\n",
       "<style scoped>\n",
       "    .dataframe tbody tr th:only-of-type {\n",
       "        vertical-align: middle;\n",
       "    }\n",
       "\n",
       "    .dataframe tbody tr th {\n",
       "        vertical-align: top;\n",
       "    }\n",
       "\n",
       "    .dataframe thead th {\n",
       "        text-align: right;\n",
       "    }\n",
       "</style>\n",
       "<table border=\"1\" class=\"dataframe\">\n",
       "  <thead>\n",
       "    <tr style=\"text-align: right;\">\n",
       "      <th></th>\n",
       "      <th>year</th>\n",
       "      <th>agent</th>\n",
       "      <th>pay_method</th>\n",
       "      <th>state</th>\n",
       "      <th>zip_code</th>\n",
       "      <th>status</th>\n",
       "      <th>months</th>\n",
       "      <th>pay_method_ACH</th>\n",
       "      <th>pay_method_credit card</th>\n",
       "      <th>pay_method_paper check</th>\n",
       "      <th>...</th>\n",
       "      <th>region_south</th>\n",
       "      <th>region_south_east</th>\n",
       "      <th>region_west</th>\n",
       "      <th>status_Active</th>\n",
       "      <th>status_Decline</th>\n",
       "      <th>status_Returned</th>\n",
       "      <th>status_Returned_90</th>\n",
       "      <th>status_Switched to LW</th>\n",
       "      <th>income</th>\n",
       "      <th>Y</th>\n",
       "    </tr>\n",
       "  </thead>\n",
       "  <tbody>\n",
       "    <tr>\n",
       "      <th>0</th>\n",
       "      <td>2017.0</td>\n",
       "      <td>Yasha - Pers1 (264925)</td>\n",
       "      <td>credit card</td>\n",
       "      <td>north_east</td>\n",
       "      <td>1002.0</td>\n",
       "      <td>Returned</td>\n",
       "      <td>3.73</td>\n",
       "      <td>0</td>\n",
       "      <td>1</td>\n",
       "      <td>0</td>\n",
       "      <td>...</td>\n",
       "      <td>0</td>\n",
       "      <td>0</td>\n",
       "      <td>0</td>\n",
       "      <td>0</td>\n",
       "      <td>0</td>\n",
       "      <td>1</td>\n",
       "      <td>0</td>\n",
       "      <td>0</td>\n",
       "      <td>0.619830</td>\n",
       "      <td>0</td>\n",
       "    </tr>\n",
       "    <tr>\n",
       "      <th>1</th>\n",
       "      <td>2015.0</td>\n",
       "      <td>Benefits and More 4 Paid (143595)</td>\n",
       "      <td>credit card</td>\n",
       "      <td>north_east</td>\n",
       "      <td>1010.0</td>\n",
       "      <td>Returned</td>\n",
       "      <td>13.67</td>\n",
       "      <td>0</td>\n",
       "      <td>1</td>\n",
       "      <td>0</td>\n",
       "      <td>...</td>\n",
       "      <td>0</td>\n",
       "      <td>0</td>\n",
       "      <td>0</td>\n",
       "      <td>0</td>\n",
       "      <td>0</td>\n",
       "      <td>1</td>\n",
       "      <td>0</td>\n",
       "      <td>0</td>\n",
       "      <td>0.700754</td>\n",
       "      <td>1</td>\n",
       "    </tr>\n",
       "    <tr>\n",
       "      <th>2</th>\n",
       "      <td>2014.0</td>\n",
       "      <td>Newspaper (109455)</td>\n",
       "      <td>credit card</td>\n",
       "      <td>north_east</td>\n",
       "      <td>1013.0</td>\n",
       "      <td>Order Cancelled</td>\n",
       "      <td>2.07</td>\n",
       "      <td>0</td>\n",
       "      <td>1</td>\n",
       "      <td>0</td>\n",
       "      <td>...</td>\n",
       "      <td>0</td>\n",
       "      <td>0</td>\n",
       "      <td>0</td>\n",
       "      <td>0</td>\n",
       "      <td>0</td>\n",
       "      <td>0</td>\n",
       "      <td>0</td>\n",
       "      <td>0</td>\n",
       "      <td>0.333445</td>\n",
       "      <td>0</td>\n",
       "    </tr>\n",
       "    <tr>\n",
       "      <th>3</th>\n",
       "      <td>2014.0</td>\n",
       "      <td>Hospital (109465)</td>\n",
       "      <td>credit card</td>\n",
       "      <td>north_east</td>\n",
       "      <td>1013.0</td>\n",
       "      <td>Returned_90</td>\n",
       "      <td>3.00</td>\n",
       "      <td>0</td>\n",
       "      <td>1</td>\n",
       "      <td>0</td>\n",
       "      <td>...</td>\n",
       "      <td>0</td>\n",
       "      <td>0</td>\n",
       "      <td>0</td>\n",
       "      <td>0</td>\n",
       "      <td>0</td>\n",
       "      <td>0</td>\n",
       "      <td>1</td>\n",
       "      <td>0</td>\n",
       "      <td>0.333445</td>\n",
       "      <td>0</td>\n",
       "    </tr>\n",
       "    <tr>\n",
       "      <th>4</th>\n",
       "      <td>2015.0</td>\n",
       "      <td>Benefits and More 4 Paid (143595)</td>\n",
       "      <td>credit card</td>\n",
       "      <td>north_east</td>\n",
       "      <td>1013.0</td>\n",
       "      <td>Returned</td>\n",
       "      <td>13.57</td>\n",
       "      <td>0</td>\n",
       "      <td>1</td>\n",
       "      <td>0</td>\n",
       "      <td>...</td>\n",
       "      <td>0</td>\n",
       "      <td>0</td>\n",
       "      <td>0</td>\n",
       "      <td>0</td>\n",
       "      <td>0</td>\n",
       "      <td>1</td>\n",
       "      <td>0</td>\n",
       "      <td>0</td>\n",
       "      <td>0.333445</td>\n",
       "      <td>1</td>\n",
       "    </tr>\n",
       "  </tbody>\n",
       "</table>\n",
       "<p>5 rows × 23 columns</p>\n",
       "</div>"
      ],
      "text/plain": [
       "     year                              agent   pay_method       state  \\\n",
       "0  2017.0             Yasha - Pers1 (264925)  credit card  north_east   \n",
       "1  2015.0  Benefits and More 4 Paid (143595)  credit card  north_east   \n",
       "2  2014.0                 Newspaper (109455)  credit card  north_east   \n",
       "3  2014.0                  Hospital (109465)  credit card  north_east   \n",
       "4  2015.0  Benefits and More 4 Paid (143595)  credit card  north_east   \n",
       "\n",
       "   zip_code           status  months  pay_method_ACH  pay_method_credit card  \\\n",
       "0    1002.0         Returned    3.73               0                       1   \n",
       "1    1010.0         Returned   13.67               0                       1   \n",
       "2    1013.0  Order Cancelled    2.07               0                       1   \n",
       "3    1013.0      Returned_90    3.00               0                       1   \n",
       "4    1013.0         Returned   13.57               0                       1   \n",
       "\n",
       "   pay_method_paper check ...  region_south  region_south_east  region_west  \\\n",
       "0                       0 ...             0                  0            0   \n",
       "1                       0 ...             0                  0            0   \n",
       "2                       0 ...             0                  0            0   \n",
       "3                       0 ...             0                  0            0   \n",
       "4                       0 ...             0                  0            0   \n",
       "\n",
       "   status_Active  status_Decline  status_Returned  status_Returned_90  \\\n",
       "0              0               0                1                   0   \n",
       "1              0               0                1                   0   \n",
       "2              0               0                0                   0   \n",
       "3              0               0                0                   1   \n",
       "4              0               0                1                   0   \n",
       "\n",
       "   status_Switched to LW    income  Y  \n",
       "0                      0  0.619830  0  \n",
       "1                      0  0.700754  1  \n",
       "2                      0  0.333445  0  \n",
       "3                      0  0.333445  0  \n",
       "4                      0  0.333445  1  \n",
       "\n",
       "[5 rows x 23 columns]"
      ]
     },
     "execution_count": 9,
     "metadata": {},
     "output_type": "execute_result"
    }
   ],
   "source": [
    "# Combining the two datasets (original and normalized) back into one\n",
    "data = pd.concat([data, norm, Y], axis = 1)\n",
    "data.head()"
   ]
  },
  {
   "cell_type": "code",
   "execution_count": 10,
   "metadata": {},
   "outputs": [
    {
     "data": {
      "text/plain": [
       "<matplotlib.axes._subplots.AxesSubplot at 0x7ff33752b9e8>"
      ]
     },
     "execution_count": 10,
     "metadata": {},
     "output_type": "execute_result"
    },
    {
     "data": {
      "image/png": "[encoded data removed]",
      "text/plain": [
       "<Figure size 792x648 with 2 Axes>"
      ]
     },
     "metadata": {
      "needs_background": "light"
     },
     "output_type": "display_data"
    }
   ],
   "source": [
    "# I AM USING THIS CODE FROM COMPETITION 2 OF OUR DATA MINING PROJECT\n",
    "\n",
    "# Setting the correlation matrix equal to a variable \n",
    "# in order to visualize it\n",
    "correlation_visual = data.corr(method='spearman')\n",
    "\n",
    "# Hiding the top half of the correlation matrix to make\n",
    "# it easier to read\n",
    "hide = np.zeros_like(correlation_visual, dtype=np.bool)\n",
    "hide[np.triu_indices_from(hide)] = True\n",
    "\n",
    "# Setting the subplot for the correlation matrix\n",
    "f , ax = plt.subplots(figsize=(11,9))\n",
    "\n",
    "# Generating a diverging colormap\n",
    "cmap = sns.diverging_palette(100, 200, as_cmap=True)\n",
    "\n",
    "# Putting in the heatmap element of the correlation visualization\n",
    "sns.heatmap(correlation_visual, mask=hide, cmap=cmap, vmin=-1,vmax=1, center=0, square=True, \n",
    "            linewidths=.6, cbar_kws={\"shrink\": .5})"
   ]
  },
  {
   "cell_type": "code",
   "execution_count": 11,
   "metadata": {},
   "outputs": [],
   "source": [
    "# Exporting the imputed and normalized dataset to a csv file \n",
    "# to be used in the other classification models\n",
    "data.to_csv('final_data.csv',',')"
   ]
  },
  {
   "cell_type": "code",
   "execution_count": null,
   "metadata": {},
   "outputs": [],
   "source": []
  }
 ],
 "metadata": {
  "kernelspec": {
   "display_name": "Python 3",
   "language": "python",
   "name": "python3"
  },
  "language_info": {
   "codemirror_mode": {
    "name": "ipython",
    "version": 3
   },
   "file_extension": ".py",
   "mimetype": "text/x-python",
   "name": "python",
   "nbconvert_exporter": "python",
   "pygments_lexer": "ipython3",
   "version": "3.6.7"
  }
 },
 "nbformat": 4,
 "nbformat_minor": 2
}
