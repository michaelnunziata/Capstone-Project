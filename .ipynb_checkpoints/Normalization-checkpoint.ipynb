{
 "cells": [
  {
   "cell_type": "code",
   "execution_count": 53,
   "metadata": {},
   "outputs": [],
   "source": [
    "# Importing the necessary packages\n",
    "import pandas as pd\n",
    "import numpy as np\n",
    "import matplotlib.pyplot as plt\n",
    "from sklearn import preprocessing\n",
    "from sklearn.preprocessing import MinMaxScaler\n",
    "from scipy.stats import iqr\n",
    "import seaborn as sns"
   ]
  },
  {
   "cell_type": "code",
   "execution_count": 54,
   "metadata": {},
   "outputs": [
    {
     "data": {
      "text/html": [
       "<div>\n",
       "<style scoped>\n",
       "    .dataframe tbody tr th:only-of-type {\n",
       "        vertical-align: middle;\n",
       "    }\n",
       "\n",
       "    .dataframe tbody tr th {\n",
       "        vertical-align: top;\n",
       "    }\n",
       "\n",
       "    .dataframe thead th {\n",
       "        text-align: right;\n",
       "    }\n",
       "</style>\n",
       "<table border=\"1\" class=\"dataframe\">\n",
       "  <thead>\n",
       "    <tr style=\"text-align: right;\">\n",
       "      <th></th>\n",
       "      <th>Unnamed: 0</th>\n",
       "      <th>year</th>\n",
       "      <th>status</th>\n",
       "      <th>pay_method_ACH</th>\n",
       "      <th>pay_method_credit card</th>\n",
       "      <th>pay_method_paper check</th>\n",
       "      <th>state_0</th>\n",
       "      <th>state_1</th>\n",
       "      <th>state_2</th>\n",
       "      <th>state_3</th>\n",
       "      <th>...</th>\n",
       "      <th>prod</th>\n",
       "      <th>income</th>\n",
       "      <th>months</th>\n",
       "      <th>18_months</th>\n",
       "      <th>state</th>\n",
       "      <th>status_0</th>\n",
       "      <th>status_1</th>\n",
       "      <th>status_2</th>\n",
       "      <th>status_3</th>\n",
       "      <th>status_4</th>\n",
       "    </tr>\n",
       "  </thead>\n",
       "  <tbody>\n",
       "    <tr>\n",
       "      <th>0</th>\n",
       "      <td>0</td>\n",
       "      <td>2014.0</td>\n",
       "      <td>Returned &lt; 90 days</td>\n",
       "      <td>0</td>\n",
       "      <td>1</td>\n",
       "      <td>0</td>\n",
       "      <td>0</td>\n",
       "      <td>0</td>\n",
       "      <td>0</td>\n",
       "      <td>0</td>\n",
       "      <td>...</td>\n",
       "      <td>1.0</td>\n",
       "      <td>36250.0</td>\n",
       "      <td>0.87</td>\n",
       "      <td>0</td>\n",
       "      <td>MA</td>\n",
       "      <td>0</td>\n",
       "      <td>0</td>\n",
       "      <td>0</td>\n",
       "      <td>0</td>\n",
       "      <td>1</td>\n",
       "    </tr>\n",
       "    <tr>\n",
       "      <th>1</th>\n",
       "      <td>1</td>\n",
       "      <td>2015.0</td>\n",
       "      <td>Returned &lt; 90 days</td>\n",
       "      <td>0</td>\n",
       "      <td>1</td>\n",
       "      <td>0</td>\n",
       "      <td>0</td>\n",
       "      <td>0</td>\n",
       "      <td>0</td>\n",
       "      <td>0</td>\n",
       "      <td>...</td>\n",
       "      <td>1.0</td>\n",
       "      <td>36250.0</td>\n",
       "      <td>0.00</td>\n",
       "      <td>0</td>\n",
       "      <td>MA</td>\n",
       "      <td>0</td>\n",
       "      <td>0</td>\n",
       "      <td>0</td>\n",
       "      <td>0</td>\n",
       "      <td>1</td>\n",
       "    </tr>\n",
       "    <tr>\n",
       "      <th>2</th>\n",
       "      <td>3</td>\n",
       "      <td>2016.0</td>\n",
       "      <td>Returned &lt; 90 days</td>\n",
       "      <td>0</td>\n",
       "      <td>1</td>\n",
       "      <td>0</td>\n",
       "      <td>0</td>\n",
       "      <td>0</td>\n",
       "      <td>0</td>\n",
       "      <td>0</td>\n",
       "      <td>...</td>\n",
       "      <td>1.0</td>\n",
       "      <td>36250.0</td>\n",
       "      <td>0.67</td>\n",
       "      <td>0</td>\n",
       "      <td>MA</td>\n",
       "      <td>0</td>\n",
       "      <td>0</td>\n",
       "      <td>0</td>\n",
       "      <td>0</td>\n",
       "      <td>1</td>\n",
       "    </tr>\n",
       "    <tr>\n",
       "      <th>3</th>\n",
       "      <td>5</td>\n",
       "      <td>2014.0</td>\n",
       "      <td>Decline</td>\n",
       "      <td>0</td>\n",
       "      <td>1</td>\n",
       "      <td>0</td>\n",
       "      <td>0</td>\n",
       "      <td>0</td>\n",
       "      <td>0</td>\n",
       "      <td>0</td>\n",
       "      <td>...</td>\n",
       "      <td>1.0</td>\n",
       "      <td>74083.0</td>\n",
       "      <td>0.57</td>\n",
       "      <td>0</td>\n",
       "      <td>MA</td>\n",
       "      <td>0</td>\n",
       "      <td>0</td>\n",
       "      <td>0</td>\n",
       "      <td>1</td>\n",
       "      <td>0</td>\n",
       "    </tr>\n",
       "    <tr>\n",
       "      <th>4</th>\n",
       "      <td>7</td>\n",
       "      <td>2017.0</td>\n",
       "      <td>Returned</td>\n",
       "      <td>0</td>\n",
       "      <td>1</td>\n",
       "      <td>0</td>\n",
       "      <td>0</td>\n",
       "      <td>0</td>\n",
       "      <td>0</td>\n",
       "      <td>0</td>\n",
       "      <td>...</td>\n",
       "      <td>1.0</td>\n",
       "      <td>74083.0</td>\n",
       "      <td>3.73</td>\n",
       "      <td>0</td>\n",
       "      <td>MA</td>\n",
       "      <td>0</td>\n",
       "      <td>0</td>\n",
       "      <td>0</td>\n",
       "      <td>1</td>\n",
       "      <td>1</td>\n",
       "    </tr>\n",
       "  </tbody>\n",
       "</table>\n",
       "<p>5 rows × 24 columns</p>\n",
       "</div>"
      ],
      "text/plain": [
       "   Unnamed: 0    year              status  pay_method_ACH  \\\n",
       "0           0  2014.0  Returned < 90 days               0   \n",
       "1           1  2015.0  Returned < 90 days               0   \n",
       "2           3  2016.0  Returned < 90 days               0   \n",
       "3           5  2014.0             Decline               0   \n",
       "4           7  2017.0            Returned               0   \n",
       "\n",
       "   pay_method_credit card  pay_method_paper check  state_0  state_1  state_2  \\\n",
       "0                       1                       0        0        0        0   \n",
       "1                       1                       0        0        0        0   \n",
       "2                       1                       0        0        0        0   \n",
       "3                       1                       0        0        0        0   \n",
       "4                       1                       0        0        0        0   \n",
       "\n",
       "   state_3    ...     prod   income  months  18_months  state  status_0  \\\n",
       "0        0    ...      1.0  36250.0    0.87          0     MA         0   \n",
       "1        0    ...      1.0  36250.0    0.00          0     MA         0   \n",
       "2        0    ...      1.0  36250.0    0.67          0     MA         0   \n",
       "3        0    ...      1.0  74083.0    0.57          0     MA         0   \n",
       "4        0    ...      1.0  74083.0    3.73          0     MA         0   \n",
       "\n",
       "   status_1  status_2 status_3  status_4  \n",
       "0         0         0        0         1  \n",
       "1         0         0        0         1  \n",
       "2         0         0        0         1  \n",
       "3         0         0        1         0  \n",
       "4         0         0        1         1  \n",
       "\n",
       "[5 rows x 24 columns]"
      ]
     },
     "execution_count": 54,
     "metadata": {},
     "output_type": "execute_result"
    }
   ],
   "source": [
    "# Reading in each csv file for the imputed data\n",
    "data = pd.read_csv('imputed_data.csv', encoding = 'ISO-8859-1')\n",
    "data.head()"
   ]
  },
  {
   "cell_type": "code",
   "execution_count": 55,
   "metadata": {},
   "outputs": [],
   "source": [
    "# Separating out the y variable and selecting the continuous data that needs to be normalize\n",
    "Y = data['18_months']\n",
    "outlier_data = data[['lp_amount', 'income']]\n",
    "data = data.drop(['lp_amount', 'income', 'prod'], axis=1)"
   ]
  },
  {
   "cell_type": "code",
   "execution_count": 56,
   "metadata": {},
   "outputs": [
    {
     "data": {
      "image/png": "[encoded data removed]",
      "text/plain": [
       "<Figure size 432x288 with 1 Axes>"
      ]
     },
     "metadata": {
      "needs_background": "light"
     },
     "output_type": "display_data"
    }
   ],
   "source": [
    "# Creating a boxplot for the 'lp_amount' column\n",
    "plt.boxplot(outlier_data['lp_amount'])    \n",
    "# Naming the box plot after the name of the column  \n",
    "plt.title('lp_amount')\n",
    "plt.show()"
   ]
  },
  {
   "cell_type": "code",
   "execution_count": 57,
   "metadata": {},
   "outputs": [
    {
     "data": {
      "image/png": "[encoded data removed]",
      "text/plain": [
       "<Figure size 432x288 with 1 Axes>"
      ]
     },
     "metadata": {
      "needs_background": "light"
     },
     "output_type": "display_data"
    }
   ],
   "source": [
    "# Creating a boxplot for the 'income' column\n",
    "plt.boxplot(outlier_data['income'])    \n",
    "# Naming the box plot after the name of the column     \n",
    "plt.title('income')\n",
    "plt.show()"
   ]
  },
  {
   "cell_type": "code",
   "execution_count": 58,
   "metadata": {},
   "outputs": [
    {
     "data": {
      "text/plain": [
       "{'whiskers': [<matplotlib.lines.Line2D at 0x7f79c5f950b8>,\n",
       "  <matplotlib.lines.Line2D at 0x7f79c5f29748>],\n",
       " 'caps': [<matplotlib.lines.Line2D at 0x7f79c5f29470>,\n",
       "  <matplotlib.lines.Line2D at 0x7f79c5f299e8>],\n",
       " 'boxes': [<matplotlib.lines.Line2D at 0x7f79c5f95518>],\n",
       " 'medians': [<matplotlib.lines.Line2D at 0x7f79c5f29860>],\n",
       " 'fliers': [<matplotlib.lines.Line2D at 0x7f79c5f0f588>],\n",
       " 'means': []}"
      ]
     },
     "execution_count": 58,
     "metadata": {},
     "output_type": "execute_result"
    },
    {
     "data": {
      "image/png": "[encoded data removed]",
      "text/plain": [
       "<Figure size 432x288 with 1 Axes>"
      ]
     },
     "metadata": {
      "needs_background": "light"
     },
     "output_type": "display_data"
    }
   ],
   "source": [
    "# Defining the function 'outlier' to help with major outliers in the 'lp_amount' column\n",
    "\n",
    "def outlier(x):\n",
    "    if x > (Q3 + (1.5*IQR)):\n",
    "        x=Q3\n",
    "    elif x <(Q1 - (1.5*IQR)):\n",
    "        x=Q1\n",
    "    else:\n",
    "        pass\n",
    "    return(x)\n",
    "\n",
    "Q1 = outlier_data['lp_amount'].quantile(0.25)\n",
    "Q3 = outlier_data['lp_amount'].quantile(0.75)\n",
    "IQR = iqr(outlier_data['lp_amount'])\n",
    "outlier_data['lp_amount'] = outlier_data['lp_amount'].apply(lambda x: outlier(x))\n",
    "\n",
    "# Plotting the box plot\n",
    "plt.boxplot(outlier_data['lp_amount'])"
   ]
  },
  {
   "cell_type": "code",
   "execution_count": 59,
   "metadata": {},
   "outputs": [
    {
     "data": {
      "text/plain": [
       "{'whiskers': [<matplotlib.lines.Line2D at 0x7f79c6109b70>,\n",
       "  <matplotlib.lines.Line2D at 0x7f79c6109a58>],\n",
       " 'caps': [<matplotlib.lines.Line2D at 0x7f79c5cca588>,\n",
       "  <matplotlib.lines.Line2D at 0x7f79c6b6c550>],\n",
       " 'boxes': [<matplotlib.lines.Line2D at 0x7f79c5b72128>],\n",
       " 'medians': [<matplotlib.lines.Line2D at 0x7f79c6b6c630>],\n",
       " 'fliers': [<matplotlib.lines.Line2D at 0x7f79c6b6c160>],\n",
       " 'means': []}"
      ]
     },
     "execution_count": 59,
     "metadata": {},
     "output_type": "execute_result"
    },
    {
     "data": {
      "image/png": "[encoded data removed]",
      "text/plain": [
       "<Figure size 432x288 with 1 Axes>"
      ]
     },
     "metadata": {
      "needs_background": "light"
     },
     "output_type": "display_data"
    }
   ],
   "source": [
    "# Using the same definition and method above and apply it to the 'income' column\n",
    "Q1 = outlier_data['income'].quantile(0.25)\n",
    "Q3 = outlier_data['income'].quantile(0.75)\n",
    "IQR = iqr(outlier_data['income'])\n",
    "outlier_data['income'] = outlier_data['income'].apply(lambda x: outlier(x))\n",
    "\n",
    "# Plotting the box plot\n",
    "plt.boxplot(outlier_data['income'])"
   ]
  },
  {
   "cell_type": "code",
   "execution_count": 60,
   "metadata": {},
   "outputs": [
    {
     "data": {
      "text/plain": [
       "lp_amount       35.230399\n",
       "income       38084.855130\n",
       "dtype: float64"
      ]
     },
     "execution_count": 60,
     "metadata": {},
     "output_type": "execute_result"
    }
   ],
   "source": [
    "outlier_data.mean()"
   ]
  },
  {
   "cell_type": "code",
   "execution_count": 61,
   "metadata": {},
   "outputs": [],
   "source": [
    "# Creating the columns names to be inputed into the new normalized data\n",
    "norm_cols = ['lp_amount', 'income']\n",
    "\n",
    "# Normalizing the two columns in 'outlier_data' using the MinMax function\n",
    "minmax = preprocessing.MinMaxScaler()\n",
    "norm = (minmax.fit_transform(outlier_data))\n",
    "norm = pd.DataFrame(norm, columns=norm_cols)"
   ]
  },
  {
   "cell_type": "code",
   "execution_count": 62,
   "metadata": {},
   "outputs": [
    {
     "data": {
      "image/png": "[encoded data removed]",
      "text/plain": [
       "<Figure size 432x288 with 1 Axes>"
      ]
     },
     "metadata": {
      "needs_background": "light"
     },
     "output_type": "display_data"
    }
   ],
   "source": [
    "# Creating a histogram for the 'income' column\n",
    "plt.hist(norm['income'])    \n",
    "# Naming the box plot after the name of the column     \n",
    "plt.title('income')\n",
    "plt.show()"
   ]
  },
  {
   "cell_type": "code",
   "execution_count": 63,
   "metadata": {},
   "outputs": [
    {
     "data": {
      "image/png": "[encoded data removed]",
      "text/plain": [
       "<Figure size 432x288 with 1 Axes>"
      ]
     },
     "metadata": {
      "needs_background": "light"
     },
     "output_type": "display_data"
    }
   ],
   "source": [
    "# Creating a histogram for the 'lp_amount' column\n",
    "plt.hist(norm['lp_amount'])    \n",
    "# Naming the box plot after the name of the column     \n",
    "plt.title('lp_amount')\n",
    "plt.show()"
   ]
  },
  {
   "cell_type": "code",
   "execution_count": 64,
   "metadata": {},
   "outputs": [
    {
     "data": {
      "text/plain": [
       "lp_amount    0.507010\n",
       "income       0.494185\n",
       "dtype: float64"
      ]
     },
     "execution_count": 64,
     "metadata": {},
     "output_type": "execute_result"
    }
   ],
   "source": [
    "norm.mean()"
   ]
  },
  {
   "cell_type": "code",
   "execution_count": 65,
   "metadata": {},
   "outputs": [
    {
     "data": {
      "text/html": [
       "<div>\n",
       "<style scoped>\n",
       "    .dataframe tbody tr th:only-of-type {\n",
       "        vertical-align: middle;\n",
       "    }\n",
       "\n",
       "    .dataframe tbody tr th {\n",
       "        vertical-align: top;\n",
       "    }\n",
       "\n",
       "    .dataframe thead th {\n",
       "        text-align: right;\n",
       "    }\n",
       "</style>\n",
       "<table border=\"1\" class=\"dataframe\">\n",
       "  <thead>\n",
       "    <tr style=\"text-align: right;\">\n",
       "      <th></th>\n",
       "      <th>year</th>\n",
       "      <th>status</th>\n",
       "      <th>pay_method_ACH</th>\n",
       "      <th>pay_method_credit card</th>\n",
       "      <th>pay_method_paper check</th>\n",
       "      <th>state_0</th>\n",
       "      <th>state_1</th>\n",
       "      <th>state_2</th>\n",
       "      <th>state_3</th>\n",
       "      <th>state_4</th>\n",
       "      <th>...</th>\n",
       "      <th>months</th>\n",
       "      <th>state</th>\n",
       "      <th>status_0</th>\n",
       "      <th>status_1</th>\n",
       "      <th>status_2</th>\n",
       "      <th>status_3</th>\n",
       "      <th>status_4</th>\n",
       "      <th>lp_amount</th>\n",
       "      <th>income</th>\n",
       "      <th>Y</th>\n",
       "    </tr>\n",
       "  </thead>\n",
       "  <tbody>\n",
       "    <tr>\n",
       "      <th>0</th>\n",
       "      <td>2014.0</td>\n",
       "      <td>Returned &lt; 90 days</td>\n",
       "      <td>0</td>\n",
       "      <td>1</td>\n",
       "      <td>0</td>\n",
       "      <td>0</td>\n",
       "      <td>0</td>\n",
       "      <td>0</td>\n",
       "      <td>0</td>\n",
       "      <td>0</td>\n",
       "      <td>...</td>\n",
       "      <td>0.87</td>\n",
       "      <td>MA</td>\n",
       "      <td>0</td>\n",
       "      <td>0</td>\n",
       "      <td>0</td>\n",
       "      <td>0</td>\n",
       "      <td>1</td>\n",
       "      <td>0.500</td>\n",
       "      <td>0.462722</td>\n",
       "      <td>0</td>\n",
       "    </tr>\n",
       "    <tr>\n",
       "      <th>1</th>\n",
       "      <td>2015.0</td>\n",
       "      <td>Returned &lt; 90 days</td>\n",
       "      <td>0</td>\n",
       "      <td>1</td>\n",
       "      <td>0</td>\n",
       "      <td>0</td>\n",
       "      <td>0</td>\n",
       "      <td>0</td>\n",
       "      <td>0</td>\n",
       "      <td>0</td>\n",
       "      <td>...</td>\n",
       "      <td>0.00</td>\n",
       "      <td>MA</td>\n",
       "      <td>0</td>\n",
       "      <td>0</td>\n",
       "      <td>0</td>\n",
       "      <td>0</td>\n",
       "      <td>1</td>\n",
       "      <td>0.375</td>\n",
       "      <td>0.462722</td>\n",
       "      <td>0</td>\n",
       "    </tr>\n",
       "    <tr>\n",
       "      <th>2</th>\n",
       "      <td>2016.0</td>\n",
       "      <td>Returned &lt; 90 days</td>\n",
       "      <td>0</td>\n",
       "      <td>1</td>\n",
       "      <td>0</td>\n",
       "      <td>0</td>\n",
       "      <td>0</td>\n",
       "      <td>0</td>\n",
       "      <td>0</td>\n",
       "      <td>0</td>\n",
       "      <td>...</td>\n",
       "      <td>0.67</td>\n",
       "      <td>MA</td>\n",
       "      <td>0</td>\n",
       "      <td>0</td>\n",
       "      <td>0</td>\n",
       "      <td>0</td>\n",
       "      <td>1</td>\n",
       "      <td>0.625</td>\n",
       "      <td>0.462722</td>\n",
       "      <td>0</td>\n",
       "    </tr>\n",
       "    <tr>\n",
       "      <th>3</th>\n",
       "      <td>2014.0</td>\n",
       "      <td>Decline</td>\n",
       "      <td>0</td>\n",
       "      <td>1</td>\n",
       "      <td>0</td>\n",
       "      <td>0</td>\n",
       "      <td>0</td>\n",
       "      <td>0</td>\n",
       "      <td>0</td>\n",
       "      <td>0</td>\n",
       "      <td>...</td>\n",
       "      <td>0.57</td>\n",
       "      <td>MA</td>\n",
       "      <td>0</td>\n",
       "      <td>0</td>\n",
       "      <td>0</td>\n",
       "      <td>1</td>\n",
       "      <td>0</td>\n",
       "      <td>0.500</td>\n",
       "      <td>0.621078</td>\n",
       "      <td>0</td>\n",
       "    </tr>\n",
       "    <tr>\n",
       "      <th>4</th>\n",
       "      <td>2017.0</td>\n",
       "      <td>Returned</td>\n",
       "      <td>0</td>\n",
       "      <td>1</td>\n",
       "      <td>0</td>\n",
       "      <td>0</td>\n",
       "      <td>0</td>\n",
       "      <td>0</td>\n",
       "      <td>0</td>\n",
       "      <td>0</td>\n",
       "      <td>...</td>\n",
       "      <td>3.73</td>\n",
       "      <td>MA</td>\n",
       "      <td>0</td>\n",
       "      <td>0</td>\n",
       "      <td>0</td>\n",
       "      <td>1</td>\n",
       "      <td>1</td>\n",
       "      <td>0.625</td>\n",
       "      <td>0.621078</td>\n",
       "      <td>0</td>\n",
       "    </tr>\n",
       "  </tbody>\n",
       "</table>\n",
       "<p>5 rows × 22 columns</p>\n",
       "</div>"
      ],
      "text/plain": [
       "     year              status  pay_method_ACH  pay_method_credit card  \\\n",
       "0  2014.0  Returned < 90 days               0                       1   \n",
       "1  2015.0  Returned < 90 days               0                       1   \n",
       "2  2016.0  Returned < 90 days               0                       1   \n",
       "3  2014.0             Decline               0                       1   \n",
       "4  2017.0            Returned               0                       1   \n",
       "\n",
       "   pay_method_paper check  state_0  state_1  state_2  state_3  state_4 ...  \\\n",
       "0                       0        0        0        0        0        0 ...   \n",
       "1                       0        0        0        0        0        0 ...   \n",
       "2                       0        0        0        0        0        0 ...   \n",
       "3                       0        0        0        0        0        0 ...   \n",
       "4                       0        0        0        0        0        0 ...   \n",
       "\n",
       "   months  state  status_0 status_1  status_2  status_3  status_4  lp_amount  \\\n",
       "0    0.87     MA         0        0         0         0         1      0.500   \n",
       "1    0.00     MA         0        0         0         0         1      0.375   \n",
       "2    0.67     MA         0        0         0         0         1      0.625   \n",
       "3    0.57     MA         0        0         0         1         0      0.500   \n",
       "4    3.73     MA         0        0         0         1         1      0.625   \n",
       "\n",
       "     income  Y  \n",
       "0  0.462722  0  \n",
       "1  0.462722  0  \n",
       "2  0.462722  0  \n",
       "3  0.621078  0  \n",
       "4  0.621078  0  \n",
       "\n",
       "[5 rows x 22 columns]"
      ]
     },
     "execution_count": 65,
     "metadata": {},
     "output_type": "execute_result"
    }
   ],
   "source": [
    "# Combining the two datasets (first and normalized) back into one\n",
    "data = pd.concat([data, norm], axis = 1)\n",
    "\n",
    "# Delelting the 'Unnamed: 0' column\n",
    "data = data.drop(['Unnamed: 0'], axis = 1)\n",
    "\n",
    "#Renaming the 18_months column to 'Y'\n",
    "data['Y'] = data['18_months']\n",
    "data = data.drop(['18_months'], axis = 1)\n",
    "\n",
    "data.head()"
   ]
  },
  {
   "cell_type": "code",
   "execution_count": 66,
   "metadata": {},
   "outputs": [
    {
     "data": {
      "text/plain": [
       "<matplotlib.axes._subplots.AxesSubplot at 0x7f79c5ef0898>"
      ]
     },
     "execution_count": 66,
     "metadata": {},
     "output_type": "execute_result"
    },
    {
     "data": {
      "image/png": "[encoded data removed]",
      "text/plain": [
       "<Figure size 792x648 with 2 Axes>"
      ]
     },
     "metadata": {
      "needs_background": "light"
     },
     "output_type": "display_data"
    }
   ],
   "source": [
    "### I AM USING THIS CODE FROM COMPETITION 1\n",
    "\n",
    "## We will make it look nicer to the eye\n",
    "# Visualizing a Correlation Matrix\n",
    "correlation_visual = data.corr(method='spearman')\n",
    "\n",
    "# Have to generate a mask(hide) for the upper triangle\n",
    "hide = np.zeros_like(correlation_visual, dtype=np.bool)\n",
    "hide[np.triu_indices_from(hide)] = True\n",
    "\n",
    "# Setting the subplot for the correlation matrix\n",
    "f , ax = plt.subplots(figsize=(11,9))\n",
    "\n",
    "# Generating a diverging colormap\n",
    "cmap = sns.diverging_palette(100, 200, as_cmap=True)\n",
    "\n",
    "# Adding the heatmap\n",
    "sns.heatmap(correlation_visual, mask=hide, cmap=cmap, vmin=-1,vmax=1, center=0, square=True, linewidths=.6, cbar_kws={\"shrink\": .5})"
   ]
  },
  {
   "cell_type": "code",
   "execution_count": 67,
   "metadata": {},
   "outputs": [
    {
     "name": "stdout",
     "output_type": "stream",
     "text": [
      "                            year  pay_method_ACH  pay_method_credit card  \\\n",
      "year                    1.000000        0.050541               -0.036257   \n",
      "pay_method_ACH          0.050541        1.000000               -0.929667   \n",
      "pay_method_credit card -0.036257       -0.929667                1.000000   \n",
      "pay_method_paper check -0.023339       -0.045081               -0.291222   \n",
      "state_0                      NaN             NaN                     NaN   \n",
      "state_1                -0.012905        0.006953               -0.005758   \n",
      "state_2                -0.008363        0.025032               -0.023861   \n",
      "state_3                 0.018184       -0.013447                0.012738   \n",
      "state_4                 0.034342        0.017941               -0.016536   \n",
      "state_5                 0.023103       -0.000883                0.001309   \n",
      "state_6                -0.015223       -0.014212                0.013183   \n",
      "months                 -0.054112        0.073194               -0.098509   \n",
      "status_0                     NaN             NaN                     NaN   \n",
      "status_1                0.130393        0.025783               -0.028390   \n",
      "status_2               -0.086128        0.105176               -0.085455   \n",
      "status_3                0.102329       -0.024783                0.008017   \n",
      "status_4               -0.088894       -0.035568                0.011037   \n",
      "lp_amount               0.127786       -0.028246                0.025408   \n",
      "income                 -0.048773       -0.015254                0.012806   \n",
      "Y                      -0.089842        0.088592               -0.101806   \n",
      "\n",
      "                        pay_method_paper check  state_0   state_1   state_2  \\\n",
      "year                                 -0.023339      NaN -0.012905 -0.008363   \n",
      "pay_method_ACH                       -0.045081      NaN  0.006953  0.025032   \n",
      "pay_method_credit card               -0.291222      NaN -0.005758 -0.023861   \n",
      "pay_method_paper check                1.000000      NaN -0.002540  0.000850   \n",
      "state_0                                    NaN      NaN       NaN       NaN   \n",
      "state_1                              -0.002540      NaN  1.000000 -0.137104   \n",
      "state_2                               0.000850      NaN -0.137104  1.000000   \n",
      "state_3                               0.000015      NaN -0.156509 -0.231417   \n",
      "state_4                              -0.000584      NaN  0.213116 -0.035181   \n",
      "state_5                              -0.001246      NaN -0.099840 -0.223425   \n",
      "state_6                              -0.001505      NaN  0.002140  0.006907   \n",
      "months                                0.113460      NaN  0.004993 -0.012843   \n",
      "status_0                                   NaN      NaN       NaN       NaN   \n",
      "status_1                              0.014892      NaN -0.000158 -0.006885   \n",
      "status_2                             -0.038461      NaN  0.005496 -0.002623   \n",
      "status_3                              0.033173      NaN -0.009074  0.007347   \n",
      "status_4                              0.090940      NaN  0.006065 -0.015532   \n",
      "lp_amount                             0.003313      NaN  0.009725  0.014153   \n",
      "income                                0.006873      NaN  0.004641 -0.056140   \n",
      "Y                                     0.062032      NaN -0.003725 -0.001672   \n",
      "\n",
      "                         state_3   state_4   state_5   state_6    months  \\\n",
      "year                    0.018184  0.034342  0.023103 -0.015223 -0.054112   \n",
      "pay_method_ACH         -0.013447  0.017941 -0.000883 -0.014212  0.073194   \n",
      "pay_method_credit card  0.012738 -0.016536  0.001309  0.013183 -0.098509   \n",
      "pay_method_paper check  0.000015 -0.000584 -0.001246 -0.001505  0.113460   \n",
      "state_0                      NaN       NaN       NaN       NaN       NaN   \n",
      "state_1                -0.156509  0.213116 -0.099840  0.002140  0.004993   \n",
      "state_2                -0.231417 -0.035181 -0.223425  0.006907 -0.012843   \n",
      "state_3                 1.000000  0.041452 -0.130232  0.055964  0.006705   \n",
      "state_4                 0.041452  1.000000  0.084015 -0.068801  0.002508   \n",
      "state_5                -0.130232  0.084015  1.000000 -0.183565 -0.004253   \n",
      "state_6                 0.055964 -0.068801 -0.183565  1.000000  0.009290   \n",
      "months                  0.006705  0.002508 -0.004253  0.009290  1.000000   \n",
      "status_0                     NaN       NaN       NaN       NaN       NaN   \n",
      "status_1                0.003812  0.003049  0.002585 -0.007869  0.150299   \n",
      "status_2               -0.005937 -0.010188 -0.004164  0.011865 -0.089093   \n",
      "status_3                0.003398  0.001110  0.006808 -0.031814  0.160813   \n",
      "status_4                0.003183 -0.000023 -0.000198  0.024477  0.540288   \n",
      "lp_amount              -0.004581  0.003025  0.018111 -0.027387 -0.028426   \n",
      "income                  0.015199 -0.072729 -0.065585  0.085066  0.062692   \n",
      "Y                      -0.002939 -0.003884 -0.004609  0.006917  0.547031   \n",
      "\n",
      "                        status_0  status_1  status_2  status_3  status_4  \\\n",
      "year                         NaN  0.130393 -0.086128  0.102329 -0.088894   \n",
      "pay_method_ACH               NaN  0.025783  0.105176 -0.024783 -0.035568   \n",
      "pay_method_credit card       NaN -0.028390 -0.085455  0.008017  0.011037   \n",
      "pay_method_paper check       NaN  0.014892 -0.038461  0.033173  0.090940   \n",
      "state_0                      NaN       NaN       NaN       NaN       NaN   \n",
      "state_1                      NaN -0.000158  0.005496 -0.009074  0.006065   \n",
      "state_2                      NaN -0.006885 -0.002623  0.007347 -0.015532   \n",
      "state_3                      NaN  0.003812 -0.005937  0.003398  0.003183   \n",
      "state_4                      NaN  0.003049 -0.010188  0.001110 -0.000023   \n",
      "state_5                      NaN  0.002585 -0.004164  0.006808 -0.000198   \n",
      "state_6                      NaN -0.007869  0.011865 -0.031814  0.024477   \n",
      "months                       NaN  0.150299 -0.089093  0.160813  0.540288   \n",
      "status_0                     NaN       NaN       NaN       NaN       NaN   \n",
      "status_1                     NaN  1.000000 -0.059066 -0.188586 -0.124191   \n",
      "status_2                     NaN -0.059066  1.000000 -0.322571 -0.225743   \n",
      "status_3                     NaN -0.188586 -0.322571  1.000000 -0.260185   \n",
      "status_4                     NaN -0.124191 -0.225743 -0.260185  1.000000   \n",
      "lp_amount                    NaN  0.052981 -0.057840  0.066915 -0.031543   \n",
      "income                       NaN -0.003476  0.039238 -0.089409  0.103140   \n",
      "Y                            NaN  0.106197  0.144073  0.202361  0.052826   \n",
      "\n",
      "                        lp_amount    income         Y  \n",
      "year                     0.127786 -0.048773 -0.089842  \n",
      "pay_method_ACH          -0.028246 -0.015254  0.088592  \n",
      "pay_method_credit card   0.025408  0.012806 -0.101806  \n",
      "pay_method_paper check   0.003313  0.006873  0.062032  \n",
      "state_0                       NaN       NaN       NaN  \n",
      "state_1                  0.009725  0.004641 -0.003725  \n",
      "state_2                  0.014153 -0.056140 -0.001672  \n",
      "state_3                 -0.004581  0.015199 -0.002939  \n",
      "state_4                  0.003025 -0.072729 -0.003884  \n",
      "state_5                  0.018111 -0.065585 -0.004609  \n",
      "state_6                 -0.027387  0.085066  0.006917  \n",
      "months                  -0.028426  0.062692  0.547031  \n",
      "status_0                      NaN       NaN       NaN  \n",
      "status_1                 0.052981 -0.003476  0.106197  \n",
      "status_2                -0.057840  0.039238  0.144073  \n",
      "status_3                 0.066915 -0.089409  0.202361  \n",
      "status_4                -0.031543  0.103140  0.052826  \n",
      "lp_amount                1.000000 -0.044995 -0.054353  \n",
      "income                  -0.044995  1.000000  0.035704  \n",
      "Y                       -0.054353  0.035704  1.000000  \n"
     ]
    }
   ],
   "source": [
    "print(data.corr(method = 'spearman'))"
   ]
  },
  {
   "cell_type": "code",
   "execution_count": 68,
   "metadata": {},
   "outputs": [],
   "source": [
    "# Exporting the balanced data to a csv file to be used in the other classification models\n",
    "data.to_csv('final_data.csv',',')"
   ]
  },
  {
   "cell_type": "code",
   "execution_count": null,
   "metadata": {},
   "outputs": [],
   "source": []
  }
 ],
 "metadata": {
  "kernelspec": {
   "display_name": "Python 3",
   "language": "python",
   "name": "python3"
  },
  "language_info": {
   "codemirror_mode": {
    "name": "ipython",
    "version": 3
   },
   "file_extension": ".py",
   "mimetype": "text/x-python",
   "name": "python",
   "nbconvert_exporter": "python",
   "pygments_lexer": "ipython3",
   "version": "3.6.7"
  }
 },
 "nbformat": 4,
 "nbformat_minor": 2
}
