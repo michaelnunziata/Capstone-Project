{
 "cells": [
  {
   "cell_type": "code",
   "execution_count": 3,
   "metadata": {},
   "outputs": [],
   "source": [
    "# Importing the necessary packages\n",
    "import pandas as pd\n",
    "import numpy as np\n",
    "import matplotlib.pyplot as plt\n",
    "from sklearn import preprocessing\n",
    "from sklearn.preprocessing import MinMaxScaler\n",
    "from scipy.stats import iqr\n",
    "import seaborn as sns"
   ]
  },
  {
   "cell_type": "code",
   "execution_count": 4,
   "metadata": {},
   "outputs": [
    {
     "data": {
      "text/html": [
       "<div>\n",
       "<style scoped>\n",
       "    .dataframe tbody tr th:only-of-type {\n",
       "        vertical-align: middle;\n",
       "    }\n",
       "\n",
       "    .dataframe tbody tr th {\n",
       "        vertical-align: top;\n",
       "    }\n",
       "\n",
       "    .dataframe thead th {\n",
       "        text-align: right;\n",
       "    }\n",
       "</style>\n",
       "<table border=\"1\" class=\"dataframe\">\n",
       "  <thead>\n",
       "    <tr style=\"text-align: right;\">\n",
       "      <th></th>\n",
       "      <th>Unnamed: 0</th>\n",
       "      <th>year</th>\n",
       "      <th>status</th>\n",
       "      <th>pay_method_ACH</th>\n",
       "      <th>pay_method_credit card</th>\n",
       "      <th>pay_method_paper check</th>\n",
       "      <th>state_0</th>\n",
       "      <th>state_1</th>\n",
       "      <th>state_2</th>\n",
       "      <th>state_3</th>\n",
       "      <th>...</th>\n",
       "      <th>prod</th>\n",
       "      <th>income</th>\n",
       "      <th>months</th>\n",
       "      <th>18_months</th>\n",
       "      <th>state</th>\n",
       "      <th>status_0</th>\n",
       "      <th>status_1</th>\n",
       "      <th>status_2</th>\n",
       "      <th>status_3</th>\n",
       "      <th>status_4</th>\n",
       "    </tr>\n",
       "  </thead>\n",
       "  <tbody>\n",
       "    <tr>\n",
       "      <th>0</th>\n",
       "      <td>0</td>\n",
       "      <td>2014.0</td>\n",
       "      <td>Returned &lt; 90 days</td>\n",
       "      <td>0</td>\n",
       "      <td>1</td>\n",
       "      <td>0</td>\n",
       "      <td>0</td>\n",
       "      <td>0</td>\n",
       "      <td>0</td>\n",
       "      <td>0</td>\n",
       "      <td>...</td>\n",
       "      <td>1.0</td>\n",
       "      <td>36250.0</td>\n",
       "      <td>0.87</td>\n",
       "      <td>0</td>\n",
       "      <td>MA</td>\n",
       "      <td>0</td>\n",
       "      <td>0</td>\n",
       "      <td>0</td>\n",
       "      <td>0</td>\n",
       "      <td>1</td>\n",
       "    </tr>\n",
       "    <tr>\n",
       "      <th>1</th>\n",
       "      <td>1</td>\n",
       "      <td>2015.0</td>\n",
       "      <td>Returned &lt; 90 days</td>\n",
       "      <td>0</td>\n",
       "      <td>1</td>\n",
       "      <td>0</td>\n",
       "      <td>0</td>\n",
       "      <td>0</td>\n",
       "      <td>0</td>\n",
       "      <td>0</td>\n",
       "      <td>...</td>\n",
       "      <td>1.0</td>\n",
       "      <td>36250.0</td>\n",
       "      <td>0.00</td>\n",
       "      <td>0</td>\n",
       "      <td>MA</td>\n",
       "      <td>0</td>\n",
       "      <td>0</td>\n",
       "      <td>0</td>\n",
       "      <td>0</td>\n",
       "      <td>1</td>\n",
       "    </tr>\n",
       "    <tr>\n",
       "      <th>2</th>\n",
       "      <td>2</td>\n",
       "      <td>2016.0</td>\n",
       "      <td>Switched to LW</td>\n",
       "      <td>0</td>\n",
       "      <td>1</td>\n",
       "      <td>0</td>\n",
       "      <td>0</td>\n",
       "      <td>0</td>\n",
       "      <td>0</td>\n",
       "      <td>0</td>\n",
       "      <td>...</td>\n",
       "      <td>1.0</td>\n",
       "      <td>36250.0</td>\n",
       "      <td>0.00</td>\n",
       "      <td>0</td>\n",
       "      <td>MA</td>\n",
       "      <td>0</td>\n",
       "      <td>0</td>\n",
       "      <td>0</td>\n",
       "      <td>1</td>\n",
       "      <td>0</td>\n",
       "    </tr>\n",
       "    <tr>\n",
       "      <th>3</th>\n",
       "      <td>3</td>\n",
       "      <td>2016.0</td>\n",
       "      <td>Returned &lt; 90 days</td>\n",
       "      <td>0</td>\n",
       "      <td>1</td>\n",
       "      <td>0</td>\n",
       "      <td>0</td>\n",
       "      <td>0</td>\n",
       "      <td>0</td>\n",
       "      <td>0</td>\n",
       "      <td>...</td>\n",
       "      <td>1.0</td>\n",
       "      <td>36250.0</td>\n",
       "      <td>0.67</td>\n",
       "      <td>0</td>\n",
       "      <td>MA</td>\n",
       "      <td>0</td>\n",
       "      <td>0</td>\n",
       "      <td>0</td>\n",
       "      <td>0</td>\n",
       "      <td>1</td>\n",
       "    </tr>\n",
       "    <tr>\n",
       "      <th>4</th>\n",
       "      <td>5</td>\n",
       "      <td>2014.0</td>\n",
       "      <td>Decline</td>\n",
       "      <td>0</td>\n",
       "      <td>1</td>\n",
       "      <td>0</td>\n",
       "      <td>0</td>\n",
       "      <td>0</td>\n",
       "      <td>0</td>\n",
       "      <td>0</td>\n",
       "      <td>...</td>\n",
       "      <td>1.0</td>\n",
       "      <td>74083.0</td>\n",
       "      <td>0.57</td>\n",
       "      <td>0</td>\n",
       "      <td>MA</td>\n",
       "      <td>0</td>\n",
       "      <td>0</td>\n",
       "      <td>0</td>\n",
       "      <td>1</td>\n",
       "      <td>1</td>\n",
       "    </tr>\n",
       "  </tbody>\n",
       "</table>\n",
       "<p>5 rows × 24 columns</p>\n",
       "</div>"
      ],
      "text/plain": [
       "   Unnamed: 0    year              status  pay_method_ACH  \\\n",
       "0           0  2014.0  Returned < 90 days               0   \n",
       "1           1  2015.0  Returned < 90 days               0   \n",
       "2           2  2016.0      Switched to LW               0   \n",
       "3           3  2016.0  Returned < 90 days               0   \n",
       "4           5  2014.0             Decline               0   \n",
       "\n",
       "   pay_method_credit card  pay_method_paper check  state_0  state_1  state_2  \\\n",
       "0                       1                       0        0        0        0   \n",
       "1                       1                       0        0        0        0   \n",
       "2                       1                       0        0        0        0   \n",
       "3                       1                       0        0        0        0   \n",
       "4                       1                       0        0        0        0   \n",
       "\n",
       "   state_3    ...     prod   income  months  18_months  state  status_0  \\\n",
       "0        0    ...      1.0  36250.0    0.87          0     MA         0   \n",
       "1        0    ...      1.0  36250.0    0.00          0     MA         0   \n",
       "2        0    ...      1.0  36250.0    0.00          0     MA         0   \n",
       "3        0    ...      1.0  36250.0    0.67          0     MA         0   \n",
       "4        0    ...      1.0  74083.0    0.57          0     MA         0   \n",
       "\n",
       "   status_1  status_2 status_3  status_4  \n",
       "0         0         0        0         1  \n",
       "1         0         0        0         1  \n",
       "2         0         0        1         0  \n",
       "3         0         0        0         1  \n",
       "4         0         0        1         1  \n",
       "\n",
       "[5 rows x 24 columns]"
      ]
     },
     "execution_count": 4,
     "metadata": {},
     "output_type": "execute_result"
    }
   ],
   "source": [
    "# Reading in each csv file for the imputed data\n",
    "data = pd.read_csv('imputed_data.csv', encoding = 'ISO-8859-1')\n",
    "data.head()"
   ]
  },
  {
   "cell_type": "code",
   "execution_count": 5,
   "metadata": {},
   "outputs": [],
   "source": [
    "# Separating out the y variable and selecting the continuous data that needs to be normalize\n",
    "Y = data['18_months']\n",
    "outlier_data = data[['lp_amount', 'income', 'prod']]\n",
    "data = data.drop(['lp_amount', 'income', 'prod'], axis=1)"
   ]
  },
  {
   "cell_type": "code",
   "execution_count": 6,
   "metadata": {},
   "outputs": [
    {
     "data": {
      "image/png": "[encoded data removed]",
      "text/plain": [
       "<Figure size 432x288 with 1 Axes>"
      ]
     },
     "metadata": {
      "needs_background": "light"
     },
     "output_type": "display_data"
    }
   ],
   "source": [
    "# Creating a boxplot for the 'lp_amount' column\n",
    "plt.boxplot(outlier_data['lp_amount'])    \n",
    "# Naming the box plot after the name of the column  \n",
    "plt.title('lp_amount')\n",
    "plt.show()"
   ]
  },
  {
   "cell_type": "code",
   "execution_count": 7,
   "metadata": {},
   "outputs": [
    {
     "data": {
      "image/png": "[encoded data removed]",
      "text/plain": [
       "<Figure size 432x288 with 1 Axes>"
      ]
     },
     "metadata": {
      "needs_background": "light"
     },
     "output_type": "display_data"
    }
   ],
   "source": [
    "# Creating a boxplot for the 'income' column\n",
    "plt.boxplot(outlier_data['income'])    \n",
    "# Naming the box plot after the name of the column     \n",
    "plt.title('income')\n",
    "plt.show()"
   ]
  },
  {
   "cell_type": "code",
   "execution_count": 8,
   "metadata": {},
   "outputs": [
    {
     "data": {
      "image/png": "[encoded data removed]",
      "text/plain": [
       "<Figure size 432x288 with 1 Axes>"
      ]
     },
     "metadata": {
      "needs_background": "light"
     },
     "output_type": "display_data"
    }
   ],
   "source": [
    "# Creating a boxplot for the 'prod' column\n",
    "plt.boxplot(outlier_data['prod'])    \n",
    "# Naming the box plot after the name of the column  \n",
    "plt.title('prod')\n",
    "plt.show()"
   ]
  },
  {
   "cell_type": "code",
   "execution_count": 9,
   "metadata": {},
   "outputs": [
    {
     "data": {
      "text/plain": [
       "{'whiskers': [<matplotlib.lines.Line2D at 0x7f481723ed30>,\n",
       "  <matplotlib.lines.Line2D at 0x7f481723e278>],\n",
       " 'caps': [<matplotlib.lines.Line2D at 0x7f48172b3fd0>,\n",
       "  <matplotlib.lines.Line2D at 0x7f48172b30b8>],\n",
       " 'boxes': [<matplotlib.lines.Line2D at 0x7f481723eba8>],\n",
       " 'medians': [<matplotlib.lines.Line2D at 0x7f48172b32e8>],\n",
       " 'fliers': [<matplotlib.lines.Line2D at 0x7f48172b3cf8>],\n",
       " 'means': []}"
      ]
     },
     "execution_count": 9,
     "metadata": {},
     "output_type": "execute_result"
    },
    {
     "data": {
      "image/png": "[encoded data removed]",
      "text/plain": [
       "<Figure size 432x288 with 1 Axes>"
      ]
     },
     "metadata": {
      "needs_background": "light"
     },
     "output_type": "display_data"
    }
   ],
   "source": [
    "# Defining the function 'outlier' to help with major outliers in the 'lp_amount' column\n",
    "\n",
    "def outlier(x):\n",
    "    if x > (Q3 + (1.5*IQR)):\n",
    "        x=Q3\n",
    "    elif x <(Q1 - (1.5*IQR)):\n",
    "        x=Q1\n",
    "    else:\n",
    "        pass\n",
    "    return(x)\n",
    "\n",
    "Q1 = outlier_data['lp_amount'].quantile(0.25)\n",
    "Q3 = outlier_data['lp_amount'].quantile(0.75)\n",
    "IQR = iqr(outlier_data['lp_amount'])\n",
    "outlier_data['lp_amount'] = outlier_data['lp_amount'].apply(lambda x: outlier(x))\n",
    "\n",
    "# Plotting the box plot\n",
    "plt.boxplot(outlier_data['lp_amount'])"
   ]
  },
  {
   "cell_type": "code",
   "execution_count": 10,
   "metadata": {},
   "outputs": [
    {
     "data": {
      "text/plain": [
       "{'whiskers': [<matplotlib.lines.Line2D at 0x7f4817338470>,\n",
       "  <matplotlib.lines.Line2D at 0x7f4817338f98>],\n",
       " 'caps': [<matplotlib.lines.Line2D at 0x7f48173387f0>,\n",
       "  <matplotlib.lines.Line2D at 0x7f4817338358>],\n",
       " 'boxes': [<matplotlib.lines.Line2D at 0x7f4817338b70>],\n",
       " 'medians': [<matplotlib.lines.Line2D at 0x7f4817265cf8>],\n",
       " 'fliers': [<matplotlib.lines.Line2D at 0x7f48172658d0>],\n",
       " 'means': []}"
      ]
     },
     "execution_count": 10,
     "metadata": {},
     "output_type": "execute_result"
    },
    {
     "data": {
      "image/png": "[encoded data removed]",
      "text/plain": [
       "<Figure size 432x288 with 1 Axes>"
      ]
     },
     "metadata": {
      "needs_background": "light"
     },
     "output_type": "display_data"
    }
   ],
   "source": [
    "# Using the same definition and method above and apply it to the 'income' column\n",
    "Q1 = outlier_data['income'].quantile(0.25)\n",
    "Q3 = outlier_data['income'].quantile(0.75)\n",
    "IQR = iqr(outlier_data['income'])\n",
    "outlier_data['income'] = outlier_data['income'].apply(lambda x: outlier(x))\n",
    "\n",
    "# Plotting the box plot\n",
    "plt.boxplot(outlier_data['income'])"
   ]
  },
  {
   "cell_type": "code",
   "execution_count": 11,
   "metadata": {},
   "outputs": [
    {
     "data": {
      "text/plain": [
       "lp_amount       35.185814\n",
       "income       38225.140936\n",
       "prod             1.402031\n",
       "dtype: float64"
      ]
     },
     "execution_count": 11,
     "metadata": {},
     "output_type": "execute_result"
    }
   ],
   "source": [
    "outlier_data.mean()"
   ]
  },
  {
   "cell_type": "code",
   "execution_count": 12,
   "metadata": {},
   "outputs": [],
   "source": [
    "# Creating the columns names to be inputed into the new normalized data\n",
    "norm_cols = ['lp_amount', 'income', 'prod']\n",
    "\n",
    "# Normalizing the two columns in 'outlier_data' using the MinMax function\n",
    "minmax = preprocessing.MinMaxScaler()\n",
    "norm = (minmax.fit_transform(outlier_data))\n",
    "norm = pd.DataFrame(norm, columns=norm_cols)"
   ]
  },
  {
   "cell_type": "code",
   "execution_count": 13,
   "metadata": {},
   "outputs": [
    {
     "data": {
      "image/png": "[encoded data removed]",
      "text/plain": [
       "<Figure size 432x288 with 1 Axes>"
      ]
     },
     "metadata": {
      "needs_background": "light"
     },
     "output_type": "display_data"
    }
   ],
   "source": [
    "# Creating a histogram for the 'income' column\n",
    "plt.hist(norm['income'])    \n",
    "# Naming the box plot after the name of the column     \n",
    "plt.title('income')\n",
    "plt.show()"
   ]
  },
  {
   "cell_type": "code",
   "execution_count": 14,
   "metadata": {},
   "outputs": [
    {
     "data": {
      "image/png": "[encoded data removed]",
      "text/plain": [
       "<Figure size 432x288 with 1 Axes>"
      ]
     },
     "metadata": {
      "needs_background": "light"
     },
     "output_type": "display_data"
    }
   ],
   "source": [
    "# Creating a histogram for the 'lp_amount' column\n",
    "plt.hist(norm['lp_amount'])    \n",
    "# Naming the box plot after the name of the column     \n",
    "plt.title('lp_amount')\n",
    "plt.show()"
   ]
  },
  {
   "cell_type": "code",
   "execution_count": 15,
   "metadata": {},
   "outputs": [
    {
     "data": {
      "image/png": "[encoded data removed]",
      "text/plain": [
       "<Figure size 432x288 with 1 Axes>"
      ]
     },
     "metadata": {
      "needs_background": "light"
     },
     "output_type": "display_data"
    }
   ],
   "source": [
    "# Creating a histogram for the 'prod' column\n",
    "plt.hist(norm['prod'])    \n",
    "# Naming the box plot after the name of the column     \n",
    "plt.title('prod')\n",
    "plt.show()"
   ]
  },
  {
   "cell_type": "code",
   "execution_count": 16,
   "metadata": {},
   "outputs": [
    {
     "data": {
      "text/plain": [
       "lp_amount    0.505895\n",
       "income       0.493266\n",
       "prod         0.020102\n",
       "dtype: float64"
      ]
     },
     "execution_count": 16,
     "metadata": {},
     "output_type": "execute_result"
    }
   ],
   "source": [
    "norm.mean()"
   ]
  },
  {
   "cell_type": "code",
   "execution_count": 17,
   "metadata": {},
   "outputs": [
    {
     "data": {
      "text/html": [
       "<div>\n",
       "<style scoped>\n",
       "    .dataframe tbody tr th:only-of-type {\n",
       "        vertical-align: middle;\n",
       "    }\n",
       "\n",
       "    .dataframe tbody tr th {\n",
       "        vertical-align: top;\n",
       "    }\n",
       "\n",
       "    .dataframe thead th {\n",
       "        text-align: right;\n",
       "    }\n",
       "</style>\n",
       "<table border=\"1\" class=\"dataframe\">\n",
       "  <thead>\n",
       "    <tr style=\"text-align: right;\">\n",
       "      <th></th>\n",
       "      <th>year</th>\n",
       "      <th>status</th>\n",
       "      <th>pay_method_ACH</th>\n",
       "      <th>pay_method_credit card</th>\n",
       "      <th>pay_method_paper check</th>\n",
       "      <th>state_0</th>\n",
       "      <th>state_1</th>\n",
       "      <th>state_2</th>\n",
       "      <th>state_3</th>\n",
       "      <th>state_4</th>\n",
       "      <th>...</th>\n",
       "      <th>state</th>\n",
       "      <th>status_0</th>\n",
       "      <th>status_1</th>\n",
       "      <th>status_2</th>\n",
       "      <th>status_3</th>\n",
       "      <th>status_4</th>\n",
       "      <th>lp_amount</th>\n",
       "      <th>income</th>\n",
       "      <th>prod</th>\n",
       "      <th>Y</th>\n",
       "    </tr>\n",
       "  </thead>\n",
       "  <tbody>\n",
       "    <tr>\n",
       "      <th>0</th>\n",
       "      <td>2014.0</td>\n",
       "      <td>Returned &lt; 90 days</td>\n",
       "      <td>0</td>\n",
       "      <td>1</td>\n",
       "      <td>0</td>\n",
       "      <td>0</td>\n",
       "      <td>0</td>\n",
       "      <td>0</td>\n",
       "      <td>0</td>\n",
       "      <td>0</td>\n",
       "      <td>...</td>\n",
       "      <td>MA</td>\n",
       "      <td>0</td>\n",
       "      <td>0</td>\n",
       "      <td>0</td>\n",
       "      <td>0</td>\n",
       "      <td>1</td>\n",
       "      <td>0.500</td>\n",
       "      <td>0.459624</td>\n",
       "      <td>0.0</td>\n",
       "      <td>0</td>\n",
       "    </tr>\n",
       "    <tr>\n",
       "      <th>1</th>\n",
       "      <td>2015.0</td>\n",
       "      <td>Returned &lt; 90 days</td>\n",
       "      <td>0</td>\n",
       "      <td>1</td>\n",
       "      <td>0</td>\n",
       "      <td>0</td>\n",
       "      <td>0</td>\n",
       "      <td>0</td>\n",
       "      <td>0</td>\n",
       "      <td>0</td>\n",
       "      <td>...</td>\n",
       "      <td>MA</td>\n",
       "      <td>0</td>\n",
       "      <td>0</td>\n",
       "      <td>0</td>\n",
       "      <td>0</td>\n",
       "      <td>1</td>\n",
       "      <td>0.375</td>\n",
       "      <td>0.459624</td>\n",
       "      <td>0.0</td>\n",
       "      <td>0</td>\n",
       "    </tr>\n",
       "    <tr>\n",
       "      <th>2</th>\n",
       "      <td>2016.0</td>\n",
       "      <td>Switched to LW</td>\n",
       "      <td>0</td>\n",
       "      <td>1</td>\n",
       "      <td>0</td>\n",
       "      <td>0</td>\n",
       "      <td>0</td>\n",
       "      <td>0</td>\n",
       "      <td>0</td>\n",
       "      <td>0</td>\n",
       "      <td>...</td>\n",
       "      <td>MA</td>\n",
       "      <td>0</td>\n",
       "      <td>0</td>\n",
       "      <td>0</td>\n",
       "      <td>1</td>\n",
       "      <td>0</td>\n",
       "      <td>0.375</td>\n",
       "      <td>0.459624</td>\n",
       "      <td>0.0</td>\n",
       "      <td>0</td>\n",
       "    </tr>\n",
       "    <tr>\n",
       "      <th>3</th>\n",
       "      <td>2016.0</td>\n",
       "      <td>Returned &lt; 90 days</td>\n",
       "      <td>0</td>\n",
       "      <td>1</td>\n",
       "      <td>0</td>\n",
       "      <td>0</td>\n",
       "      <td>0</td>\n",
       "      <td>0</td>\n",
       "      <td>0</td>\n",
       "      <td>0</td>\n",
       "      <td>...</td>\n",
       "      <td>MA</td>\n",
       "      <td>0</td>\n",
       "      <td>0</td>\n",
       "      <td>0</td>\n",
       "      <td>0</td>\n",
       "      <td>1</td>\n",
       "      <td>0.625</td>\n",
       "      <td>0.459624</td>\n",
       "      <td>0.0</td>\n",
       "      <td>0</td>\n",
       "    </tr>\n",
       "    <tr>\n",
       "      <th>4</th>\n",
       "      <td>2014.0</td>\n",
       "      <td>Decline</td>\n",
       "      <td>0</td>\n",
       "      <td>1</td>\n",
       "      <td>0</td>\n",
       "      <td>0</td>\n",
       "      <td>0</td>\n",
       "      <td>0</td>\n",
       "      <td>0</td>\n",
       "      <td>0</td>\n",
       "      <td>...</td>\n",
       "      <td>MA</td>\n",
       "      <td>0</td>\n",
       "      <td>0</td>\n",
       "      <td>0</td>\n",
       "      <td>1</td>\n",
       "      <td>1</td>\n",
       "      <td>0.500</td>\n",
       "      <td>0.619935</td>\n",
       "      <td>0.0</td>\n",
       "      <td>0</td>\n",
       "    </tr>\n",
       "  </tbody>\n",
       "</table>\n",
       "<p>5 rows × 23 columns</p>\n",
       "</div>"
      ],
      "text/plain": [
       "     year              status  pay_method_ACH  pay_method_credit card  \\\n",
       "0  2014.0  Returned < 90 days               0                       1   \n",
       "1  2015.0  Returned < 90 days               0                       1   \n",
       "2  2016.0      Switched to LW               0                       1   \n",
       "3  2016.0  Returned < 90 days               0                       1   \n",
       "4  2014.0             Decline               0                       1   \n",
       "\n",
       "   pay_method_paper check  state_0  state_1  state_2  state_3  state_4 ...  \\\n",
       "0                       0        0        0        0        0        0 ...   \n",
       "1                       0        0        0        0        0        0 ...   \n",
       "2                       0        0        0        0        0        0 ...   \n",
       "3                       0        0        0        0        0        0 ...   \n",
       "4                       0        0        0        0        0        0 ...   \n",
       "\n",
       "   state  status_0  status_1 status_2  status_3  status_4  lp_amount  \\\n",
       "0     MA         0         0        0         0         1      0.500   \n",
       "1     MA         0         0        0         0         1      0.375   \n",
       "2     MA         0         0        0         1         0      0.375   \n",
       "3     MA         0         0        0         0         1      0.625   \n",
       "4     MA         0         0        0         1         1      0.500   \n",
       "\n",
       "     income  prod  Y  \n",
       "0  0.459624   0.0  0  \n",
       "1  0.459624   0.0  0  \n",
       "2  0.459624   0.0  0  \n",
       "3  0.459624   0.0  0  \n",
       "4  0.619935   0.0  0  \n",
       "\n",
       "[5 rows x 23 columns]"
      ]
     },
     "execution_count": 17,
     "metadata": {},
     "output_type": "execute_result"
    }
   ],
   "source": [
    "# Combining the two datasets (first and normalized) back into one\n",
    "data = pd.concat([data, norm], axis = 1)\n",
    "\n",
    "# Delelting the 'Unnamed: 0' column\n",
    "data = data.drop(['Unnamed: 0'], axis = 1)\n",
    "\n",
    "#Renaming the 18_months column to 'Y'\n",
    "data['Y'] = data['18_months']\n",
    "data = data.drop(['18_months'], axis = 1)\n",
    "\n",
    "data.head()"
   ]
  },
  {
   "cell_type": "code",
   "execution_count": 18,
   "metadata": {},
   "outputs": [
    {
     "data": {
      "text/plain": [
       "<matplotlib.axes._subplots.AxesSubplot at 0x7f48170d4780>"
      ]
     },
     "execution_count": 18,
     "metadata": {},
     "output_type": "execute_result"
    },
    {
     "data": {
      "image/png": "[encoded data removed]",
      "text/plain": [
       "<Figure size 792x648 with 2 Axes>"
      ]
     },
     "metadata": {
      "needs_background": "light"
     },
     "output_type": "display_data"
    }
   ],
   "source": [
    "### I AM USING THIS CODE FROM COMPETITION 1\n",
    "\n",
    "## We will make it look nicer to the eye\n",
    "# Visualizing a Correlation Matrix\n",
    "correlation_visual = data.corr(method='spearman')\n",
    "\n",
    "# Have to generate a mask(hide) for the upper triangle\n",
    "hide = np.zeros_like(correlation_visual, dtype=np.bool)\n",
    "hide[np.triu_indices_from(hide)] = True\n",
    "\n",
    "# Setting the subplot for the correlation matrix\n",
    "f , ax = plt.subplots(figsize=(11,9))\n",
    "\n",
    "# Generating a diverging colormap\n",
    "cmap = sns.diverging_palette(100, 200, as_cmap=True)\n",
    "\n",
    "# Adding the heatmap\n",
    "sns.heatmap(correlation_visual, mask=hide, cmap=cmap, vmin=-1,vmax=1, center=0, square=True, linewidths=.6, cbar_kws={\"shrink\": .5})"
   ]
  },
  {
   "cell_type": "code",
   "execution_count": 19,
   "metadata": {},
   "outputs": [
    {
     "name": "stdout",
     "output_type": "stream",
     "text": [
      "                            year  pay_method_ACH  pay_method_credit card  \\\n",
      "year                    1.000000        0.038006               -0.023057   \n",
      "pay_method_ACH          0.038006        1.000000               -0.929943   \n",
      "pay_method_credit card -0.023057       -0.929943                1.000000   \n",
      "pay_method_paper check -0.026791       -0.043196               -0.292470   \n",
      "state_0                      NaN             NaN                     NaN   \n",
      "state_1                -0.013361        0.006940               -0.005862   \n",
      "state_2                -0.009748        0.025366               -0.024206   \n",
      "state_3                 0.020146       -0.014495                0.013892   \n",
      "state_4                 0.033191        0.017468               -0.016039   \n",
      "state_5                 0.021754       -0.000532                0.001000   \n",
      "state_6                -0.011862       -0.015065                0.014084   \n",
      "months                 -0.094480        0.087347               -0.112795   \n",
      "status_0                     NaN             NaN                     NaN   \n",
      "status_1                0.148054        0.040004               -0.039786   \n",
      "status_2               -0.121060        0.046753               -0.068289   \n",
      "status_3                0.087583       -0.009764                0.029560   \n",
      "status_4                0.011585        0.046069               -0.015654   \n",
      "lp_amount               0.115951       -0.023917                0.020935   \n",
      "income                 -0.040618       -0.018394                0.016112   \n",
      "prod                   -0.174987        0.040523               -0.056645   \n",
      "Y                      -0.100166        0.093477               -0.106928   \n",
      "\n",
      "                        pay_method_paper check  state_0   state_1   state_2  \\\n",
      "year                                 -0.026791      NaN -0.013361 -0.009748   \n",
      "pay_method_ACH                       -0.043196      NaN  0.006940  0.025366   \n",
      "pay_method_credit card               -0.292470      NaN -0.005862 -0.024206   \n",
      "pay_method_paper check                1.000000      NaN -0.002195  0.000904   \n",
      "state_0                                    NaN      NaN       NaN       NaN   \n",
      "state_1                              -0.002195      NaN  1.000000 -0.135936   \n",
      "state_2                               0.000904      NaN -0.135936  1.000000   \n",
      "state_3                              -0.000391      NaN -0.160268 -0.232276   \n",
      "state_4                              -0.000716      NaN  0.210807 -0.035087   \n",
      "state_5                              -0.001345      NaN -0.100098 -0.221781   \n",
      "state_6                              -0.001671      NaN -0.001333  0.006879   \n",
      "months                                0.114355      NaN  0.005703 -0.009651   \n",
      "status_0                                   NaN      NaN       NaN       NaN   \n",
      "status_1                              0.009453      NaN  0.000864 -0.005181   \n",
      "status_2                              0.086690      NaN  0.007133 -0.011842   \n",
      "status_3                             -0.087299      NaN -0.013251  0.016270   \n",
      "status_4                             -0.097721      NaN -0.002407  0.015292   \n",
      "lp_amount                             0.004106      NaN  0.010289  0.014676   \n",
      "income                                0.006077      NaN  0.004188 -0.057037   \n",
      "prod                                  0.061176      NaN  0.008802  0.007340   \n",
      "Y                                     0.063345      NaN -0.003491 -0.000788   \n",
      "\n",
      "                         state_3   state_4   state_5    ...       months  \\\n",
      "year                    0.020146  0.033191  0.021754    ...    -0.094480   \n",
      "pay_method_ACH         -0.014495  0.017468 -0.000532    ...     0.087347   \n",
      "pay_method_credit card  0.013892 -0.016039  0.001000    ...    -0.112795   \n",
      "pay_method_paper check -0.000391 -0.000716 -0.001345    ...     0.114355   \n",
      "state_0                      NaN       NaN       NaN    ...          NaN   \n",
      "state_1                -0.160268  0.210807 -0.100098    ...     0.005703   \n",
      "state_2                -0.232276 -0.035087 -0.221781    ...    -0.009651   \n",
      "state_3                 1.000000  0.041934 -0.131821    ...     0.001908   \n",
      "state_4                 0.041934  1.000000  0.088160    ...     0.002055   \n",
      "state_5                -0.131821  0.088160  1.000000    ...    -0.003743   \n",
      "state_6                 0.058147 -0.068689 -0.182983    ...     0.005515   \n",
      "months                  0.001908  0.002055 -0.003743    ...     1.000000   \n",
      "status_0                     NaN       NaN       NaN    ...          NaN   \n",
      "status_1                0.003022  0.004048  0.003249    ...     0.122568   \n",
      "status_2                0.000846 -0.007509  0.002730    ...     0.578780   \n",
      "status_3               -0.004745 -0.006560  0.000419    ...    -0.565597   \n",
      "status_4               -0.009603  0.006182 -0.005305    ...    -0.488581   \n",
      "lp_amount              -0.004651  0.004749  0.018159    ...    -0.016532   \n",
      "income                  0.016290 -0.074602 -0.065934    ...     0.050275   \n",
      "prod                   -0.010677 -0.001309  0.006987    ...     0.356382   \n",
      "Y                      -0.004177 -0.003880 -0.004217    ...     0.538047   \n",
      "\n",
      "                        status_0  status_1  status_2  status_3  status_4  \\\n",
      "year                         NaN  0.148054 -0.121060  0.087583  0.011585   \n",
      "pay_method_ACH               NaN  0.040004  0.046753 -0.009764  0.046069   \n",
      "pay_method_credit card       NaN -0.039786 -0.068289  0.029560 -0.015654   \n",
      "pay_method_paper check       NaN  0.009453  0.086690 -0.087299 -0.097721   \n",
      "state_0                      NaN       NaN       NaN       NaN       NaN   \n",
      "state_1                      NaN  0.000864  0.007133 -0.013251 -0.002407   \n",
      "state_2                      NaN -0.005181 -0.011842  0.016270  0.015292   \n",
      "state_3                      NaN  0.003022  0.000846 -0.004745 -0.009603   \n",
      "state_4                      NaN  0.004048 -0.007509 -0.006560  0.006182   \n",
      "state_5                      NaN  0.003249  0.002730  0.000419 -0.005305   \n",
      "state_6                      NaN -0.006818  0.005625 -0.027089 -0.003363   \n",
      "months                       NaN  0.122568  0.578780 -0.565597 -0.488581   \n",
      "status_0                     NaN       NaN       NaN       NaN       NaN   \n",
      "status_1                     NaN  1.000000 -0.139996 -0.112168 -0.013415   \n",
      "status_2                     NaN -0.139996  1.000000 -0.453963 -0.689816   \n",
      "status_3                     NaN -0.112168 -0.453963  1.000000  0.334242   \n",
      "status_4                     NaN -0.013415 -0.689816  0.334242  1.000000   \n",
      "lp_amount                    NaN  0.039605 -0.001161  0.031135 -0.022182   \n",
      "income                       NaN -0.005595  0.048653 -0.094970 -0.046671   \n",
      "prod                         NaN  0.026619  0.267070 -0.240209 -0.215005   \n",
      "Y                            NaN  0.070853  0.349494 -0.074095 -0.186702   \n",
      "\n",
      "                        lp_amount    income      prod         Y  \n",
      "year                     0.115951 -0.040618 -0.174987 -0.100166  \n",
      "pay_method_ACH          -0.023917 -0.018394  0.040523  0.093477  \n",
      "pay_method_credit card   0.020935  0.016112 -0.056645 -0.106928  \n",
      "pay_method_paper check   0.004106  0.006077  0.061176  0.063345  \n",
      "state_0                       NaN       NaN       NaN       NaN  \n",
      "state_1                  0.010289  0.004188  0.008802 -0.003491  \n",
      "state_2                  0.014676 -0.057037  0.007340 -0.000788  \n",
      "state_3                 -0.004651  0.016290 -0.010677 -0.004177  \n",
      "state_4                  0.004749 -0.074602 -0.001309 -0.003880  \n",
      "state_5                  0.018159 -0.065934  0.006987 -0.004217  \n",
      "state_6                 -0.027467  0.085445 -0.002892  0.005623  \n",
      "months                  -0.016532  0.050275  0.356382  0.538047  \n",
      "status_0                      NaN       NaN       NaN       NaN  \n",
      "status_1                 0.039605 -0.005595  0.026619  0.070853  \n",
      "status_2                -0.001161  0.048653  0.267070  0.349494  \n",
      "status_3                 0.031135 -0.094970 -0.240209 -0.074095  \n",
      "status_4                -0.022182 -0.046671 -0.215005 -0.186702  \n",
      "lp_amount                1.000000 -0.047346  0.131904 -0.049836  \n",
      "income                  -0.047346  1.000000  0.029972  0.031824  \n",
      "prod                     0.131904  0.029972  1.000000  0.260174  \n",
      "Y                       -0.049836  0.031824  0.260174  1.000000  \n",
      "\n",
      "[21 rows x 21 columns]\n"
     ]
    }
   ],
   "source": [
    "print(data.corr(method = 'spearman'))"
   ]
  },
  {
   "cell_type": "code",
   "execution_count": 20,
   "metadata": {},
   "outputs": [],
   "source": [
    "# Exporting to csv file\n",
    "\n",
    "data.to_csv(\"normal_data.csv\",\",\")"
   ]
  },
  {
   "cell_type": "code",
   "execution_count": null,
   "metadata": {},
   "outputs": [],
   "source": []
  }
 ],
 "metadata": {
  "kernelspec": {
   "display_name": "Python 3",
   "language": "python",
   "name": "python3"
  },
  "language_info": {
   "codemirror_mode": {
    "name": "ipython",
    "version": 3
   },
   "file_extension": ".py",
   "mimetype": "text/x-python",
   "name": "python",
   "nbconvert_exporter": "python",
   "pygments_lexer": "ipython3",
   "version": "3.6.7"
  }
 },
 "nbformat": 4,
 "nbformat_minor": 2
}
