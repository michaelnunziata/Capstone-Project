{
 "cells": [
  {
   "cell_type": "code",
   "execution_count": 1,
   "metadata": {},
   "outputs": [
    {
     "name": "stderr",
     "output_type": "stream",
     "text": [
      "/opt/tljh/user/lib/python3.6/site-packages/sklearn/externals/six.py:31: DeprecationWarning: The module is deprecated in version 0.21 and will be removed in version 0.23 since we've dropped support for Python 2.7. Please rely on the official version of six (https://pypi.org/project/six/).\n",
      "  \"(https://pypi.org/project/six/).\", DeprecationWarning)\n"
     ]
    },
    {
     "data": {
      "text/plain": [
       "Index(['year', 'agent', 'pay_method', 'state', 'zip_code', 'status', 'months',\n",
       "       'pay_method_ACH', 'pay_method_credit card', 'pay_method_paper check',\n",
       "       'region_central', 'region_north_east', 'region_rocky', 'region_south',\n",
       "       'region_south_east', 'region_west', 'status_Active', 'status_Decline',\n",
       "       'status_Returned', 'status_Returned_90', 'status_Switched to LW',\n",
       "       'income', 'Y'],\n",
       "      dtype='object')"
      ]
     },
     "execution_count": 1,
     "metadata": {},
     "output_type": "execute_result"
    }
   ],
   "source": [
    "# importing the necessary packages\n",
    "import pandas as pd\n",
    "import numpy as np\n",
    "import matplotlib.pyplot as plt\n",
    "import seaborn as sns\n",
    "from sklearn.model_selection import train_test_split\n",
    "from sklearn.ensemble import RandomForestClassifier\n",
    "from sklearn.metrics import classification_report\n",
    "from sklearn.metrics import f1_score, roc_auc_score, accuracy_score\n",
    "from sklearn import metrics\n",
    "from imblearn.over_sampling import RandomOverSampler\n",
    "from sklearn.metrics import mean_squared_error\n",
    "\n",
    "# reading in the csv file\n",
    "data = pd.read_csv('final_data.csv', encoding = 'ISO-8859-1', index_col=0, header=0)\n",
    "data.columns"
   ]
  },
  {
   "cell_type": "code",
   "execution_count": 2,
   "metadata": {},
   "outputs": [],
   "source": [
    "# Dropping rows that will not be used in the random forest\n",
    "data = data.drop(['agent', 'pay_method', 'state', 'months', 'zip_code', 'status'], axis = 1)"
   ]
  },
  {
   "cell_type": "code",
   "execution_count": 3,
   "metadata": {},
   "outputs": [],
   "source": [
    "# Splitting features and target\n",
    "\n",
    "X = data.iloc[:,:-1]\n",
    "Y = data['Y']\n",
    "\n",
    "# Splitting for training and testing\n",
    "X_train, X_test, y_train, y_test = train_test_split(X, Y, test_size=0.25, random_state=2019)"
   ]
  },
  {
   "cell_type": "code",
   "execution_count": 4,
   "metadata": {},
   "outputs": [
    {
     "data": {
      "text/plain": [
       "array([[6509, 1832],\n",
       "       [1332, 4123]])"
      ]
     },
     "execution_count": 4,
     "metadata": {},
     "output_type": "execute_result"
    }
   ],
   "source": [
    "# Creating and using the random forest model \n",
    "clf = RandomForestClassifier(n_estimators=300, max_depth = 10)\n",
    "clf = clf.fit(X_train, y_train)\n",
    "y_pred = clf.predict(X_test)\n",
    "\n",
    "# Creating the confusion matrix\n",
    "cnf_mat = metrics.confusion_matrix(y_test, y_pred)\n",
    "cnf_mat"
   ]
  },
  {
   "cell_type": "code",
   "execution_count": 5,
   "metadata": {},
   "outputs": [
    {
     "name": "stdout",
     "output_type": "stream",
     "text": [
      "Accuracy: 0.770658161786025\n",
      "Precision: 0.6923593618807724\n",
      "Recall: 0.755820348304308\n",
      "F1 Score: 0.772140017405941\n",
      "AUC: 0.7680912076013808\n",
      "MCC: 0.5292884229720595\n"
     ]
    }
   ],
   "source": [
    "# Printing the accuracy, precision, and recall for the balanced dataset\n",
    "print(\"Accuracy:\",metrics.accuracy_score(y_test, y_pred))\n",
    "print(\"Precision:\",metrics.precision_score(y_test, y_pred))\n",
    "print(\"Recall:\",metrics.recall_score(y_test, y_pred))\n",
    "print(\"F1 Score:\", metrics.f1_score(y_test, y_pred, average='weighted'))\n",
    "print(\"AUC:\", metrics.roc_auc_score(y_test,y_pred))\n",
    "print(\"MCC:\",metrics.matthews_corrcoef(y_test, y_pred))"
   ]
  },
  {
   "cell_type": "code",
   "execution_count": 6,
   "metadata": {},
   "outputs": [
    {
     "name": "stdout",
     "output_type": "stream",
     "text": [
      "              precision    recall  f1-score   support\n",
      "\n",
      "           0       0.83      0.78      0.80      8341\n",
      "           1       0.69      0.76      0.72      5455\n",
      "\n",
      "    accuracy                           0.77     13796\n",
      "   macro avg       0.76      0.77      0.76     13796\n",
      "weighted avg       0.78      0.77      0.77     13796\n",
      "\n"
     ]
    }
   ],
   "source": [
    "# Printing the classification report\n",
    "print(classification_report(y_test, y_pred))"
   ]
  },
  {
   "cell_type": "code",
   "execution_count": 7,
   "metadata": {},
   "outputs": [
    {
     "data": {
      "text/plain": [
       "status_Returned_90        0.311645\n",
       "status_Active             0.240971\n",
       "status_Returned           0.204633\n",
       "year                      0.127850\n",
       "income                    0.045282\n",
       "status_Decline            0.032399\n",
       "pay_method_ACH            0.009556\n",
       "status_Switched to LW     0.009271\n",
       "pay_method_credit card    0.008704\n",
       "pay_method_paper check    0.002330\n",
       "region_central            0.001470\n",
       "region_south              0.001377\n",
       "region_north_east         0.001345\n",
       "region_west               0.001213\n",
       "region_south_east         0.001153\n",
       "region_rocky              0.000803\n",
       "dtype: float64"
      ]
     },
     "execution_count": 7,
     "metadata": {},
     "output_type": "execute_result"
    }
   ],
   "source": [
    "# Creating the feature importance variable to display \n",
    "feature_imp = pd.Series(clf.feature_importances_, index = X.columns).sort_values(ascending=False)\n",
    "feature_imp"
   ]
  },
  {
   "cell_type": "code",
   "execution_count": 8,
   "metadata": {},
   "outputs": [
    {
     "name": "stdout",
     "output_type": "stream",
     "text": [
      "RMSE : 0.478896\n"
     ]
    }
   ],
   "source": [
    "# Calculating the RMSE number for the model\n",
    "rmse = np.sqrt(mean_squared_error(y_test,y_pred))\n",
    "print(\"RMSE : %f\" % (rmse))"
   ]
  },
  {
   "cell_type": "code",
   "execution_count": null,
   "metadata": {},
   "outputs": [],
   "source": []
  }
 ],
 "metadata": {
  "kernelspec": {
   "display_name": "Python 3",
   "language": "python",
   "name": "python3"
  },
  "language_info": {
   "codemirror_mode": {
    "name": "ipython",
    "version": 3
   },
   "file_extension": ".py",
   "mimetype": "text/x-python",
   "name": "python",
   "nbconvert_exporter": "python",
   "pygments_lexer": "ipython3",
   "version": "3.6.7"
  }
 },
 "nbformat": 4,
 "nbformat_minor": 2
}
