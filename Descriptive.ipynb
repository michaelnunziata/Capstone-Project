{
 "cells": [
  {
   "cell_type": "code",
   "execution_count": 1,
   "metadata": {},
   "outputs": [],
   "source": [
    "#importing the necessary packages\n",
    "import pandas as pd\n",
    "import numpy as np"
   ]
  },
  {
   "cell_type": "code",
   "execution_count": 2,
   "metadata": {},
   "outputs": [],
   "source": [
    "#Reading in each csv file for the years of customer data\n",
    "Customer2014 = pd.read_csv('East Rock_Customer_List_ALL_2014.csv', encoding = 'cp1252')\n",
    "Customer2015 = pd.read_csv('East Rock_Customer_List_ALL_2015.csv', encoding = 'cp1252')\n",
    "Customer2016 = pd.read_csv('East Rock_Customer_List_ALL_2016.csv', encoding = 'cp1252')\n",
    "Customer2017 = pd.read_csv('East Rock_Customer_List_ALL_2017.csv', encoding = 'cp1252')\n",
    "Customer2018 = pd.read_csv('East Rock_Customer_List_ALL_2018.csv', encoding = 'cp1252')\n",
    "Customer2019 = pd.read_csv('East Rock_Customer_List_ALL_2019.csv', encoding = 'cp1252')"
   ]
  },
  {
   "cell_type": "code",
   "execution_count": 3,
   "metadata": {},
   "outputs": [
    {
     "name": "stderr",
     "output_type": "stream",
     "text": [
      "/Users/mikeynunz/anaconda3/lib/python3.6/site-packages/ipykernel_launcher.py:2: FutureWarning: Sorting because non-concatenation axis is not aligned. A future version\n",
      "of pandas will change to not sort by default.\n",
      "\n",
      "To accept the future behavior, pass 'sort=True'.\n",
      "\n",
      "To retain the current behavior and silence the warning, pass sort=False\n",
      "\n",
      "  \n"
     ]
    }
   ],
   "source": [
    "#Combining the six pandas DataFrames into one using the concatenate function\n",
    "data = pd.concat([Customer2014, Customer2015, Customer2016, Customer2017, Customer2018, Customer2019], axis=0)"
   ]
  },
  {
   "cell_type": "code",
   "execution_count": 4,
   "metadata": {},
   "outputs": [
    {
     "name": "stdout",
     "output_type": "stream",
     "text": [
      "   #Prod                   Address                Agent Label +ID  \\\n",
      "0    1.0  10 Marshall ST , Apt 7-E              Hospital (109465)   \n",
      "1    1.0         115 Van Meter Dr              Newspaper (109455)   \n",
      "2    1.0           93 South Street   Angies List - Forte (109439)   \n",
      "3    1.0              19 Myrtle St             Newspaper (109455)   \n",
      "4    1.0            106 edbert st   Client Referral 2322 (109402)   \n",
      "\n",
      "      CUSTOM Cancel Reason       City         Created First Name         ID  \\\n",
      "0  020 - Financial Reasons  Irvington   8/12/14 16:52       Iola  657938060   \n",
      "1  020 - Financial Reasons   Amherst    6/16/14 15:40      Leeta  657847231   \n",
      "2  020 - Financial Reasons      Barre   7/18/14 13:48    Kathryn  657897142   \n",
      "3  020 - Financial Reasons  Chicoppee  10/30/14 20:01   Patricia  658086304   \n",
      "4  020 - Financial Reasons   chicopee   7/22/14 17:08    Paticia  657903565   \n",
      "\n",
      "    Income Last Name    ...      Last Pay Type  Pay Method           Phone  \\\n",
      "0  55490.0    Glover    ...               Sale        Visa  (973) 375-7128   \n",
      "1  77857.0    Bailey    ...               Sale        Visa  (413) 230-3844   \n",
      "2  95647.0    Hazard    ...               Sale  MasterCard  (978) 355-6375   \n",
      "3  35339.0   Stearly    ...               Sale  MasterCard  (413) 592-2363   \n",
      "4  58782.0     jimmo    ...               Sale        Visa  (413) 593-3244   \n",
      "\n",
      "   Sales Agent                 Stage State          Status  \\\n",
      "0          NaN  Call Center Notified    NJ  Decline Cancel   \n",
      "1          NaN                   NaN    MA  Decline Cancel   \n",
      "2          NaN                   NaN    MA  Decline Cancel   \n",
      "3          NaN  Call Center Notified    MA  Decline Cancel   \n",
      "4          NaN                   NaN    MA  Decline Cancel   \n",
      "\n",
      "  Track Date Cancel Requested Zip Code ZipCodeNew  \n",
      "0                     1/15/15     7111       7111  \n",
      "1                    10/16/14     1002       1002  \n",
      "2                     1/15/15     1005       1005  \n",
      "3                     1/15/15     1013       1013  \n",
      "4                    10/16/14     1020       1020  \n",
      "\n",
      "[5 rows x 24 columns]\n"
     ]
    }
   ],
   "source": [
    "print(data.head())"
   ]
  },
  {
   "cell_type": "code",
   "execution_count": 5,
   "metadata": {},
   "outputs": [],
   "source": [
    "#Deleting the columns we will not be using for any analysis\n",
    "data = data.drop([\"Address\", \"Agent Label +ID\", \"First Name\", \"Last Name\", \"Sales Agent\", \"Stage\", \"Zip Code\"], axis=1)"
   ]
  },
  {
   "cell_type": "code",
   "execution_count": 6,
   "metadata": {},
   "outputs": [
    {
     "data": {
      "text/plain": [
       "Index(['#Prod', 'CUSTOM Cancel Reason', 'City', 'Created', 'ID', 'Income',\n",
       "       'Last Pay Amount', 'Last Pay Complete', 'Last Pay Date',\n",
       "       'Last Pay Status', 'Last Pay Type', 'Pay Method', 'Phone', 'State',\n",
       "       'Status', 'Track Date Cancel Requested', 'ZipCodeNew'],\n",
       "      dtype='object')"
      ]
     },
     "execution_count": 6,
     "metadata": {},
     "output_type": "execute_result"
    }
   ],
   "source": [
    "data.columns"
   ]
  },
  {
   "cell_type": "code",
   "execution_count": 7,
   "metadata": {},
   "outputs": [
    {
     "data": {
      "text/html": [
       "<div>\n",
       "<style scoped>\n",
       "    .dataframe tbody tr th:only-of-type {\n",
       "        vertical-align: middle;\n",
       "    }\n",
       "\n",
       "    .dataframe tbody tr th {\n",
       "        vertical-align: top;\n",
       "    }\n",
       "\n",
       "    .dataframe thead th {\n",
       "        text-align: right;\n",
       "    }\n",
       "</style>\n",
       "<table border=\"1\" class=\"dataframe\">\n",
       "  <thead>\n",
       "    <tr style=\"text-align: right;\">\n",
       "      <th></th>\n",
       "      <th>Num_Prods</th>\n",
       "      <th>Cancel_Reason</th>\n",
       "      <th>City</th>\n",
       "      <th>Creation_Date</th>\n",
       "      <th>ID</th>\n",
       "      <th>Mean_Income</th>\n",
       "      <th>LP_Amount</th>\n",
       "      <th>LP_Complete</th>\n",
       "      <th>LP_Date</th>\n",
       "      <th>LP_Status</th>\n",
       "      <th>LP_Type</th>\n",
       "      <th>Pay_Method</th>\n",
       "      <th>Phone</th>\n",
       "      <th>State</th>\n",
       "      <th>Customer_Status</th>\n",
       "      <th>Cancel_Request_Date</th>\n",
       "      <th>Zip_Code</th>\n",
       "    </tr>\n",
       "  </thead>\n",
       "  <tbody>\n",
       "    <tr>\n",
       "      <th>0</th>\n",
       "      <td>1.0</td>\n",
       "      <td>020 - Financial Reasons</td>\n",
       "      <td>Irvington</td>\n",
       "      <td>8/12/14 16:52</td>\n",
       "      <td>657938060</td>\n",
       "      <td>55490.0</td>\n",
       "      <td>29.95</td>\n",
       "      <td>1.0</td>\n",
       "      <td>9/3/14</td>\n",
       "      <td>0.0</td>\n",
       "      <td>Sale</td>\n",
       "      <td>Visa</td>\n",
       "      <td>(973) 375-7128</td>\n",
       "      <td>NJ</td>\n",
       "      <td>Decline Cancel</td>\n",
       "      <td>1/15/15</td>\n",
       "      <td>7111</td>\n",
       "    </tr>\n",
       "    <tr>\n",
       "      <th>1</th>\n",
       "      <td>1.0</td>\n",
       "      <td>020 - Financial Reasons</td>\n",
       "      <td>Amherst</td>\n",
       "      <td>6/16/14 15:40</td>\n",
       "      <td>657847231</td>\n",
       "      <td>77857.0</td>\n",
       "      <td>34.95</td>\n",
       "      <td>1.0</td>\n",
       "      <td>7/3/14</td>\n",
       "      <td>0.0</td>\n",
       "      <td>Sale</td>\n",
       "      <td>Visa</td>\n",
       "      <td>(413) 230-3844</td>\n",
       "      <td>MA</td>\n",
       "      <td>Decline Cancel</td>\n",
       "      <td>10/16/14</td>\n",
       "      <td>1002</td>\n",
       "    </tr>\n",
       "    <tr>\n",
       "      <th>2</th>\n",
       "      <td>1.0</td>\n",
       "      <td>020 - Financial Reasons</td>\n",
       "      <td>Barre</td>\n",
       "      <td>7/18/14 13:48</td>\n",
       "      <td>657897142</td>\n",
       "      <td>95647.0</td>\n",
       "      <td>34.95</td>\n",
       "      <td>1.0</td>\n",
       "      <td>8/5/14</td>\n",
       "      <td>0.0</td>\n",
       "      <td>Sale</td>\n",
       "      <td>MasterCard</td>\n",
       "      <td>(978) 355-6375</td>\n",
       "      <td>MA</td>\n",
       "      <td>Decline Cancel</td>\n",
       "      <td>1/15/15</td>\n",
       "      <td>1005</td>\n",
       "    </tr>\n",
       "    <tr>\n",
       "      <th>3</th>\n",
       "      <td>1.0</td>\n",
       "      <td>020 - Financial Reasons</td>\n",
       "      <td>Chicoppee</td>\n",
       "      <td>10/30/14 20:01</td>\n",
       "      <td>658086304</td>\n",
       "      <td>35339.0</td>\n",
       "      <td>34.95</td>\n",
       "      <td>1.0</td>\n",
       "      <td>11/1/14</td>\n",
       "      <td>0.0</td>\n",
       "      <td>Sale</td>\n",
       "      <td>MasterCard</td>\n",
       "      <td>(413) 592-2363</td>\n",
       "      <td>MA</td>\n",
       "      <td>Decline Cancel</td>\n",
       "      <td>1/15/15</td>\n",
       "      <td>1013</td>\n",
       "    </tr>\n",
       "    <tr>\n",
       "      <th>4</th>\n",
       "      <td>1.0</td>\n",
       "      <td>020 - Financial Reasons</td>\n",
       "      <td>chicopee</td>\n",
       "      <td>7/22/14 17:08</td>\n",
       "      <td>657903565</td>\n",
       "      <td>58782.0</td>\n",
       "      <td>34.95</td>\n",
       "      <td>1.0</td>\n",
       "      <td>9/3/14</td>\n",
       "      <td>0.0</td>\n",
       "      <td>Sale</td>\n",
       "      <td>Visa</td>\n",
       "      <td>(413) 593-3244</td>\n",
       "      <td>MA</td>\n",
       "      <td>Decline Cancel</td>\n",
       "      <td>10/16/14</td>\n",
       "      <td>1020</td>\n",
       "    </tr>\n",
       "  </tbody>\n",
       "</table>\n",
       "</div>"
      ],
      "text/plain": [
       "   Num_Prods            Cancel_Reason       City   Creation_Date         ID  \\\n",
       "0        1.0  020 - Financial Reasons  Irvington   8/12/14 16:52  657938060   \n",
       "1        1.0  020 - Financial Reasons   Amherst    6/16/14 15:40  657847231   \n",
       "2        1.0  020 - Financial Reasons      Barre   7/18/14 13:48  657897142   \n",
       "3        1.0  020 - Financial Reasons  Chicoppee  10/30/14 20:01  658086304   \n",
       "4        1.0  020 - Financial Reasons   chicopee   7/22/14 17:08  657903565   \n",
       "\n",
       "   Mean_Income  LP_Amount  LP_Complete  LP_Date  LP_Status LP_Type  \\\n",
       "0      55490.0      29.95          1.0   9/3/14        0.0    Sale   \n",
       "1      77857.0      34.95          1.0   7/3/14        0.0    Sale   \n",
       "2      95647.0      34.95          1.0   8/5/14        0.0    Sale   \n",
       "3      35339.0      34.95          1.0  11/1/14        0.0    Sale   \n",
       "4      58782.0      34.95          1.0   9/3/14        0.0    Sale   \n",
       "\n",
       "   Pay_Method           Phone State Customer_Status Cancel_Request_Date  \\\n",
       "0        Visa  (973) 375-7128    NJ  Decline Cancel             1/15/15   \n",
       "1        Visa  (413) 230-3844    MA  Decline Cancel            10/16/14   \n",
       "2  MasterCard  (978) 355-6375    MA  Decline Cancel             1/15/15   \n",
       "3  MasterCard  (413) 592-2363    MA  Decline Cancel             1/15/15   \n",
       "4        Visa  (413) 593-3244    MA  Decline Cancel            10/16/14   \n",
       "\n",
       "  Zip_Code  \n",
       "0     7111  \n",
       "1     1002  \n",
       "2     1005  \n",
       "3     1013  \n",
       "4     1020  "
      ]
     },
     "execution_count": 7,
     "metadata": {},
     "output_type": "execute_result"
    }
   ],
   "source": [
    "#Renaming the remaining columns for easier understanding\n",
    "cols = ['Num_Prods', 'Cancel_Reason', 'City', 'Creation_Date', 'ID', 'Mean_Income', 'LP_Amount', \n",
    "        'LP_Complete', 'LP_Date', 'LP_Status', 'LP_Type', 'Pay_Method', 'Phone', 'State', \n",
    "        'Customer_Status', 'Cancel_Request_Date', 'Zip_Code']\n",
    "\n",
    "#Applying new column names to existing DataFrame\n",
    "data.columns = cols\n",
    "\n",
    "#Displaying the first 5 rows of each column\n",
    "data.head()"
   ]
  },
  {
   "cell_type": "code",
   "execution_count": 8,
   "metadata": {},
   "outputs": [
    {
     "name": "stdout",
     "output_type": "stream",
     "text": [
      "           Num_Prods            ID    Mean_Income     LP_Amount  \\\n",
      "count  119929.000000  1.199680e+05  100698.000000  113635.00000   \n",
      "mean        1.368293  6.614690e+08   60368.667779      40.30024   \n",
      "std         0.930897  5.596562e+06   27589.138190      28.04640   \n",
      "min         1.000000  6.575992e+08       0.000000       0.00000   \n",
      "25%         1.000000  6.581394e+08   41308.000000      29.95000   \n",
      "50%         1.000000  6.590039e+08   54427.000000      34.95000   \n",
      "75%         1.000000  6.596906e+08   73405.000000      39.95000   \n",
      "max        21.000000  6.749652e+08  242857.000000    1103.80000   \n",
      "\n",
      "         LP_Complete      LP_Status  \n",
      "count  113635.000000  113635.000000  \n",
      "mean        0.986993       0.491618  \n",
      "std         0.113303       0.499932  \n",
      "min         0.000000       0.000000  \n",
      "25%         1.000000       0.000000  \n",
      "50%         1.000000       0.000000  \n",
      "75%         1.000000       1.000000  \n",
      "max         1.000000       1.000000  \n"
     ]
    }
   ],
   "source": [
    "#printing out the descriptive statistics\n",
    "print(data.describe())"
   ]
  },
  {
   "cell_type": "code",
   "execution_count": 9,
   "metadata": {},
   "outputs": [
    {
     "data": {
      "text/plain": [
       "(119968, 17)"
      ]
     },
     "execution_count": 9,
     "metadata": {},
     "output_type": "execute_result"
    }
   ],
   "source": [
    "data.shape"
   ]
  },
  {
   "cell_type": "code",
   "execution_count": 10,
   "metadata": {},
   "outputs": [],
   "source": [
    "data = data[pd.notnull(data['Mean_Income'])]"
   ]
  },
  {
   "cell_type": "code",
   "execution_count": 11,
   "metadata": {},
   "outputs": [
    {
     "data": {
      "text/plain": [
       "(100698, 17)"
      ]
     },
     "execution_count": 11,
     "metadata": {},
     "output_type": "execute_result"
    }
   ],
   "source": [
    "data.shape"
   ]
  },
  {
   "cell_type": "code",
   "execution_count": 12,
   "metadata": {},
   "outputs": [
    {
     "data": {
      "text/html": [
       "<div>\n",
       "<style scoped>\n",
       "    .dataframe tbody tr th:only-of-type {\n",
       "        vertical-align: middle;\n",
       "    }\n",
       "\n",
       "    .dataframe tbody tr th {\n",
       "        vertical-align: top;\n",
       "    }\n",
       "\n",
       "    .dataframe thead th {\n",
       "        text-align: right;\n",
       "    }\n",
       "</style>\n",
       "<table border=\"1\" class=\"dataframe\">\n",
       "  <thead>\n",
       "    <tr style=\"text-align: right;\">\n",
       "      <th></th>\n",
       "      <th>Num_Prods</th>\n",
       "      <th>ID</th>\n",
       "      <th>Mean_Income</th>\n",
       "      <th>LP_Amount</th>\n",
       "      <th>LP_Complete</th>\n",
       "      <th>LP_Status</th>\n",
       "    </tr>\n",
       "  </thead>\n",
       "  <tbody>\n",
       "    <tr>\n",
       "      <th>count</th>\n",
       "      <td>100665.000000</td>\n",
       "      <td>1.006980e+05</td>\n",
       "      <td>100698.000000</td>\n",
       "      <td>95321.000000</td>\n",
       "      <td>95321.000000</td>\n",
       "      <td>95321.000000</td>\n",
       "    </tr>\n",
       "    <tr>\n",
       "      <th>mean</th>\n",
       "      <td>1.366145</td>\n",
       "      <td>6.614738e+08</td>\n",
       "      <td>60368.667779</td>\n",
       "      <td>40.313974</td>\n",
       "      <td>0.986603</td>\n",
       "      <td>0.486147</td>\n",
       "    </tr>\n",
       "    <tr>\n",
       "      <th>std</th>\n",
       "      <td>0.928580</td>\n",
       "      <td>5.598031e+06</td>\n",
       "      <td>27589.138190</td>\n",
       "      <td>27.980943</td>\n",
       "      <td>0.114967</td>\n",
       "      <td>0.499811</td>\n",
       "    </tr>\n",
       "    <tr>\n",
       "      <th>min</th>\n",
       "      <td>1.000000</td>\n",
       "      <td>6.575992e+08</td>\n",
       "      <td>0.000000</td>\n",
       "      <td>0.000000</td>\n",
       "      <td>0.000000</td>\n",
       "      <td>0.000000</td>\n",
       "    </tr>\n",
       "    <tr>\n",
       "      <th>25%</th>\n",
       "      <td>1.000000</td>\n",
       "      <td>6.581395e+08</td>\n",
       "      <td>41308.000000</td>\n",
       "      <td>29.950000</td>\n",
       "      <td>1.000000</td>\n",
       "      <td>0.000000</td>\n",
       "    </tr>\n",
       "    <tr>\n",
       "      <th>50%</th>\n",
       "      <td>1.000000</td>\n",
       "      <td>6.590056e+08</td>\n",
       "      <td>54427.000000</td>\n",
       "      <td>34.950000</td>\n",
       "      <td>1.000000</td>\n",
       "      <td>0.000000</td>\n",
       "    </tr>\n",
       "    <tr>\n",
       "      <th>75%</th>\n",
       "      <td>1.000000</td>\n",
       "      <td>6.596918e+08</td>\n",
       "      <td>73405.000000</td>\n",
       "      <td>39.950000</td>\n",
       "      <td>1.000000</td>\n",
       "      <td>1.000000</td>\n",
       "    </tr>\n",
       "    <tr>\n",
       "      <th>max</th>\n",
       "      <td>21.000000</td>\n",
       "      <td>6.749652e+08</td>\n",
       "      <td>242857.000000</td>\n",
       "      <td>739.700000</td>\n",
       "      <td>1.000000</td>\n",
       "      <td>1.000000</td>\n",
       "    </tr>\n",
       "  </tbody>\n",
       "</table>\n",
       "</div>"
      ],
      "text/plain": [
       "           Num_Prods            ID    Mean_Income     LP_Amount   LP_Complete  \\\n",
       "count  100665.000000  1.006980e+05  100698.000000  95321.000000  95321.000000   \n",
       "mean        1.366145  6.614738e+08   60368.667779     40.313974      0.986603   \n",
       "std         0.928580  5.598031e+06   27589.138190     27.980943      0.114967   \n",
       "min         1.000000  6.575992e+08       0.000000      0.000000      0.000000   \n",
       "25%         1.000000  6.581395e+08   41308.000000     29.950000      1.000000   \n",
       "50%         1.000000  6.590056e+08   54427.000000     34.950000      1.000000   \n",
       "75%         1.000000  6.596918e+08   73405.000000     39.950000      1.000000   \n",
       "max        21.000000  6.749652e+08  242857.000000    739.700000      1.000000   \n",
       "\n",
       "          LP_Status  \n",
       "count  95321.000000  \n",
       "mean       0.486147  \n",
       "std        0.499811  \n",
       "min        0.000000  \n",
       "25%        0.000000  \n",
       "50%        0.000000  \n",
       "75%        1.000000  \n",
       "max        1.000000  "
      ]
     },
     "execution_count": 12,
     "metadata": {},
     "output_type": "execute_result"
    }
   ],
   "source": [
    "data.describe()"
   ]
  },
  {
   "cell_type": "code",
   "execution_count": 13,
   "metadata": {},
   "outputs": [
    {
     "name": "stdout",
     "output_type": "stream",
     "text": [
      "Num_Prods              float64\n",
      "Cancel_Reason           object\n",
      "City                    object\n",
      "Creation_Date           object\n",
      "ID                       int64\n",
      "Mean_Income            float64\n",
      "LP_Amount              float64\n",
      "LP_Complete            float64\n",
      "LP_Date                 object\n",
      "LP_Status              float64\n",
      "LP_Type                 object\n",
      "Pay_Method              object\n",
      "Phone                   object\n",
      "State                   object\n",
      "Customer_Status         object\n",
      "Cancel_Request_Date     object\n",
      "Zip_Code                object\n",
      "dtype: object\n"
     ]
    }
   ],
   "source": [
    "print(data.dtypes)"
   ]
  },
  {
   "cell_type": "code",
   "execution_count": null,
   "metadata": {},
   "outputs": [],
   "source": []
  }
 ],
 "metadata": {
  "kernelspec": {
   "display_name": "Python 3",
   "language": "python",
   "name": "python3"
  },
  "language_info": {
   "codemirror_mode": {
    "name": "ipython",
    "version": 3
   },
   "file_extension": ".py",
   "mimetype": "text/x-python",
   "name": "python",
   "nbconvert_exporter": "python",
   "pygments_lexer": "ipython3",
   "version": "3.6.5"
  }
 },
 "nbformat": 4,
 "nbformat_minor": 2
}
