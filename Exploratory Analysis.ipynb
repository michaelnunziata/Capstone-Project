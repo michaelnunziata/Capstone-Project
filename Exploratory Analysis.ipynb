{
 "cells": [
  {
   "cell_type": "code",
   "execution_count": 5,
   "metadata": {},
   "outputs": [
    {
     "name": "stderr",
     "output_type": "stream",
     "text": [
      "/Users/mikeynunz/anaconda3/lib/python3.6/site-packages/matplotlib/font_manager.py:278: UserWarning: Matplotlib is building the font cache using fc-list. This may take a moment.\n",
      "  'Matplotlib is building the font cache using fc-list. '\n"
     ]
    }
   ],
   "source": [
    "import pandas as pd\n",
    "import numpy as np\n",
    "import matplotlib.pyplot as plt"
   ]
  },
  {
   "cell_type": "code",
   "execution_count": 6,
   "metadata": {},
   "outputs": [
    {
     "name": "stderr",
     "output_type": "stream",
     "text": [
      "/Users/mikeynunz/anaconda3/lib/python3.6/site-packages/IPython/core/interactiveshell.py:2785: DtypeWarning: Columns (2) have mixed types. Specify dtype option on import or set low_memory=False.\n",
      "  interactivity=interactivity, compiler=compiler, result=result)\n"
     ]
    },
    {
     "data": {
      "text/html": [
       "<div>\n",
       "<style scoped>\n",
       "    .dataframe tbody tr th:only-of-type {\n",
       "        vertical-align: middle;\n",
       "    }\n",
       "\n",
       "    .dataframe tbody tr th {\n",
       "        vertical-align: top;\n",
       "    }\n",
       "\n",
       "    .dataframe thead th {\n",
       "        text-align: right;\n",
       "    }\n",
       "</style>\n",
       "<table border=\"1\" class=\"dataframe\">\n",
       "  <thead>\n",
       "    <tr style=\"text-align: right;\">\n",
       "      <th></th>\n",
       "      <th>Unnamed: 0</th>\n",
       "      <th>ID</th>\n",
       "      <th>Phone</th>\n",
       "      <th>City</th>\n",
       "      <th>State</th>\n",
       "      <th>Zip_Code</th>\n",
       "      <th>Num_Prods</th>\n",
       "      <th>Mean_Income</th>\n",
       "      <th>Creation_Date</th>\n",
       "      <th>Cancel_Request_Date</th>\n",
       "      <th>Cancel_Reason</th>\n",
       "      <th>LP_Amount</th>\n",
       "      <th>LP_Complete</th>\n",
       "      <th>LP_Date</th>\n",
       "      <th>LP_Status</th>\n",
       "      <th>Churn</th>\n",
       "      <th>Method_Bins</th>\n",
       "      <th>LP_Type_Bins</th>\n",
       "      <th>Customer_Status_Bins</th>\n",
       "    </tr>\n",
       "  </thead>\n",
       "  <tbody>\n",
       "    <tr>\n",
       "      <th>0</th>\n",
       "      <td>0</td>\n",
       "      <td>657938060</td>\n",
       "      <td>(973) 375-7128</td>\n",
       "      <td>Irvington</td>\n",
       "      <td>NJ</td>\n",
       "      <td>7111</td>\n",
       "      <td>1.0</td>\n",
       "      <td>55490.0</td>\n",
       "      <td>8/12/14 16:52</td>\n",
       "      <td>1/15/15</td>\n",
       "      <td>020 - Financial Reasons</td>\n",
       "      <td>29.95</td>\n",
       "      <td>1.0</td>\n",
       "      <td>9/3/14</td>\n",
       "      <td>0.0</td>\n",
       "      <td>0</td>\n",
       "      <td>0</td>\n",
       "      <td>0</td>\n",
       "      <td>1</td>\n",
       "    </tr>\n",
       "    <tr>\n",
       "      <th>1</th>\n",
       "      <td>1</td>\n",
       "      <td>657847231</td>\n",
       "      <td>(413) 230-3844</td>\n",
       "      <td>Amherst</td>\n",
       "      <td>MA</td>\n",
       "      <td>1002</td>\n",
       "      <td>1.0</td>\n",
       "      <td>77857.0</td>\n",
       "      <td>6/16/14 15:40</td>\n",
       "      <td>10/16/14</td>\n",
       "      <td>020 - Financial Reasons</td>\n",
       "      <td>34.95</td>\n",
       "      <td>1.0</td>\n",
       "      <td>7/3/14</td>\n",
       "      <td>0.0</td>\n",
       "      <td>0</td>\n",
       "      <td>0</td>\n",
       "      <td>0</td>\n",
       "      <td>1</td>\n",
       "    </tr>\n",
       "    <tr>\n",
       "      <th>2</th>\n",
       "      <td>2</td>\n",
       "      <td>657897142</td>\n",
       "      <td>(978) 355-6375</td>\n",
       "      <td>Barre</td>\n",
       "      <td>MA</td>\n",
       "      <td>1005</td>\n",
       "      <td>1.0</td>\n",
       "      <td>95647.0</td>\n",
       "      <td>7/18/14 13:48</td>\n",
       "      <td>1/15/15</td>\n",
       "      <td>020 - Financial Reasons</td>\n",
       "      <td>34.95</td>\n",
       "      <td>1.0</td>\n",
       "      <td>8/5/14</td>\n",
       "      <td>0.0</td>\n",
       "      <td>0</td>\n",
       "      <td>0</td>\n",
       "      <td>0</td>\n",
       "      <td>1</td>\n",
       "    </tr>\n",
       "    <tr>\n",
       "      <th>3</th>\n",
       "      <td>3</td>\n",
       "      <td>658086304</td>\n",
       "      <td>(413) 592-2363</td>\n",
       "      <td>Chicoppee</td>\n",
       "      <td>MA</td>\n",
       "      <td>1013</td>\n",
       "      <td>1.0</td>\n",
       "      <td>35339.0</td>\n",
       "      <td>10/30/14 20:01</td>\n",
       "      <td>1/15/15</td>\n",
       "      <td>020 - Financial Reasons</td>\n",
       "      <td>34.95</td>\n",
       "      <td>1.0</td>\n",
       "      <td>11/1/14</td>\n",
       "      <td>0.0</td>\n",
       "      <td>0</td>\n",
       "      <td>0</td>\n",
       "      <td>0</td>\n",
       "      <td>1</td>\n",
       "    </tr>\n",
       "    <tr>\n",
       "      <th>4</th>\n",
       "      <td>4</td>\n",
       "      <td>657903565</td>\n",
       "      <td>(413) 593-3244</td>\n",
       "      <td>chicopee</td>\n",
       "      <td>MA</td>\n",
       "      <td>1020</td>\n",
       "      <td>1.0</td>\n",
       "      <td>58782.0</td>\n",
       "      <td>7/22/14 17:08</td>\n",
       "      <td>10/16/14</td>\n",
       "      <td>020 - Financial Reasons</td>\n",
       "      <td>34.95</td>\n",
       "      <td>1.0</td>\n",
       "      <td>9/3/14</td>\n",
       "      <td>0.0</td>\n",
       "      <td>0</td>\n",
       "      <td>0</td>\n",
       "      <td>0</td>\n",
       "      <td>1</td>\n",
       "    </tr>\n",
       "  </tbody>\n",
       "</table>\n",
       "</div>"
      ],
      "text/plain": [
       "   Unnamed: 0         ID           Phone       City State  Zip_Code  \\\n",
       "0           0  657938060  (973) 375-7128  Irvington    NJ      7111   \n",
       "1           1  657847231  (413) 230-3844   Amherst     MA      1002   \n",
       "2           2  657897142  (978) 355-6375      Barre    MA      1005   \n",
       "3           3  658086304  (413) 592-2363  Chicoppee    MA      1013   \n",
       "4           4  657903565  (413) 593-3244   chicopee    MA      1020   \n",
       "\n",
       "   Num_Prods  Mean_Income   Creation_Date Cancel_Request_Date  \\\n",
       "0        1.0      55490.0   8/12/14 16:52             1/15/15   \n",
       "1        1.0      77857.0   6/16/14 15:40            10/16/14   \n",
       "2        1.0      95647.0   7/18/14 13:48             1/15/15   \n",
       "3        1.0      35339.0  10/30/14 20:01             1/15/15   \n",
       "4        1.0      58782.0   7/22/14 17:08            10/16/14   \n",
       "\n",
       "             Cancel_Reason  LP_Amount  LP_Complete  LP_Date  LP_Status  Churn  \\\n",
       "0  020 - Financial Reasons      29.95          1.0   9/3/14        0.0      0   \n",
       "1  020 - Financial Reasons      34.95          1.0   7/3/14        0.0      0   \n",
       "2  020 - Financial Reasons      34.95          1.0   8/5/14        0.0      0   \n",
       "3  020 - Financial Reasons      34.95          1.0  11/1/14        0.0      0   \n",
       "4  020 - Financial Reasons      34.95          1.0   9/3/14        0.0      0   \n",
       "\n",
       "   Method_Bins  LP_Type_Bins  Customer_Status_Bins  \n",
       "0            0             0                     1  \n",
       "1            0             0                     1  \n",
       "2            0             0                     1  \n",
       "3            0             0                     1  \n",
       "4            0             0                     1  "
      ]
     },
     "execution_count": 6,
     "metadata": {},
     "output_type": "execute_result"
    }
   ],
   "source": [
    "data = pd.read_csv(\"FullData.csv\")\n",
    "data.head()"
   ]
  },
  {
   "cell_type": "code",
   "execution_count": 7,
   "metadata": {},
   "outputs": [
    {
     "data": {
      "text/plain": [
       "Text(0.5,0,'Income')"
      ]
     },
     "execution_count": 7,
     "metadata": {},
     "output_type": "execute_result"
    },
    {
     "data": {
      "image/png": "[encoded data removed]",
      "text/plain": [
       "<Figure size 432x288 with 1 Axes>"
      ]
     },
     "metadata": {},
     "output_type": "display_data"
    }
   ],
   "source": [
    "x = data['Mean_Income']\n",
    "\n",
    "plt.hist(x, histtype = 'bar')\n",
    "plt.ylabel('count')\n",
    "plt.xlabel('Income')"
   ]
  },
  {
   "cell_type": "code",
   "execution_count": null,
   "metadata": {},
   "outputs": [],
   "source": []
  }
 ],
 "metadata": {
  "kernelspec": {
   "display_name": "Python 3",
   "language": "python",
   "name": "python3"
  },
  "language_info": {
   "codemirror_mode": {
    "name": "ipython",
    "version": 3
   },
   "file_extension": ".py",
   "mimetype": "text/x-python",
   "name": "python",
   "nbconvert_exporter": "python",
   "pygments_lexer": "ipython3",
   "version": "3.6.5"
  }
 },
 "nbformat": 4,
 "nbformat_minor": 2
}
