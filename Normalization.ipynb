{
 "cells": [
  {
   "cell_type": "code",
   "execution_count": 1,
   "metadata": {},
   "outputs": [],
   "source": [
    "# Importing the necessary packages\n",
    "import pandas as pd\n",
    "import numpy as np\n",
    "import matplotlib.pyplot as plt\n",
    "from sklearn import preprocessing\n",
    "from sklearn.preprocessing import MinMaxScaler\n",
    "from scipy.stats import iqr\n",
    "import seaborn as sns"
   ]
  },
  {
   "cell_type": "code",
   "execution_count": 2,
   "metadata": {},
   "outputs": [
    {
     "data": {
      "text/html": [
       "<div>\n",
       "<style scoped>\n",
       "    .dataframe tbody tr th:only-of-type {\n",
       "        vertical-align: middle;\n",
       "    }\n",
       "\n",
       "    .dataframe tbody tr th {\n",
       "        vertical-align: top;\n",
       "    }\n",
       "\n",
       "    .dataframe thead th {\n",
       "        text-align: right;\n",
       "    }\n",
       "</style>\n",
       "<table border=\"1\" class=\"dataframe\">\n",
       "  <thead>\n",
       "    <tr style=\"text-align: right;\">\n",
       "      <th></th>\n",
       "      <th>Unnamed: 0</th>\n",
       "      <th>year</th>\n",
       "      <th>agent</th>\n",
       "      <th>state</th>\n",
       "      <th>status</th>\n",
       "      <th>pay_method</th>\n",
       "      <th>lp_amount</th>\n",
       "      <th>lp_type</th>\n",
       "      <th>prod</th>\n",
       "      <th>income</th>\n",
       "      <th>months</th>\n",
       "      <th>18_months</th>\n",
       "    </tr>\n",
       "  </thead>\n",
       "  <tbody>\n",
       "    <tr>\n",
       "      <th>0</th>\n",
       "      <td>0</td>\n",
       "      <td>2014.0</td>\n",
       "      <td>Church Bulletin 0011 (109398)</td>\n",
       "      <td>MA</td>\n",
       "      <td>Returned &lt; 90 days</td>\n",
       "      <td>credit card</td>\n",
       "      <td>34.95</td>\n",
       "      <td>Refund</td>\n",
       "      <td>1.0</td>\n",
       "      <td>74467.0</td>\n",
       "      <td>0.87</td>\n",
       "      <td>0</td>\n",
       "    </tr>\n",
       "    <tr>\n",
       "      <th>1</th>\n",
       "      <td>1</td>\n",
       "      <td>2015.0</td>\n",
       "      <td>Benefits and More 4 Paid (143595)</td>\n",
       "      <td>MA</td>\n",
       "      <td>Returned &lt; 90 days</td>\n",
       "      <td>credit card</td>\n",
       "      <td>29.95</td>\n",
       "      <td>Sale</td>\n",
       "      <td>1.0</td>\n",
       "      <td>74467.0</td>\n",
       "      <td>0.00</td>\n",
       "      <td>0</td>\n",
       "    </tr>\n",
       "    <tr>\n",
       "      <th>2</th>\n",
       "      <td>2</td>\n",
       "      <td>2016.0</td>\n",
       "      <td>Benefits and More 4 Paid (143595)</td>\n",
       "      <td>MA</td>\n",
       "      <td>Switched to LW</td>\n",
       "      <td>credit card</td>\n",
       "      <td>29.95</td>\n",
       "      <td>Sale</td>\n",
       "      <td>1.0</td>\n",
       "      <td>74467.0</td>\n",
       "      <td>0.00</td>\n",
       "      <td>0</td>\n",
       "    </tr>\n",
       "    <tr>\n",
       "      <th>3</th>\n",
       "      <td>3</td>\n",
       "      <td>2016.0</td>\n",
       "      <td>Benefits and More 4 Paid (143595)</td>\n",
       "      <td>MA</td>\n",
       "      <td>Returned &lt; 90 days</td>\n",
       "      <td>credit card</td>\n",
       "      <td>39.95</td>\n",
       "      <td>Refund</td>\n",
       "      <td>1.0</td>\n",
       "      <td>74467.0</td>\n",
       "      <td>0.67</td>\n",
       "      <td>0</td>\n",
       "    </tr>\n",
       "    <tr>\n",
       "      <th>4</th>\n",
       "      <td>5</td>\n",
       "      <td>2014.0</td>\n",
       "      <td>Newspaper (109455)</td>\n",
       "      <td>MA</td>\n",
       "      <td>Decline</td>\n",
       "      <td>credit card</td>\n",
       "      <td>34.95</td>\n",
       "      <td>Sale</td>\n",
       "      <td>1.0</td>\n",
       "      <td>55937.0</td>\n",
       "      <td>0.57</td>\n",
       "      <td>0</td>\n",
       "    </tr>\n",
       "  </tbody>\n",
       "</table>\n",
       "</div>"
      ],
      "text/plain": [
       "   Unnamed: 0    year                              agent state  \\\n",
       "0           0  2014.0      Church Bulletin 0011 (109398)    MA   \n",
       "1           1  2015.0  Benefits and More 4 Paid (143595)    MA   \n",
       "2           2  2016.0  Benefits and More 4 Paid (143595)    MA   \n",
       "3           3  2016.0  Benefits and More 4 Paid (143595)    MA   \n",
       "4           5  2014.0                 Newspaper (109455)    MA   \n",
       "\n",
       "               status   pay_method  lp_amount lp_type  prod   income  months  \\\n",
       "0  Returned < 90 days  credit card      34.95  Refund   1.0  74467.0    0.87   \n",
       "1  Returned < 90 days  credit card      29.95    Sale   1.0  74467.0    0.00   \n",
       "2      Switched to LW  credit card      29.95    Sale   1.0  74467.0    0.00   \n",
       "3  Returned < 90 days  credit card      39.95  Refund   1.0  74467.0    0.67   \n",
       "4             Decline  credit card      34.95    Sale   1.0  55937.0    0.57   \n",
       "\n",
       "   18_months  \n",
       "0          0  \n",
       "1          0  \n",
       "2          0  \n",
       "3          0  \n",
       "4          0  "
      ]
     },
     "execution_count": 2,
     "metadata": {},
     "output_type": "execute_result"
    }
   ],
   "source": [
    "# Reading in each csv file for the imputed data\n",
    "data = pd.read_csv('imputed_data.csv', encoding = 'ISO-8859-1')\n",
    "data.head()"
   ]
  },
  {
   "cell_type": "code",
   "execution_count": 3,
   "metadata": {},
   "outputs": [],
   "source": [
    "# Separating out the y variable and selecting the continuous data that needs to be normalize\n",
    "Y = data['18_months']\n",
    "outlier_data = data[['lp_amount', 'income', 'prod']]\n",
    "data = data.drop(['lp_amount', 'income', 'prod'], axis=1)"
   ]
  },
  {
   "cell_type": "code",
   "execution_count": 4,
   "metadata": {},
   "outputs": [
    {
     "data": {
      "image/png": "[encoded data removed]",
      "text/plain": [
       "<Figure size 432x288 with 1 Axes>"
      ]
     },
     "metadata": {
      "needs_background": "light"
     },
     "output_type": "display_data"
    }
   ],
   "source": [
    "# Creating a boxplot for the 'lp_amount' column\n",
    "plt.boxplot(outlier_data['lp_amount'])    \n",
    "# Naming the box plot after the name of the column  \n",
    "plt.title('lp_amount')\n",
    "plt.show()"
   ]
  },
  {
   "cell_type": "code",
   "execution_count": 5,
   "metadata": {},
   "outputs": [
    {
     "data": {
      "image/png": "[encoded data removed]",
      "text/plain": [
       "<Figure size 432x288 with 1 Axes>"
      ]
     },
     "metadata": {
      "needs_background": "light"
     },
     "output_type": "display_data"
    }
   ],
   "source": [
    "# Creating a boxplot for the 'income' column\n",
    "plt.boxplot(outlier_data['income'])    \n",
    "# Naming the box plot after the name of the column     \n",
    "plt.title('income')\n",
    "plt.show()"
   ]
  },
  {
   "cell_type": "code",
   "execution_count": 6,
   "metadata": {},
   "outputs": [
    {
     "data": {
      "image/png": "[encoded data removed]",
      "text/plain": [
       "<Figure size 432x288 with 1 Axes>"
      ]
     },
     "metadata": {
      "needs_background": "light"
     },
     "output_type": "display_data"
    }
   ],
   "source": [
    "# Creating a boxplot for the 'prod' column\n",
    "plt.boxplot(outlier_data['prod'])    \n",
    "# Naming the box plot after the name of the column  \n",
    "plt.title('prod')\n",
    "plt.show()"
   ]
  },
  {
   "cell_type": "code",
   "execution_count": 7,
   "metadata": {},
   "outputs": [
    {
     "data": {
      "text/plain": [
       "{'whiskers': [<matplotlib.lines.Line2D at 0x7fd03c580c18>,\n",
       "  <matplotlib.lines.Line2D at 0x7fd03c580780>],\n",
       " 'caps': [<matplotlib.lines.Line2D at 0x7fd03c5802b0>,\n",
       "  <matplotlib.lines.Line2D at 0x7fd03c547e10>],\n",
       " 'boxes': [<matplotlib.lines.Line2D at 0x7fd03c580ef0>],\n",
       " 'medians': [<matplotlib.lines.Line2D at 0x7fd03c547f28>],\n",
       " 'fliers': [<matplotlib.lines.Line2D at 0x7fd03c547c50>],\n",
       " 'means': []}"
      ]
     },
     "execution_count": 7,
     "metadata": {},
     "output_type": "execute_result"
    },
    {
     "data": {
      "image/png": "[encoded data removed]",
      "text/plain": [
       "<Figure size 432x288 with 1 Axes>"
      ]
     },
     "metadata": {
      "needs_background": "light"
     },
     "output_type": "display_data"
    }
   ],
   "source": [
    "# Defining the function 'outlier' to help with major outliers in the 'lp_amount' column\n",
    "\n",
    "def outlier(x):\n",
    "    if x > (Q3 + (1.5*IQR)):\n",
    "        x=Q3\n",
    "    elif x <(Q1 - (1.5*IQR)):\n",
    "        x=Q1\n",
    "    else:\n",
    "        pass\n",
    "    return(x)\n",
    "\n",
    "Q1 = outlier_data['lp_amount'].quantile(0.25)\n",
    "Q3 = outlier_data['lp_amount'].quantile(0.75)\n",
    "IQR = iqr(outlier_data['lp_amount'])\n",
    "outlier_data['lp_amount'] = outlier_data['lp_amount'].apply(lambda x: outlier(x))\n",
    "\n",
    "# Plotting the box plot\n",
    "plt.boxplot(outlier_data['lp_amount'])"
   ]
  },
  {
   "cell_type": "code",
   "execution_count": 8,
   "metadata": {},
   "outputs": [
    {
     "data": {
      "text/plain": [
       "{'whiskers': [<matplotlib.lines.Line2D at 0x7fd03c5f0f60>,\n",
       "  <matplotlib.lines.Line2D at 0x7fd03c5f0978>],\n",
       " 'caps': [<matplotlib.lines.Line2D at 0x7fd03c5f0ac8>,\n",
       "  <matplotlib.lines.Line2D at 0x7fd03c5f02e8>],\n",
       " 'boxes': [<matplotlib.lines.Line2D at 0x7fd03c649f60>],\n",
       " 'medians': [<matplotlib.lines.Line2D at 0x7fd03c5f0898>],\n",
       " 'fliers': [<matplotlib.lines.Line2D at 0x7fd03c558cf8>],\n",
       " 'means': []}"
      ]
     },
     "execution_count": 8,
     "metadata": {},
     "output_type": "execute_result"
    },
    {
     "data": {
      "image/png": "[encoded data removed]",
      "text/plain": [
       "<Figure size 432x288 with 1 Axes>"
      ]
     },
     "metadata": {
      "needs_background": "light"
     },
     "output_type": "display_data"
    }
   ],
   "source": [
    "# Using the same definition and method above and apply it to the 'income' column\n",
    "Q1 = outlier_data['income'].quantile(0.25)\n",
    "Q3 = outlier_data['income'].quantile(0.75)\n",
    "IQR = iqr(outlier_data['income'])\n",
    "outlier_data['income'] = outlier_data['income'].apply(lambda x: outlier(x))\n",
    "\n",
    "# Plotting the box plot\n",
    "plt.boxplot(outlier_data['income'])"
   ]
  },
  {
   "cell_type": "code",
   "execution_count": 9,
   "metadata": {},
   "outputs": [
    {
     "data": {
      "text/plain": [
       "lp_amount       35.185814\n",
       "income       57642.258229\n",
       "prod             1.402031\n",
       "dtype: float64"
      ]
     },
     "execution_count": 9,
     "metadata": {},
     "output_type": "execute_result"
    }
   ],
   "source": [
    "outlier_data.mean()"
   ]
  },
  {
   "cell_type": "code",
   "execution_count": 10,
   "metadata": {},
   "outputs": [],
   "source": [
    "# Creating the columns names to be inputed into the new normalized data\n",
    "norm_cols = ['lp_amount', 'income', 'prod']\n",
    "\n",
    "# Normalizing the two columns in 'outlier_data' using the MinMax function\n",
    "minmax = preprocessing.MinMaxScaler()\n",
    "norm = (minmax.fit_transform(outlier_data))\n",
    "norm = pd.DataFrame(norm, columns=norm_cols)"
   ]
  },
  {
   "cell_type": "code",
   "execution_count": 11,
   "metadata": {},
   "outputs": [
    {
     "data": {
      "image/png": "[encoded data removed]",
      "text/plain": [
       "<Figure size 432x288 with 1 Axes>"
      ]
     },
     "metadata": {
      "needs_background": "light"
     },
     "output_type": "display_data"
    }
   ],
   "source": [
    "# Creating a histogram for the 'income' column\n",
    "plt.hist(norm['income'])    \n",
    "# Naming the box plot after the name of the column     \n",
    "plt.title('income')\n",
    "plt.show()"
   ]
  },
  {
   "cell_type": "code",
   "execution_count": 12,
   "metadata": {},
   "outputs": [
    {
     "data": {
      "image/png": "[encoded data removed]",
      "text/plain": [
       "<Figure size 432x288 with 1 Axes>"
      ]
     },
     "metadata": {
      "needs_background": "light"
     },
     "output_type": "display_data"
    }
   ],
   "source": [
    "# Creating a histogram for the 'lp_amount' column\n",
    "plt.hist(norm['lp_amount'])    \n",
    "# Naming the box plot after the name of the column     \n",
    "plt.title('lp_amount')\n",
    "plt.show()"
   ]
  },
  {
   "cell_type": "code",
   "execution_count": 13,
   "metadata": {},
   "outputs": [
    {
     "data": {
      "image/png": "[encoded data removed]",
      "text/plain": [
       "<Figure size 432x288 with 1 Axes>"
      ]
     },
     "metadata": {
      "needs_background": "light"
     },
     "output_type": "display_data"
    }
   ],
   "source": [
    "# Creating a histogram for the 'prod' column\n",
    "plt.hist(norm['prod'])    \n",
    "# Naming the box plot after the name of the column     \n",
    "plt.title('prod')\n",
    "plt.show()"
   ]
  },
  {
   "cell_type": "code",
   "execution_count": 14,
   "metadata": {},
   "outputs": [
    {
     "data": {
      "text/plain": [
       "lp_amount    0.505895\n",
       "income       0.496311\n",
       "prod         0.020102\n",
       "dtype: float64"
      ]
     },
     "execution_count": 14,
     "metadata": {},
     "output_type": "execute_result"
    }
   ],
   "source": [
    "norm.mean()"
   ]
  },
  {
   "cell_type": "code",
   "execution_count": 15,
   "metadata": {},
   "outputs": [
    {
     "data": {
      "text/html": [
       "<div>\n",
       "<style scoped>\n",
       "    .dataframe tbody tr th:only-of-type {\n",
       "        vertical-align: middle;\n",
       "    }\n",
       "\n",
       "    .dataframe tbody tr th {\n",
       "        vertical-align: top;\n",
       "    }\n",
       "\n",
       "    .dataframe thead th {\n",
       "        text-align: right;\n",
       "    }\n",
       "</style>\n",
       "<table border=\"1\" class=\"dataframe\">\n",
       "  <thead>\n",
       "    <tr style=\"text-align: right;\">\n",
       "      <th></th>\n",
       "      <th>year</th>\n",
       "      <th>agent</th>\n",
       "      <th>state</th>\n",
       "      <th>pay_method</th>\n",
       "      <th>lp_type</th>\n",
       "      <th>lp_amount</th>\n",
       "      <th>income</th>\n",
       "      <th>prod</th>\n",
       "      <th>months</th>\n",
       "      <th>Y</th>\n",
       "    </tr>\n",
       "  </thead>\n",
       "  <tbody>\n",
       "    <tr>\n",
       "      <th>0</th>\n",
       "      <td>2014.0</td>\n",
       "      <td>Church Bulletin 0011 (109398)</td>\n",
       "      <td>MA</td>\n",
       "      <td>credit card</td>\n",
       "      <td>Refund</td>\n",
       "      <td>0.500</td>\n",
       "      <td>0.654935</td>\n",
       "      <td>0.0</td>\n",
       "      <td>0.87</td>\n",
       "      <td>0</td>\n",
       "    </tr>\n",
       "    <tr>\n",
       "      <th>1</th>\n",
       "      <td>2015.0</td>\n",
       "      <td>Benefits and More 4 Paid (143595)</td>\n",
       "      <td>MA</td>\n",
       "      <td>credit card</td>\n",
       "      <td>Sale</td>\n",
       "      <td>0.375</td>\n",
       "      <td>0.654935</td>\n",
       "      <td>0.0</td>\n",
       "      <td>0.00</td>\n",
       "      <td>0</td>\n",
       "    </tr>\n",
       "    <tr>\n",
       "      <th>2</th>\n",
       "      <td>2016.0</td>\n",
       "      <td>Benefits and More 4 Paid (143595)</td>\n",
       "      <td>MA</td>\n",
       "      <td>credit card</td>\n",
       "      <td>Sale</td>\n",
       "      <td>0.375</td>\n",
       "      <td>0.654935</td>\n",
       "      <td>0.0</td>\n",
       "      <td>0.00</td>\n",
       "      <td>0</td>\n",
       "    </tr>\n",
       "    <tr>\n",
       "      <th>3</th>\n",
       "      <td>2016.0</td>\n",
       "      <td>Benefits and More 4 Paid (143595)</td>\n",
       "      <td>MA</td>\n",
       "      <td>credit card</td>\n",
       "      <td>Refund</td>\n",
       "      <td>0.625</td>\n",
       "      <td>0.654935</td>\n",
       "      <td>0.0</td>\n",
       "      <td>0.67</td>\n",
       "      <td>0</td>\n",
       "    </tr>\n",
       "    <tr>\n",
       "      <th>4</th>\n",
       "      <td>2014.0</td>\n",
       "      <td>Newspaper (109455)</td>\n",
       "      <td>MA</td>\n",
       "      <td>credit card</td>\n",
       "      <td>Sale</td>\n",
       "      <td>0.500</td>\n",
       "      <td>0.480234</td>\n",
       "      <td>0.0</td>\n",
       "      <td>0.57</td>\n",
       "      <td>0</td>\n",
       "    </tr>\n",
       "  </tbody>\n",
       "</table>\n",
       "</div>"
      ],
      "text/plain": [
       "     year                              agent state   pay_method lp_type  \\\n",
       "0  2014.0      Church Bulletin 0011 (109398)    MA  credit card  Refund   \n",
       "1  2015.0  Benefits and More 4 Paid (143595)    MA  credit card    Sale   \n",
       "2  2016.0  Benefits and More 4 Paid (143595)    MA  credit card    Sale   \n",
       "3  2016.0  Benefits and More 4 Paid (143595)    MA  credit card  Refund   \n",
       "4  2014.0                 Newspaper (109455)    MA  credit card    Sale   \n",
       "\n",
       "   lp_amount    income  prod  months  Y  \n",
       "0      0.500  0.654935   0.0    0.87  0  \n",
       "1      0.375  0.654935   0.0    0.00  0  \n",
       "2      0.375  0.654935   0.0    0.00  0  \n",
       "3      0.625  0.654935   0.0    0.67  0  \n",
       "4      0.500  0.480234   0.0    0.57  0  "
      ]
     },
     "execution_count": 15,
     "metadata": {},
     "output_type": "execute_result"
    }
   ],
   "source": [
    "# Combining the two datasets (first and normalized) back into one\n",
    "data = pd.concat([data, norm], axis = 1)\n",
    "\n",
    "# Dropping the unneeded 'Unnamed:0' column\n",
    "data = data.drop(['Unnamed: 0'], axis = 1)\n",
    "\n",
    "# Changing the order of the columns in the new concatenated dataset\n",
    "data = data[['year', 'agent', 'state', 'pay_method', 'lp_type', 'lp_amount', 'income', 'prod', 'months', '18_months']]\n",
    "\n",
    "#Renaming the 18_months column to 'Y'\n",
    "data['Y'] = data['18_months']\n",
    "data = data.drop(['18_months'], axis = 1)\n",
    "\n",
    "data.head()"
   ]
  },
  {
   "cell_type": "code",
   "execution_count": 16,
   "metadata": {},
   "outputs": [
    {
     "data": {
      "text/plain": [
       "<matplotlib.axes._subplots.AxesSubplot at 0x7fd03c3de5f8>"
      ]
     },
     "execution_count": 16,
     "metadata": {},
     "output_type": "execute_result"
    },
    {
     "data": {
      "image/png": "[encoded data removed]",
      "text/plain": [
       "<Figure size 792x648 with 2 Axes>"
      ]
     },
     "metadata": {
      "needs_background": "light"
     },
     "output_type": "display_data"
    }
   ],
   "source": [
    "### I AM USING THIS CODE FROM COMPETITION 1\n",
    "\n",
    "## We will make it look nicer to the eye\n",
    "# Visualizing a Correlation Matrix\n",
    "correlation_visual = data.corr(method='spearman')\n",
    "\n",
    "# Have to generate a mask(hide) for the upper triangle\n",
    "hide = np.zeros_like(correlation_visual, dtype=np.bool)\n",
    "hide[np.triu_indices_from(hide)] = True\n",
    "\n",
    "# Setting the subplot for the correlation matrix\n",
    "f , ax = plt.subplots(figsize=(11,9))\n",
    "\n",
    "# Generating a diverging colormap\n",
    "cmap = sns.diverging_palette(100, 200, as_cmap=True)\n",
    "\n",
    "# Adding the heatmap\n",
    "sns.heatmap(correlation_visual, mask=hide, cmap=cmap, vmin=-1,vmax=1, center=0, square=True, linewidths=.6, cbar_kws={\"shrink\": .5})"
   ]
  },
  {
   "cell_type": "code",
   "execution_count": null,
   "metadata": {},
   "outputs": [],
   "source": []
  }
 ],
 "metadata": {
  "kernelspec": {
   "display_name": "Python 3",
   "language": "python",
   "name": "python3"
  },
  "language_info": {
   "codemirror_mode": {
    "name": "ipython",
    "version": 3
   },
   "file_extension": ".py",
   "mimetype": "text/x-python",
   "name": "python",
   "nbconvert_exporter": "python",
   "pygments_lexer": "ipython3",
   "version": "3.6.7"
  }
 },
 "nbformat": 4,
 "nbformat_minor": 2
}
