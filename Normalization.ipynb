{
 "cells": [
  {
   "cell_type": "code",
   "execution_count": 1,
   "metadata": {},
   "outputs": [],
   "source": [
    "# Importing the necessary packages\n",
    "import pandas as pd\n",
    "import numpy as np\n",
    "import matplotlib.pyplot as plt\n",
    "from sklearn import preprocessing\n",
    "from sklearn.preprocessing import MinMaxScaler"
   ]
  },
  {
   "cell_type": "code",
   "execution_count": 2,
   "metadata": {},
   "outputs": [
    {
     "data": {
      "text/html": [
       "<div>\n",
       "<style scoped>\n",
       "    .dataframe tbody tr th:only-of-type {\n",
       "        vertical-align: middle;\n",
       "    }\n",
       "\n",
       "    .dataframe tbody tr th {\n",
       "        vertical-align: top;\n",
       "    }\n",
       "\n",
       "    .dataframe thead th {\n",
       "        text-align: right;\n",
       "    }\n",
       "</style>\n",
       "<table border=\"1\" class=\"dataframe\">\n",
       "  <thead>\n",
       "    <tr style=\"text-align: right;\">\n",
       "      <th></th>\n",
       "      <th>Unnamed: 0</th>\n",
       "      <th>year</th>\n",
       "      <th>agent</th>\n",
       "      <th>state</th>\n",
       "      <th>status</th>\n",
       "      <th>pay_method</th>\n",
       "      <th>lp_amount</th>\n",
       "      <th>lp_type</th>\n",
       "      <th>prod</th>\n",
       "      <th>income</th>\n",
       "      <th>months</th>\n",
       "      <th>18_months</th>\n",
       "    </tr>\n",
       "  </thead>\n",
       "  <tbody>\n",
       "    <tr>\n",
       "      <th>0</th>\n",
       "      <td>0</td>\n",
       "      <td>2014.0</td>\n",
       "      <td>Church Bulletin 0011 (109398)</td>\n",
       "      <td>MA</td>\n",
       "      <td>Returned &lt; 90 days</td>\n",
       "      <td>credit card</td>\n",
       "      <td>34.95</td>\n",
       "      <td>Refund</td>\n",
       "      <td>1.0</td>\n",
       "      <td>74467.0</td>\n",
       "      <td>0.87</td>\n",
       "      <td>0</td>\n",
       "    </tr>\n",
       "    <tr>\n",
       "      <th>1</th>\n",
       "      <td>1</td>\n",
       "      <td>2015.0</td>\n",
       "      <td>Benefits and More 4 Paid (143595)</td>\n",
       "      <td>MA</td>\n",
       "      <td>Returned &lt; 90 days</td>\n",
       "      <td>credit card</td>\n",
       "      <td>29.95</td>\n",
       "      <td>Sale</td>\n",
       "      <td>1.0</td>\n",
       "      <td>74467.0</td>\n",
       "      <td>0.00</td>\n",
       "      <td>0</td>\n",
       "    </tr>\n",
       "    <tr>\n",
       "      <th>2</th>\n",
       "      <td>2</td>\n",
       "      <td>2016.0</td>\n",
       "      <td>Benefits and More 4 Paid (143595)</td>\n",
       "      <td>MA</td>\n",
       "      <td>Switched to LW</td>\n",
       "      <td>credit card</td>\n",
       "      <td>29.95</td>\n",
       "      <td>Sale</td>\n",
       "      <td>1.0</td>\n",
       "      <td>74467.0</td>\n",
       "      <td>0.00</td>\n",
       "      <td>0</td>\n",
       "    </tr>\n",
       "    <tr>\n",
       "      <th>3</th>\n",
       "      <td>3</td>\n",
       "      <td>2016.0</td>\n",
       "      <td>Benefits and More 4 Paid (143595)</td>\n",
       "      <td>MA</td>\n",
       "      <td>Returned &lt; 90 days</td>\n",
       "      <td>credit card</td>\n",
       "      <td>39.95</td>\n",
       "      <td>Refund</td>\n",
       "      <td>1.0</td>\n",
       "      <td>74467.0</td>\n",
       "      <td>0.67</td>\n",
       "      <td>0</td>\n",
       "    </tr>\n",
       "    <tr>\n",
       "      <th>4</th>\n",
       "      <td>5</td>\n",
       "      <td>2014.0</td>\n",
       "      <td>Newspaper (109455)</td>\n",
       "      <td>MA</td>\n",
       "      <td>Decline</td>\n",
       "      <td>credit card</td>\n",
       "      <td>34.95</td>\n",
       "      <td>Sale</td>\n",
       "      <td>1.0</td>\n",
       "      <td>55937.0</td>\n",
       "      <td>0.57</td>\n",
       "      <td>0</td>\n",
       "    </tr>\n",
       "  </tbody>\n",
       "</table>\n",
       "</div>"
      ],
      "text/plain": [
       "   Unnamed: 0    year                              agent state  \\\n",
       "0           0  2014.0      Church Bulletin 0011 (109398)    MA   \n",
       "1           1  2015.0  Benefits and More 4 Paid (143595)    MA   \n",
       "2           2  2016.0  Benefits and More 4 Paid (143595)    MA   \n",
       "3           3  2016.0  Benefits and More 4 Paid (143595)    MA   \n",
       "4           5  2014.0                 Newspaper (109455)    MA   \n",
       "\n",
       "               status   pay_method  lp_amount lp_type  prod   income  months  \\\n",
       "0  Returned < 90 days  credit card      34.95  Refund   1.0  74467.0    0.87   \n",
       "1  Returned < 90 days  credit card      29.95    Sale   1.0  74467.0    0.00   \n",
       "2      Switched to LW  credit card      29.95    Sale   1.0  74467.0    0.00   \n",
       "3  Returned < 90 days  credit card      39.95  Refund   1.0  74467.0    0.67   \n",
       "4             Decline  credit card      34.95    Sale   1.0  55937.0    0.57   \n",
       "\n",
       "   18_months  \n",
       "0          0  \n",
       "1          0  \n",
       "2          0  \n",
       "3          0  \n",
       "4          0  "
      ]
     },
     "execution_count": 2,
     "metadata": {},
     "output_type": "execute_result"
    }
   ],
   "source": [
    "# Reading in each csv file for the imputed data\n",
    "data = pd.read_csv('imputed_data.csv', encoding = 'ISO-8859-1')\n",
    "data.head()"
   ]
  },
  {
   "cell_type": "code",
   "execution_count": 4,
   "metadata": {},
   "outputs": [],
   "source": [
    "# Separating out the y variable and selecting the continuous data that needs to be normalize\n",
    "Y = data['18_months']\n",
    "outlier_data = data[['lp_amount', 'prod', 'income', 'months']]\n",
    "data = data.drop(['lp_amount', 'prod', 'income', 'months'], axis=1)"
   ]
  },
  {
   "cell_type": "code",
   "execution_count": 5,
   "metadata": {},
   "outputs": [
    {
     "data": {
      "image/png": "[encoded data removed]",
      "text/plain": [
       "<Figure size 432x288 with 1 Axes>"
      ]
     },
     "metadata": {
      "needs_background": "light"
     },
     "output_type": "display_data"
    },
    {
     "data": {
      "image/png": "[encoded data removed]",
      "text/plain": [
       "<Figure size 432x288 with 1 Axes>"
      ]
     },
     "metadata": {
      "needs_background": "light"
     },
     "output_type": "display_data"
    },
    {
     "data": {
      "image/png": "[encoded data removed]",
      "text/plain": [
       "<Figure size 432x288 with 1 Axes>"
      ]
     },
     "metadata": {
      "needs_background": "light"
     },
     "output_type": "display_data"
    },
    {
     "data": {
      "image/png": "[encoded data removed]",
      "text/plain": [
       "<Figure size 432x288 with 1 Axes>"
      ]
     },
     "metadata": {
      "needs_background": "light"
     },
     "output_type": "display_data"
    }
   ],
   "source": [
    "# Creating a for loop that will plot each column in 'outlier_data'\n",
    "for i in range(len(outlier_data.columns)):\n",
    "    plt.boxplot(outlier_data.iloc[:,i].dropna())\n",
    "# Naming each plot after the column name in 'outlier_data'   \n",
    "    plt.title('%a' % outlier_data.columns[i])\n",
    "    plt.show();"
   ]
  },
  {
   "cell_type": "code",
   "execution_count": null,
   "metadata": {},
   "outputs": [],
   "source": []
  }
 ],
 "metadata": {
  "kernelspec": {
   "display_name": "Python 3",
   "language": "python",
   "name": "python3"
  },
  "language_info": {
   "codemirror_mode": {
    "name": "ipython",
    "version": 3
   },
   "file_extension": ".py",
   "mimetype": "text/x-python",
   "name": "python",
   "nbconvert_exporter": "python",
   "pygments_lexer": "ipython3",
   "version": "3.6.7"
  }
 },
 "nbformat": 4,
 "nbformat_minor": 2
}
