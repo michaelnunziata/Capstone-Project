{
 "cells": [
  {
   "cell_type": "code",
   "execution_count": 56,
   "metadata": {},
   "outputs": [
    {
     "data": {
      "text/html": [
       "<div>\n",
       "<style scoped>\n",
       "    .dataframe tbody tr th:only-of-type {\n",
       "        vertical-align: middle;\n",
       "    }\n",
       "\n",
       "    .dataframe tbody tr th {\n",
       "        vertical-align: top;\n",
       "    }\n",
       "\n",
       "    .dataframe thead th {\n",
       "        text-align: right;\n",
       "    }\n",
       "</style>\n",
       "<table border=\"1\" class=\"dataframe\">\n",
       "  <thead>\n",
       "    <tr style=\"text-align: right;\">\n",
       "      <th></th>\n",
       "      <th>Unnamed: 0</th>\n",
       "      <th>year</th>\n",
       "      <th>state</th>\n",
       "      <th>lp_amount</th>\n",
       "      <th>status</th>\n",
       "      <th>income</th>\n",
       "      <th>months</th>\n",
       "      <th>18_months</th>\n",
       "      <th>pay_method_ACH</th>\n",
       "      <th>pay_method_Other</th>\n",
       "      <th>...</th>\n",
       "      <th>region_north_east</th>\n",
       "      <th>region_rocky</th>\n",
       "      <th>region_south</th>\n",
       "      <th>region_south_east</th>\n",
       "      <th>region_west</th>\n",
       "      <th>status_Active</th>\n",
       "      <th>status_Decline</th>\n",
       "      <th>status_Returned</th>\n",
       "      <th>status_Returned &lt; 90 days</th>\n",
       "      <th>status_Returned_90</th>\n",
       "    </tr>\n",
       "  </thead>\n",
       "  <tbody>\n",
       "    <tr>\n",
       "      <th>0</th>\n",
       "      <td>0</td>\n",
       "      <td>2014.0</td>\n",
       "      <td>north_east</td>\n",
       "      <td>34.95</td>\n",
       "      <td>Returned_90</td>\n",
       "      <td>36250.0</td>\n",
       "      <td>0.87</td>\n",
       "      <td>0</td>\n",
       "      <td>0</td>\n",
       "      <td>0</td>\n",
       "      <td>...</td>\n",
       "      <td>1</td>\n",
       "      <td>0</td>\n",
       "      <td>0</td>\n",
       "      <td>0</td>\n",
       "      <td>0</td>\n",
       "      <td>0</td>\n",
       "      <td>0</td>\n",
       "      <td>0</td>\n",
       "      <td>0</td>\n",
       "      <td>1</td>\n",
       "    </tr>\n",
       "    <tr>\n",
       "      <th>1</th>\n",
       "      <td>1</td>\n",
       "      <td>2015.0</td>\n",
       "      <td>north_east</td>\n",
       "      <td>29.95</td>\n",
       "      <td>Returned &lt; 90 days</td>\n",
       "      <td>36250.0</td>\n",
       "      <td>0.00</td>\n",
       "      <td>0</td>\n",
       "      <td>0</td>\n",
       "      <td>0</td>\n",
       "      <td>...</td>\n",
       "      <td>1</td>\n",
       "      <td>0</td>\n",
       "      <td>0</td>\n",
       "      <td>0</td>\n",
       "      <td>0</td>\n",
       "      <td>0</td>\n",
       "      <td>0</td>\n",
       "      <td>0</td>\n",
       "      <td>1</td>\n",
       "      <td>0</td>\n",
       "    </tr>\n",
       "    <tr>\n",
       "      <th>2</th>\n",
       "      <td>2</td>\n",
       "      <td>2016.0</td>\n",
       "      <td>north_east</td>\n",
       "      <td>29.95</td>\n",
       "      <td>Switched to LW</td>\n",
       "      <td>36250.0</td>\n",
       "      <td>0.00</td>\n",
       "      <td>0</td>\n",
       "      <td>0</td>\n",
       "      <td>0</td>\n",
       "      <td>...</td>\n",
       "      <td>1</td>\n",
       "      <td>0</td>\n",
       "      <td>0</td>\n",
       "      <td>0</td>\n",
       "      <td>0</td>\n",
       "      <td>0</td>\n",
       "      <td>0</td>\n",
       "      <td>0</td>\n",
       "      <td>0</td>\n",
       "      <td>0</td>\n",
       "    </tr>\n",
       "    <tr>\n",
       "      <th>3</th>\n",
       "      <td>3</td>\n",
       "      <td>2016.0</td>\n",
       "      <td>north_east</td>\n",
       "      <td>39.95</td>\n",
       "      <td>Returned_90</td>\n",
       "      <td>36250.0</td>\n",
       "      <td>0.67</td>\n",
       "      <td>0</td>\n",
       "      <td>0</td>\n",
       "      <td>0</td>\n",
       "      <td>...</td>\n",
       "      <td>1</td>\n",
       "      <td>0</td>\n",
       "      <td>0</td>\n",
       "      <td>0</td>\n",
       "      <td>0</td>\n",
       "      <td>0</td>\n",
       "      <td>0</td>\n",
       "      <td>0</td>\n",
       "      <td>0</td>\n",
       "      <td>1</td>\n",
       "    </tr>\n",
       "    <tr>\n",
       "      <th>4</th>\n",
       "      <td>5</td>\n",
       "      <td>2014.0</td>\n",
       "      <td>north_east</td>\n",
       "      <td>34.95</td>\n",
       "      <td>Decline</td>\n",
       "      <td>74083.0</td>\n",
       "      <td>0.57</td>\n",
       "      <td>0</td>\n",
       "      <td>0</td>\n",
       "      <td>0</td>\n",
       "      <td>...</td>\n",
       "      <td>1</td>\n",
       "      <td>0</td>\n",
       "      <td>0</td>\n",
       "      <td>0</td>\n",
       "      <td>0</td>\n",
       "      <td>0</td>\n",
       "      <td>1</td>\n",
       "      <td>0</td>\n",
       "      <td>0</td>\n",
       "      <td>0</td>\n",
       "    </tr>\n",
       "  </tbody>\n",
       "</table>\n",
       "<p>5 rows × 23 columns</p>\n",
       "</div>"
      ],
      "text/plain": [
       "   Unnamed: 0    year       state  lp_amount              status   income  \\\n",
       "0           0  2014.0  north_east      34.95         Returned_90  36250.0   \n",
       "1           1  2015.0  north_east      29.95  Returned < 90 days  36250.0   \n",
       "2           2  2016.0  north_east      29.95      Switched to LW  36250.0   \n",
       "3           3  2016.0  north_east      39.95         Returned_90  36250.0   \n",
       "4           5  2014.0  north_east      34.95             Decline  74083.0   \n",
       "\n",
       "   months  18_months  pay_method_ACH  pay_method_Other         ...          \\\n",
       "0    0.87          0               0                 0         ...           \n",
       "1    0.00          0               0                 0         ...           \n",
       "2    0.00          0               0                 0         ...           \n",
       "3    0.67          0               0                 0         ...           \n",
       "4    0.57          0               0                 0         ...           \n",
       "\n",
       "   region_north_east  region_rocky  region_south  region_south_east  \\\n",
       "0                  1             0             0                  0   \n",
       "1                  1             0             0                  0   \n",
       "2                  1             0             0                  0   \n",
       "3                  1             0             0                  0   \n",
       "4                  1             0             0                  0   \n",
       "\n",
       "   region_west  status_Active  status_Decline  status_Returned  \\\n",
       "0            0              0               0                0   \n",
       "1            0              0               0                0   \n",
       "2            0              0               0                0   \n",
       "3            0              0               0                0   \n",
       "4            0              0               1                0   \n",
       "\n",
       "   status_Returned < 90 days  status_Returned_90  \n",
       "0                          0                   1  \n",
       "1                          1                   0  \n",
       "2                          0                   0  \n",
       "3                          0                   1  \n",
       "4                          0                   0  \n",
       "\n",
       "[5 rows x 23 columns]"
      ]
     },
     "execution_count": 56,
     "metadata": {},
     "output_type": "execute_result"
    }
   ],
   "source": [
    "# Importing the necessary packages\n",
    "import pandas as pd\n",
    "import numpy as np\n",
    "import matplotlib.pyplot as plt\n",
    "from sklearn import preprocessing\n",
    "from sklearn.preprocessing import MinMaxScaler\n",
    "from scipy.stats import iqr\n",
    "import seaborn as sns\n",
    "\n",
    "# Reading in each csv file for the imputed data\n",
    "data = pd.read_csv('imputed_data.csv', encoding = 'ISO-8859-1')\n",
    "data.head()"
   ]
  },
  {
   "cell_type": "code",
   "execution_count": 57,
   "metadata": {},
   "outputs": [],
   "source": [
    "# Separating out the y variable and selecting the 'income' column to be normalized\n",
    "Y = data['18_months']\n",
    "outlier_data = data[['income']]\n",
    "data = data.drop(['income', '18_months'], axis=1)"
   ]
  },
  {
   "cell_type": "code",
   "execution_count": 58,
   "metadata": {},
   "outputs": [
    {
     "data": {
      "image/png": "[encoded data removed]",
      "text/plain": [
       "<Figure size 432x288 with 1 Axes>"
      ]
     },
     "metadata": {
      "needs_background": "light"
     },
     "output_type": "display_data"
    }
   ],
   "source": [
    "# Creating a boxplot for the 'income' column\n",
    "plt.boxplot(outlier_data['income'])    \n",
    "# Naming the box plot after the name of the column     \n",
    "plt.title('income')\n",
    "plt.show()"
   ]
  },
  {
   "cell_type": "code",
   "execution_count": 59,
   "metadata": {},
   "outputs": [
    {
     "data": {
      "text/plain": [
       "{'whiskers': [<matplotlib.lines.Line2D at 0x7f413af55cf8>,\n",
       "  <matplotlib.lines.Line2D at 0x7f413b1de358>],\n",
       " 'caps': [<matplotlib.lines.Line2D at 0x7f413b1def28>,\n",
       "  <matplotlib.lines.Line2D at 0x7f413b6abe80>],\n",
       " 'boxes': [<matplotlib.lines.Line2D at 0x7f413af55da0>],\n",
       " 'medians': [<matplotlib.lines.Line2D at 0x7f413b6abf98>],\n",
       " 'fliers': [<matplotlib.lines.Line2D at 0x7f413b377898>],\n",
       " 'means': []}"
      ]
     },
     "execution_count": 59,
     "metadata": {},
     "output_type": "execute_result"
    },
    {
     "data": {
      "image/png": "[encoded data removed]",
      "text/plain": [
       "<Figure size 432x288 with 1 Axes>"
      ]
     },
     "metadata": {
      "needs_background": "light"
     },
     "output_type": "display_data"
    }
   ],
   "source": [
    "# Defining the function 'outlier' to help with major outliers in the 'income' column\n",
    "\n",
    "def outlier(x):\n",
    "    if x > (Q3 + (1.5*IQR)):\n",
    "        x=Q3\n",
    "    elif x <(Q1 - (1.5*IQR)):\n",
    "        x=Q1\n",
    "    else:\n",
    "        pass\n",
    "    return(x)\n",
    "\n",
    "# Setting the Q1 and Q3 variables to the necessary quartiles\n",
    "Q1 = outlier_data['income'].quantile(0.25)\n",
    "Q3 = outlier_data['income'].quantile(0.75)\n",
    "IQR = iqr(outlier_data['income'])\n",
    "\n",
    "# Applying the function above to the income column\n",
    "outlier_data['income'] = outlier_data['income'].apply(lambda x: outlier(x))\n",
    "\n",
    "# Plotting the box plot\n",
    "plt.boxplot(outlier_data['income'])"
   ]
  },
  {
   "cell_type": "code",
   "execution_count": 60,
   "metadata": {},
   "outputs": [
    {
     "data": {
      "text/plain": [
       "income    38260.298414\n",
       "dtype: float64"
      ]
     },
     "execution_count": 60,
     "metadata": {},
     "output_type": "execute_result"
    }
   ],
   "source": [
    "# Showing the pre-normalized mean of the 'income' data\n",
    "outlier_data.mean()"
   ]
  },
  {
   "cell_type": "code",
   "execution_count": 61,
   "metadata": {},
   "outputs": [],
   "source": [
    "# Creating the column name to be inputed into the new normalized data\n",
    "norm_cols = ['income']\n",
    "\n",
    "# Normalizing the two columns in 'outlier_data' using the MinMax function\n",
    "minmax = preprocessing.MinMaxScaler()\n",
    "norm = (minmax.fit_transform(outlier_data))\n",
    "norm = pd.DataFrame(norm, columns=norm_cols)"
   ]
  },
  {
   "cell_type": "code",
   "execution_count": 62,
   "metadata": {},
   "outputs": [
    {
     "data": {
      "image/png": "[encoded data removed]",
      "text/plain": [
       "<Figure size 432x288 with 1 Axes>"
      ]
     },
     "metadata": {
      "needs_background": "light"
     },
     "output_type": "display_data"
    }
   ],
   "source": [
    "# Creating a histogram for the 'income' column\n",
    "plt.hist(norm['income'])    \n",
    "# Naming the box plot after the name of the column     \n",
    "plt.title('income')\n",
    "plt.show()"
   ]
  },
  {
   "cell_type": "code",
   "execution_count": 63,
   "metadata": {},
   "outputs": [
    {
     "data": {
      "text/plain": [
       "income    0.499348\n",
       "dtype: float64"
      ]
     },
     "execution_count": 63,
     "metadata": {},
     "output_type": "execute_result"
    }
   ],
   "source": [
    "# Showing the normalized mean of the 'income' data\n",
    "norm.mean()"
   ]
  },
  {
   "cell_type": "code",
   "execution_count": 64,
   "metadata": {},
   "outputs": [
    {
     "data": {
      "text/html": [
       "<div>\n",
       "<style scoped>\n",
       "    .dataframe tbody tr th:only-of-type {\n",
       "        vertical-align: middle;\n",
       "    }\n",
       "\n",
       "    .dataframe tbody tr th {\n",
       "        vertical-align: top;\n",
       "    }\n",
       "\n",
       "    .dataframe thead th {\n",
       "        text-align: right;\n",
       "    }\n",
       "</style>\n",
       "<table border=\"1\" class=\"dataframe\">\n",
       "  <thead>\n",
       "    <tr style=\"text-align: right;\">\n",
       "      <th></th>\n",
       "      <th>Unnamed: 0</th>\n",
       "      <th>year</th>\n",
       "      <th>state</th>\n",
       "      <th>lp_amount</th>\n",
       "      <th>status</th>\n",
       "      <th>months</th>\n",
       "      <th>pay_method_ACH</th>\n",
       "      <th>pay_method_Other</th>\n",
       "      <th>pay_method_credit card</th>\n",
       "      <th>pay_method_paper check</th>\n",
       "      <th>...</th>\n",
       "      <th>region_south</th>\n",
       "      <th>region_south_east</th>\n",
       "      <th>region_west</th>\n",
       "      <th>status_Active</th>\n",
       "      <th>status_Decline</th>\n",
       "      <th>status_Returned</th>\n",
       "      <th>status_Returned &lt; 90 days</th>\n",
       "      <th>status_Returned_90</th>\n",
       "      <th>income</th>\n",
       "      <th>18_months</th>\n",
       "    </tr>\n",
       "  </thead>\n",
       "  <tbody>\n",
       "    <tr>\n",
       "      <th>0</th>\n",
       "      <td>0</td>\n",
       "      <td>2014.0</td>\n",
       "      <td>north_east</td>\n",
       "      <td>34.95</td>\n",
       "      <td>Returned_90</td>\n",
       "      <td>0.87</td>\n",
       "      <td>0</td>\n",
       "      <td>0</td>\n",
       "      <td>1</td>\n",
       "      <td>0</td>\n",
       "      <td>...</td>\n",
       "      <td>0</td>\n",
       "      <td>0</td>\n",
       "      <td>0</td>\n",
       "      <td>0</td>\n",
       "      <td>0</td>\n",
       "      <td>0</td>\n",
       "      <td>0</td>\n",
       "      <td>1</td>\n",
       "      <td>0.465506</td>\n",
       "      <td>0</td>\n",
       "    </tr>\n",
       "    <tr>\n",
       "      <th>1</th>\n",
       "      <td>1</td>\n",
       "      <td>2015.0</td>\n",
       "      <td>north_east</td>\n",
       "      <td>29.95</td>\n",
       "      <td>Returned &lt; 90 days</td>\n",
       "      <td>0.00</td>\n",
       "      <td>0</td>\n",
       "      <td>0</td>\n",
       "      <td>1</td>\n",
       "      <td>0</td>\n",
       "      <td>...</td>\n",
       "      <td>0</td>\n",
       "      <td>0</td>\n",
       "      <td>0</td>\n",
       "      <td>0</td>\n",
       "      <td>0</td>\n",
       "      <td>0</td>\n",
       "      <td>1</td>\n",
       "      <td>0</td>\n",
       "      <td>0.465506</td>\n",
       "      <td>0</td>\n",
       "    </tr>\n",
       "    <tr>\n",
       "      <th>2</th>\n",
       "      <td>2</td>\n",
       "      <td>2016.0</td>\n",
       "      <td>north_east</td>\n",
       "      <td>29.95</td>\n",
       "      <td>Switched to LW</td>\n",
       "      <td>0.00</td>\n",
       "      <td>0</td>\n",
       "      <td>0</td>\n",
       "      <td>1</td>\n",
       "      <td>0</td>\n",
       "      <td>...</td>\n",
       "      <td>0</td>\n",
       "      <td>0</td>\n",
       "      <td>0</td>\n",
       "      <td>0</td>\n",
       "      <td>0</td>\n",
       "      <td>0</td>\n",
       "      <td>0</td>\n",
       "      <td>0</td>\n",
       "      <td>0.465506</td>\n",
       "      <td>0</td>\n",
       "    </tr>\n",
       "    <tr>\n",
       "      <th>3</th>\n",
       "      <td>3</td>\n",
       "      <td>2016.0</td>\n",
       "      <td>north_east</td>\n",
       "      <td>39.95</td>\n",
       "      <td>Returned_90</td>\n",
       "      <td>0.67</td>\n",
       "      <td>0</td>\n",
       "      <td>0</td>\n",
       "      <td>1</td>\n",
       "      <td>0</td>\n",
       "      <td>...</td>\n",
       "      <td>0</td>\n",
       "      <td>0</td>\n",
       "      <td>0</td>\n",
       "      <td>0</td>\n",
       "      <td>0</td>\n",
       "      <td>0</td>\n",
       "      <td>0</td>\n",
       "      <td>1</td>\n",
       "      <td>0.465506</td>\n",
       "      <td>0</td>\n",
       "    </tr>\n",
       "    <tr>\n",
       "      <th>4</th>\n",
       "      <td>5</td>\n",
       "      <td>2014.0</td>\n",
       "      <td>north_east</td>\n",
       "      <td>34.95</td>\n",
       "      <td>Decline</td>\n",
       "      <td>0.57</td>\n",
       "      <td>0</td>\n",
       "      <td>0</td>\n",
       "      <td>1</td>\n",
       "      <td>0</td>\n",
       "      <td>...</td>\n",
       "      <td>0</td>\n",
       "      <td>0</td>\n",
       "      <td>0</td>\n",
       "      <td>0</td>\n",
       "      <td>1</td>\n",
       "      <td>0</td>\n",
       "      <td>0</td>\n",
       "      <td>0</td>\n",
       "      <td>0.624609</td>\n",
       "      <td>0</td>\n",
       "    </tr>\n",
       "  </tbody>\n",
       "</table>\n",
       "<p>5 rows × 23 columns</p>\n",
       "</div>"
      ],
      "text/plain": [
       "   Unnamed: 0    year       state  lp_amount              status  months  \\\n",
       "0           0  2014.0  north_east      34.95         Returned_90    0.87   \n",
       "1           1  2015.0  north_east      29.95  Returned < 90 days    0.00   \n",
       "2           2  2016.0  north_east      29.95      Switched to LW    0.00   \n",
       "3           3  2016.0  north_east      39.95         Returned_90    0.67   \n",
       "4           5  2014.0  north_east      34.95             Decline    0.57   \n",
       "\n",
       "   pay_method_ACH  pay_method_Other  pay_method_credit card  \\\n",
       "0               0                 0                       1   \n",
       "1               0                 0                       1   \n",
       "2               0                 0                       1   \n",
       "3               0                 0                       1   \n",
       "4               0                 0                       1   \n",
       "\n",
       "   pay_method_paper check    ...      region_south  region_south_east  \\\n",
       "0                       0    ...                 0                  0   \n",
       "1                       0    ...                 0                  0   \n",
       "2                       0    ...                 0                  0   \n",
       "3                       0    ...                 0                  0   \n",
       "4                       0    ...                 0                  0   \n",
       "\n",
       "   region_west  status_Active  status_Decline  status_Returned  \\\n",
       "0            0              0               0                0   \n",
       "1            0              0               0                0   \n",
       "2            0              0               0                0   \n",
       "3            0              0               0                0   \n",
       "4            0              0               1                0   \n",
       "\n",
       "   status_Returned < 90 days  status_Returned_90    income  18_months  \n",
       "0                          0                   1  0.465506          0  \n",
       "1                          1                   0  0.465506          0  \n",
       "2                          0                   0  0.465506          0  \n",
       "3                          0                   1  0.465506          0  \n",
       "4                          0                   0  0.624609          0  \n",
       "\n",
       "[5 rows x 23 columns]"
      ]
     },
     "execution_count": 64,
     "metadata": {},
     "output_type": "execute_result"
    }
   ],
   "source": [
    "# Combining the two datasets (original and normalized) back into one\n",
    "data = pd.concat([data, norm, Y], axis = 1)\n",
    "data.head()"
   ]
  },
  {
   "cell_type": "code",
   "execution_count": 65,
   "metadata": {},
   "outputs": [
    {
     "data": {
      "text/plain": [
       "<matplotlib.axes._subplots.AxesSubplot at 0x7f413af12278>"
      ]
     },
     "execution_count": 65,
     "metadata": {},
     "output_type": "execute_result"
    },
    {
     "data": {
      "image/png": "[encoded data removed]",
      "text/plain": [
       "<Figure size 792x648 with 2 Axes>"
      ]
     },
     "metadata": {
      "needs_background": "light"
     },
     "output_type": "display_data"
    }
   ],
   "source": [
    "# I AM USING THIS CODE FROM COMPETITION 2 OF OUR DATA MINING PROJECT\n",
    "\n",
    "# Setting the correlation matrix equal to a variable \n",
    "# in order to visualize it\n",
    "correlation_visual = data.corr(method='spearman')\n",
    "\n",
    "# Hiding the top half of the correlation matrix to make\n",
    "# it easier to read\n",
    "hide = np.zeros_like(correlation_visual, dtype=np.bool)\n",
    "hide[np.triu_indices_from(hide)] = True\n",
    "\n",
    "# Setting the subplot for the correlation matrix\n",
    "f , ax = plt.subplots(figsize=(11,9))\n",
    "\n",
    "# Generating a diverging colormap\n",
    "cmap = sns.diverging_palette(100, 200, as_cmap=True)\n",
    "\n",
    "# Putting in the heatmap element of the correlation visualization\n",
    "sns.heatmap(correlation_visual, mask=hide, cmap=cmap, vmin=-1,vmax=1, center=0, square=True, \n",
    "            linewidths=.6, cbar_kws={\"shrink\": .5})"
   ]
  },
  {
   "cell_type": "code",
   "execution_count": 66,
   "metadata": {},
   "outputs": [],
   "source": [
    "# Exporting the imputed and normalized dataset to a csv file \n",
    "# to be used in the other classification models\n",
    "data.to_csv('final_data.csv',',')"
   ]
  },
  {
   "cell_type": "code",
   "execution_count": null,
   "metadata": {},
   "outputs": [],
   "source": []
  }
 ],
 "metadata": {
  "kernelspec": {
   "display_name": "Python 3",
   "language": "python",
   "name": "python3"
  },
  "language_info": {
   "codemirror_mode": {
    "name": "ipython",
    "version": 3
   },
   "file_extension": ".py",
   "mimetype": "text/x-python",
   "name": "python",
   "nbconvert_exporter": "python",
   "pygments_lexer": "ipython3",
   "version": "3.6.7"
  }
 },
 "nbformat": 4,
 "nbformat_minor": 2
}
