{
 "cells": [
  {
   "cell_type": "code",
   "execution_count": 1,
   "metadata": {},
   "outputs": [
    {
     "name": "stderr",
     "output_type": "stream",
     "text": [
      "/opt/tljh/user/lib/python3.6/site-packages/sklearn/externals/six.py:31: DeprecationWarning: The module is deprecated in version 0.21 and will be removed in version 0.23 since we've dropped support for Python 2.7. Please rely on the official version of six (https://pypi.org/project/six/).\n",
      "  \"(https://pypi.org/project/six/).\", DeprecationWarning)\n"
     ]
    },
    {
     "data": {
      "text/plain": [
       "Index(['year', 'agent', 'pay_method', 'state', 'status', 'pay_method_ACH',\n",
       "       'pay_method_credit card', 'pay_method_paper check', 'region_central',\n",
       "       'region_east', 'region_south', 'region_west', 'status_Active',\n",
       "       'status_Decline', 'status_Returned', 'status_Returned_90', 'income',\n",
       "       'Y'],\n",
       "      dtype='object')"
      ]
     },
     "execution_count": 1,
     "metadata": {},
     "output_type": "execute_result"
    }
   ],
   "source": [
    "# importing the necessary packages\n",
    "import pandas as pd\n",
    "import numpy as np\n",
    "import matplotlib.pyplot as plt\n",
    "import seaborn as sns\n",
    "from sklearn.model_selection import train_test_split\n",
    "from sklearn.ensemble import RandomForestClassifier\n",
    "from sklearn.metrics import classification_report\n",
    "from sklearn.metrics import f1_score, roc_auc_score, accuracy_score\n",
    "from sklearn import metrics\n",
    "from imblearn.over_sampling import RandomOverSampler\n",
    "from sklearn.metrics import mean_squared_error\n",
    "\n",
    "# reading in the csv file\n",
    "data = pd.read_csv('final_data.csv', encoding = 'ISO-8859-1', index_col=0, header=0)\n",
    "data.columns"
   ]
  },
  {
   "cell_type": "code",
   "execution_count": 2,
   "metadata": {},
   "outputs": [],
   "source": [
    "# Dropping rows that will not be used in the random forest\n",
    "data = data.drop(['agent', 'pay_method', 'state', 'status'], axis = 1)"
   ]
  },
  {
   "cell_type": "code",
   "execution_count": 3,
   "metadata": {},
   "outputs": [],
   "source": [
    "# Splitting features and target\n",
    "\n",
    "X = data.iloc[:,:-1]\n",
    "Y = data['Y']\n",
    "\n",
    "# Splitting for training and testing\n",
    "X_train, X_test, y_train, y_test = train_test_split(X, Y, test_size=0.25, random_state=2019)"
   ]
  },
  {
   "cell_type": "code",
   "execution_count": 4,
   "metadata": {},
   "outputs": [
    {
     "data": {
      "text/plain": [
       "array([[7419, 1484],\n",
       "       [1797, 2942]])"
      ]
     },
     "execution_count": 4,
     "metadata": {},
     "output_type": "execute_result"
    }
   ],
   "source": [
    "# Creating and using the random forest model \n",
    "clf = RandomForestClassifier(n_estimators=300, max_depth = 10)\n",
    "clf = clf.fit(X_train, y_train)\n",
    "y_pred = clf.predict(X_test)\n",
    "\n",
    "# Creating the confusion matrix\n",
    "cnf_mat = metrics.confusion_matrix(y_test, y_pred)\n",
    "cnf_mat"
   ]
  },
  {
   "cell_type": "code",
   "execution_count": 5,
   "metadata": {},
   "outputs": [
    {
     "name": "stdout",
     "output_type": "stream",
     "text": [
      "Accuracy: 0.7594927429995602\n",
      "Precision: 0.6647085404428378\n",
      "Recall: 0.6208060772314834\n",
      "F1 Score: 0.7574632249277911\n",
      "AUC: 0.7270603451416319\n",
      "MCC: 0.4618552583306454\n"
     ]
    }
   ],
   "source": [
    "# Printing the accuracy, precision, and recall for the dataset\n",
    "print(\"Accuracy:\",metrics.accuracy_score(y_test, y_pred))\n",
    "print(\"Precision:\",metrics.precision_score(y_test, y_pred))\n",
    "print(\"Recall:\",metrics.recall_score(y_test, y_pred))\n",
    "print(\"F1 Score:\", metrics.f1_score(y_test, y_pred, average='weighted'))\n",
    "print(\"AUC:\", metrics.roc_auc_score(y_test,y_pred))\n",
    "print(\"MCC:\",metrics.matthews_corrcoef(y_test, y_pred))"
   ]
  },
  {
   "cell_type": "code",
   "execution_count": 6,
   "metadata": {},
   "outputs": [
    {
     "name": "stdout",
     "output_type": "stream",
     "text": [
      "              precision    recall  f1-score   support\n",
      "\n",
      "           0       0.81      0.83      0.82      8903\n",
      "           1       0.66      0.62      0.64      4739\n",
      "\n",
      "    accuracy                           0.76     13642\n",
      "   macro avg       0.73      0.73      0.73     13642\n",
      "weighted avg       0.76      0.76      0.76     13642\n",
      "\n"
     ]
    }
   ],
   "source": [
    "# Printing the classification report\n",
    "print(classification_report(y_test, y_pred))"
   ]
  },
  {
   "cell_type": "code",
   "execution_count": 7,
   "metadata": {},
   "outputs": [
    {
     "name": "stdout",
     "output_type": "stream",
     "text": [
      "RMSE : 0.490415\n"
     ]
    }
   ],
   "source": [
    "# Creating the rmse model/variable\n",
    "rmse = np.sqrt(mean_squared_error(y_test,y_pred))\n",
    "print(\"RMSE : %f\" % (rmse))"
   ]
  },
  {
   "cell_type": "code",
   "execution_count": 8,
   "metadata": {},
   "outputs": [
    {
     "name": "stdout",
     "output_type": "stream",
     "text": [
      "status_Active             0.335480\n",
      "status_Returned_90        0.261717\n",
      "status_Returned           0.154003\n",
      "year                      0.122726\n",
      "income                    0.063657\n",
      "status_Decline            0.040562\n",
      "pay_method_ACH            0.006328\n",
      "pay_method_credit card    0.005869\n",
      "pay_method_paper check    0.002917\n",
      "region_central            0.001804\n",
      "region_east               0.001761\n",
      "region_west               0.001617\n",
      "region_south              0.001560\n",
      "dtype: float64\n"
     ]
    }
   ],
   "source": [
    "# Creating the feature importance variable to display \n",
    "feature_imp = pd.Series(clf.feature_importances_, index = X.columns).sort_values(ascending=False)\n",
    "print(feature_imp)"
   ]
  },
  {
   "cell_type": "code",
   "execution_count": null,
   "metadata": {},
   "outputs": [],
   "source": []
  }
 ],
 "metadata": {
  "kernelspec": {
   "display_name": "Python 3",
   "language": "python",
   "name": "python3"
  },
  "language_info": {
   "codemirror_mode": {
    "name": "ipython",
    "version": 3
   },
   "file_extension": ".py",
   "mimetype": "text/x-python",
   "name": "python",
   "nbconvert_exporter": "python",
   "pygments_lexer": "ipython3",
   "version": "3.6.7"
  }
 },
 "nbformat": 4,
 "nbformat_minor": 2
}
