{
 "cells": [
  {
   "cell_type": "code",
   "execution_count": 12,
   "metadata": {},
   "outputs": [
    {
     "data": {
      "text/html": [
       "<div>\n",
       "<style scoped>\n",
       "    .dataframe tbody tr th:only-of-type {\n",
       "        vertical-align: middle;\n",
       "    }\n",
       "\n",
       "    .dataframe tbody tr th {\n",
       "        vertical-align: top;\n",
       "    }\n",
       "\n",
       "    .dataframe thead th {\n",
       "        text-align: right;\n",
       "    }\n",
       "</style>\n",
       "<table border=\"1\" class=\"dataframe\">\n",
       "  <thead>\n",
       "    <tr style=\"text-align: right;\">\n",
       "      <th></th>\n",
       "      <th>Unnamed: 0.1</th>\n",
       "      <th>year</th>\n",
       "      <th>state</th>\n",
       "      <th>lp_amount</th>\n",
       "      <th>status</th>\n",
       "      <th>months</th>\n",
       "      <th>pay_method_ACH</th>\n",
       "      <th>pay_method_Other</th>\n",
       "      <th>pay_method_credit card</th>\n",
       "      <th>pay_method_paper check</th>\n",
       "      <th>...</th>\n",
       "      <th>region_south</th>\n",
       "      <th>region_south_east</th>\n",
       "      <th>region_west</th>\n",
       "      <th>status_Active</th>\n",
       "      <th>status_Decline</th>\n",
       "      <th>status_Returned</th>\n",
       "      <th>status_Returned &lt; 90 days</th>\n",
       "      <th>status_Returned_90</th>\n",
       "      <th>income</th>\n",
       "      <th>18_months</th>\n",
       "    </tr>\n",
       "  </thead>\n",
       "  <tbody>\n",
       "    <tr>\n",
       "      <th>0</th>\n",
       "      <td>0</td>\n",
       "      <td>2014.0</td>\n",
       "      <td>north_east</td>\n",
       "      <td>34.95</td>\n",
       "      <td>Returned_90</td>\n",
       "      <td>0.87</td>\n",
       "      <td>0</td>\n",
       "      <td>0</td>\n",
       "      <td>1</td>\n",
       "      <td>0</td>\n",
       "      <td>...</td>\n",
       "      <td>0</td>\n",
       "      <td>0</td>\n",
       "      <td>0</td>\n",
       "      <td>0</td>\n",
       "      <td>0</td>\n",
       "      <td>0</td>\n",
       "      <td>0</td>\n",
       "      <td>1</td>\n",
       "      <td>0.465506</td>\n",
       "      <td>0</td>\n",
       "    </tr>\n",
       "    <tr>\n",
       "      <th>1</th>\n",
       "      <td>1</td>\n",
       "      <td>2015.0</td>\n",
       "      <td>north_east</td>\n",
       "      <td>29.95</td>\n",
       "      <td>Returned &lt; 90 days</td>\n",
       "      <td>0.00</td>\n",
       "      <td>0</td>\n",
       "      <td>0</td>\n",
       "      <td>1</td>\n",
       "      <td>0</td>\n",
       "      <td>...</td>\n",
       "      <td>0</td>\n",
       "      <td>0</td>\n",
       "      <td>0</td>\n",
       "      <td>0</td>\n",
       "      <td>0</td>\n",
       "      <td>0</td>\n",
       "      <td>1</td>\n",
       "      <td>0</td>\n",
       "      <td>0.465506</td>\n",
       "      <td>0</td>\n",
       "    </tr>\n",
       "    <tr>\n",
       "      <th>2</th>\n",
       "      <td>2</td>\n",
       "      <td>2016.0</td>\n",
       "      <td>north_east</td>\n",
       "      <td>29.95</td>\n",
       "      <td>Switched to LW</td>\n",
       "      <td>0.00</td>\n",
       "      <td>0</td>\n",
       "      <td>0</td>\n",
       "      <td>1</td>\n",
       "      <td>0</td>\n",
       "      <td>...</td>\n",
       "      <td>0</td>\n",
       "      <td>0</td>\n",
       "      <td>0</td>\n",
       "      <td>0</td>\n",
       "      <td>0</td>\n",
       "      <td>0</td>\n",
       "      <td>0</td>\n",
       "      <td>0</td>\n",
       "      <td>0.465506</td>\n",
       "      <td>0</td>\n",
       "    </tr>\n",
       "    <tr>\n",
       "      <th>3</th>\n",
       "      <td>3</td>\n",
       "      <td>2016.0</td>\n",
       "      <td>north_east</td>\n",
       "      <td>39.95</td>\n",
       "      <td>Returned_90</td>\n",
       "      <td>0.67</td>\n",
       "      <td>0</td>\n",
       "      <td>0</td>\n",
       "      <td>1</td>\n",
       "      <td>0</td>\n",
       "      <td>...</td>\n",
       "      <td>0</td>\n",
       "      <td>0</td>\n",
       "      <td>0</td>\n",
       "      <td>0</td>\n",
       "      <td>0</td>\n",
       "      <td>0</td>\n",
       "      <td>0</td>\n",
       "      <td>1</td>\n",
       "      <td>0.465506</td>\n",
       "      <td>0</td>\n",
       "    </tr>\n",
       "    <tr>\n",
       "      <th>4</th>\n",
       "      <td>5</td>\n",
       "      <td>2014.0</td>\n",
       "      <td>north_east</td>\n",
       "      <td>34.95</td>\n",
       "      <td>Decline</td>\n",
       "      <td>0.57</td>\n",
       "      <td>0</td>\n",
       "      <td>0</td>\n",
       "      <td>1</td>\n",
       "      <td>0</td>\n",
       "      <td>...</td>\n",
       "      <td>0</td>\n",
       "      <td>0</td>\n",
       "      <td>0</td>\n",
       "      <td>0</td>\n",
       "      <td>1</td>\n",
       "      <td>0</td>\n",
       "      <td>0</td>\n",
       "      <td>0</td>\n",
       "      <td>0.624609</td>\n",
       "      <td>0</td>\n",
       "    </tr>\n",
       "  </tbody>\n",
       "</table>\n",
       "<p>5 rows × 23 columns</p>\n",
       "</div>"
      ],
      "text/plain": [
       "   Unnamed: 0.1    year       state  lp_amount              status  months  \\\n",
       "0             0  2014.0  north_east      34.95         Returned_90    0.87   \n",
       "1             1  2015.0  north_east      29.95  Returned < 90 days    0.00   \n",
       "2             2  2016.0  north_east      29.95      Switched to LW    0.00   \n",
       "3             3  2016.0  north_east      39.95         Returned_90    0.67   \n",
       "4             5  2014.0  north_east      34.95             Decline    0.57   \n",
       "\n",
       "   pay_method_ACH  pay_method_Other  pay_method_credit card  \\\n",
       "0               0                 0                       1   \n",
       "1               0                 0                       1   \n",
       "2               0                 0                       1   \n",
       "3               0                 0                       1   \n",
       "4               0                 0                       1   \n",
       "\n",
       "   pay_method_paper check    ...      region_south  region_south_east  \\\n",
       "0                       0    ...                 0                  0   \n",
       "1                       0    ...                 0                  0   \n",
       "2                       0    ...                 0                  0   \n",
       "3                       0    ...                 0                  0   \n",
       "4                       0    ...                 0                  0   \n",
       "\n",
       "   region_west  status_Active  status_Decline  status_Returned  \\\n",
       "0            0              0               0                0   \n",
       "1            0              0               0                0   \n",
       "2            0              0               0                0   \n",
       "3            0              0               0                0   \n",
       "4            0              0               1                0   \n",
       "\n",
       "   status_Returned < 90 days  status_Returned_90    income  18_months  \n",
       "0                          0                   1  0.465506          0  \n",
       "1                          1                   0  0.465506          0  \n",
       "2                          0                   0  0.465506          0  \n",
       "3                          0                   1  0.465506          0  \n",
       "4                          0                   0  0.624609          0  \n",
       "\n",
       "[5 rows x 23 columns]"
      ]
     },
     "execution_count": 12,
     "metadata": {},
     "output_type": "execute_result"
    }
   ],
   "source": [
    "# importing the necessary packages\n",
    "import pandas as pd\n",
    "import numpy as np\n",
    "import matplotlib.pyplot as plt\n",
    "from sklearn.model_selection import train_test_split\n",
    "from sklearn.ensemble import RandomForestClassifier\n",
    "from sklearn.metrics import classification_report\n",
    "from sklearn.metrics import f1_score, roc_auc_score, accuracy_score\n",
    "from sklearn import metrics\n",
    "from imblearn.over_sampling import RandomOverSampler\n",
    "\n",
    "# reading in the csv file\n",
    "data = pd.read_csv('final_data.csv', encoding = 'ISO-8859-1', index_col=0, header=0)\n",
    "data.head()"
   ]
  },
  {
   "cell_type": "code",
   "execution_count": 13,
   "metadata": {},
   "outputs": [],
   "source": [
    "# Dropping rows that will not be used in the random forest\n",
    "data = data.drop(['Unnamed: 0.1', 'months', 'state', 'status', 'pay_method_Other'], axis = 1)"
   ]
  },
  {
   "cell_type": "code",
   "execution_count": 16,
   "metadata": {},
   "outputs": [],
   "source": [
    "# Splitting features and target\n",
    "X = data.iloc[:,:-1]\n",
    "Y = data['18_months']\n",
    "\n",
    "# Splitting for training and testing\n",
    "X_train, X_test, y_train, y_test = train_test_split(X, Y, test_size=0.25, random_state=2019)"
   ]
  },
  {
   "cell_type": "code",
   "execution_count": 17,
   "metadata": {},
   "outputs": [],
   "source": [
    "# Using the RandomOverSampler package to deal with the imbalanced dataset\n",
    "random = RandomOverSampler(random_state=2019)\n",
    "X_train_ros, y_train_ros = random.fit_resample(X_train, y_train)"
   ]
  },
  {
   "cell_type": "code",
   "execution_count": 18,
   "metadata": {},
   "outputs": [
    {
     "data": {
      "text/plain": [
       "array([[23764,  1151],\n",
       "       [ 1397,  1396]])"
      ]
     },
     "execution_count": 18,
     "metadata": {},
     "output_type": "execute_result"
    }
   ],
   "source": [
    "# Creating and using the random forest model \n",
    "clf = RandomForestClassifier(n_estimators=100)\n",
    "clf = clf.fit(X_train, y_train)\n",
    "y_pred = clf.predict(X_test)\n",
    "\n",
    "# Creating the confusion matrix\n",
    "cnf_mat = metrics.confusion_matrix(y_test, y_pred)\n",
    "cnf_mat"
   ]
  },
  {
   "cell_type": "code",
   "execution_count": 19,
   "metadata": {},
   "outputs": [
    {
     "name": "stdout",
     "output_type": "stream",
     "text": [
      "              precision    recall  f1-score   support\n",
      "\n",
      "           0       0.94      0.95      0.95     24915\n",
      "           1       0.55      0.50      0.52      2793\n",
      "\n",
      "    accuracy                           0.91     27708\n",
      "   macro avg       0.75      0.73      0.74     27708\n",
      "weighted avg       0.90      0.91      0.91     27708\n",
      "\n"
     ]
    }
   ],
   "source": [
    "# Printing the classification report\n",
    "print(classification_report(y_test, y_pred))"
   ]
  },
  {
   "cell_type": "code",
   "execution_count": 20,
   "metadata": {},
   "outputs": [
    {
     "name": "stdout",
     "output_type": "stream",
     "text": [
      "Accuracy: 0.9080409989894616\n",
      "Precision: 0.5480957989791913\n",
      "Recall: 0.49982098102398853\n"
     ]
    }
   ],
   "source": [
    "# Printing the accuracy, precision, and recall for the classifier\n",
    "print(\"Accuracy:\",metrics.accuracy_score(y_test, y_pred))\n",
    "print(\"Precision:\",metrics.precision_score(y_test, y_pred))\n",
    "print(\"Recall:\",metrics.recall_score(y_test, y_pred))"
   ]
  },
  {
   "cell_type": "code",
   "execution_count": 21,
   "metadata": {},
   "outputs": [
    {
     "name": "stdout",
     "output_type": "stream",
     "text": [
      "F1 Score: 0.9061487180358649\n",
      "AUC: 0.7268119554929293\n"
     ]
    }
   ],
   "source": [
    "# Getting the f1 score for the classifier\n",
    "print(\"F1 Score:\", f1_score(y_test, y_pred, average='weighted'))\n",
    "print(\"AUC:\",roc_auc_score(y_test, y_pred))"
   ]
  },
  {
   "cell_type": "code",
   "execution_count": 22,
   "metadata": {},
   "outputs": [
    {
     "name": "stdout",
     "output_type": "stream",
     "text": [
      "Train Accuracy: 0.9916268662103148\n",
      "Test Accuracy: 0.9080409989894616\n",
      "Train Precision: 0.9804136253041362\n",
      "Test Precision: 0.5480957989791913\n",
      "Train Recall: 0.9377472655340936\n",
      "Test Recall: 0.49982098102398853\n",
      "Train F1: 0.9915442210437967\n",
      "Test F1: 0.9061487180358649\n"
     ]
    }
   ],
   "source": [
    "# Running the trained model on the training and test data to make sure the model is not overfitting\n",
    "\n",
    "# Running accuracy on both sets\n",
    "print(\"Train Accuracy:\",metrics.accuracy_score(y_train, clf.predict(X_train)))\n",
    "print(\"Test Accuracy:\",metrics.accuracy_score(y_test, y_pred))\n",
    "\n",
    "# Running precision on both sets\n",
    "print(\"Train Precision:\",metrics.precision_score(y_train, clf.predict(X_train)))\n",
    "print(\"Test Precision:\",metrics.precision_score(y_test, y_pred))\n",
    "\n",
    "# Running recall on both sets\n",
    "print(\"Train Recall:\",metrics.recall_score(y_train, clf.predict(X_train)))\n",
    "print(\"Test Recall:\",metrics.recall_score(y_test, y_pred))\n",
    "\n",
    "#Running f1 score on both sets\n",
    "print(\"Train F1:\",metrics.f1_score(y_train, clf.predict(X_train), average='weighted'))\n",
    "print(\"Test F1:\",metrics.f1_score(y_test, y_pred, average='weighted'))"
   ]
  },
  {
   "cell_type": "code",
   "execution_count": null,
   "metadata": {},
   "outputs": [],
   "source": []
  }
 ],
 "metadata": {
  "kernelspec": {
   "display_name": "Python 3",
   "language": "python",
   "name": "python3"
  },
  "language_info": {
   "codemirror_mode": {
    "name": "ipython",
    "version": 3
   },
   "file_extension": ".py",
   "mimetype": "text/x-python",
   "name": "python",
   "nbconvert_exporter": "python",
   "pygments_lexer": "ipython3",
   "version": "3.6.7"
  }
 },
 "nbformat": 4,
 "nbformat_minor": 2
}
