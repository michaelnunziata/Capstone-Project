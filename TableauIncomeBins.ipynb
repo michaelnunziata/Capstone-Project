{
 "cells": [
  {
   "cell_type": "code",
   "execution_count": 1,
   "metadata": {},
   "outputs": [
    {
     "data": {
      "text/plain": [
       "Index(['year', 'agent', 'pay_method', 'state', 'zip_code', 'status', 'income',\n",
       "       'months', 'Y', 'pay_method_ACH', 'pay_method_credit card',\n",
       "       'pay_method_paper check', 'region_central', 'region_north_east',\n",
       "       'region_rocky', 'region_south', 'region_south_east', 'region_west',\n",
       "       'status_Active', 'status_Decline', 'status_Returned',\n",
       "       'status_Returned_90'],\n",
       "      dtype='object')"
      ]
     },
     "execution_count": 1,
     "metadata": {},
     "output_type": "execute_result"
    }
   ],
   "source": [
    "import numpy as np\n",
    "import pandas as pd\n",
    "import matplotlib.pyplot as plt\n",
    "\n",
    "# Reading the imputed data csv file\n",
    "data = pd.read_csv('imputed_data.csv', encoding = 'ISO-8859-1', index_col=0, header=0)\n",
    "data.columns"
   ]
  },
  {
   "cell_type": "code",
   "execution_count": 2,
   "metadata": {},
   "outputs": [],
   "source": [
    "# Dropping columns that will not be used in Tableau\n",
    "data = data.drop(['pay_method_ACH', 'pay_method_credit card',\n",
    "       'pay_method_paper check', 'region_central', 'region_north_east',\n",
    "       'region_rocky', 'region_south', 'region_south_east', 'region_west',\n",
    "       'status_Decline', 'status_Returned',\n",
    "       'status_Returned_90'], axis = 1)"
   ]
  },
  {
   "cell_type": "code",
   "execution_count": 6,
   "metadata": {},
   "outputs": [
    {
     "name": "stdout",
     "output_type": "stream",
     "text": [
      "4    12701\n",
      "1    11479\n",
      "3    10404\n",
      "5    10006\n",
      "2     9975\n",
      "Name: income_bins, dtype: int64\n"
     ]
    }
   ],
   "source": [
    "# Creating bins for the income column\n",
    "def bins(x):\n",
    "    if x < 30001:\n",
    "        return 1\n",
    "    if 30001 < x < 35001:\n",
    "        return 2\n",
    "    if 35001 < x < 40001:\n",
    "        return 3\n",
    "    if 40001 < x < 50001:\n",
    "        return 4\n",
    "    if x > 50001:\n",
    "        return 5\n",
    "data['income_bins'] = data['income'].apply(bins)  \n",
    "\n",
    "print(data.income_bins.value_counts())"
   ]
  },
  {
   "cell_type": "code",
   "execution_count": 7,
   "metadata": {},
   "outputs": [],
   "source": [
    "data.to_csv('final_data_tableau.csv',',')"
   ]
  },
  {
   "cell_type": "code",
   "execution_count": null,
   "metadata": {},
   "outputs": [],
   "source": []
  }
 ],
 "metadata": {
  "kernelspec": {
   "display_name": "Python 3",
   "language": "python",
   "name": "python3"
  },
  "language_info": {
   "codemirror_mode": {
    "name": "ipython",
    "version": 3
   },
   "file_extension": ".py",
   "mimetype": "text/x-python",
   "name": "python",
   "nbconvert_exporter": "python",
   "pygments_lexer": "ipython3",
   "version": "3.6.7"
  }
 },
 "nbformat": 4,
 "nbformat_minor": 2
}
