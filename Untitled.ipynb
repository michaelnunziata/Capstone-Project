{
 "cells": [
  {
   "cell_type": "code",
   "execution_count": null,
   "metadata": {},
   "outputs": [],
   "source": [
    "# Up and Down sampling the positive and negative class in the dataset to balance out the dataset\n",
    "\n",
    "# Splitting the dataset into majority and minority classes\n",
    "data_majority = data[data.Y == 0]\n",
    "data_minority = data[data.Y == 1]\n",
    "\n",
    "# Counting the number of rows in each dataframe\n",
    "print(data_majority['Y'].count())\n",
    "print(data_minority['Y'].count())"
   ]
  },
  {
   "cell_type": "code",
   "execution_count": null,
   "metadata": {},
   "outputs": [],
   "source": [
    "# Up and Down sampling the positive and negative class in the dataset to balance out the dataset\n",
    "\n",
    "# Using sklearn's resample function to balance out the dataset into equal value counts\n",
    "data_majority_udownsampled = resample(data_majority, replace=True, n_samples=42324, random_state=2019)\n",
    "data_minority_upsampled = resample(data_minority, replace=True, n_samples=42324, random_state=2019)\n",
    "\n",
    "# Printing the two classes to make sure they are balanced out\n",
    "print(data_majority_udownsampled['Y'].count())\n",
    "print(data_minority_upsampled['Y'].count())\n",
    "\n",
    "#Concatenating the two classes back into one dataframe\n",
    "data_balanced = pd.concat([data_majority_udownsampled, data_minority_upsampled])"
   ]
  },
  {
   "cell_type": "code",
   "execution_count": null,
   "metadata": {},
   "outputs": [],
   "source": [
    "sm = SMOTE(random_state = 2019, ratio = 'minority')\n",
    "X2_train_samp, y2_train_samp = sm.fit_sample(X2_train, y2_train)"
   ]
  }
 ],
 "metadata": {
  "kernelspec": {
   "display_name": "Python 3",
   "language": "python",
   "name": "python3"
  },
  "language_info": {
   "codemirror_mode": {
    "name": "ipython",
    "version": 3
   },
   "file_extension": ".py",
   "mimetype": "text/x-python",
   "name": "python",
   "nbconvert_exporter": "python",
   "pygments_lexer": "ipython3",
   "version": "3.6.7"
  }
 },
 "nbformat": 4,
 "nbformat_minor": 2
}
